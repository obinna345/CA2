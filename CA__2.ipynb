{
 "cells": [
  {
   "cell_type": "markdown",
   "id": "1d1fec3a",
   "metadata": {},
   "source": [
    "## FISH CATCHES IN IRELAND AND IN COMPARISIM TO OTHER E.U COUNTRIES\n"
   ]
  },
  {
   "cell_type": "code",
   "execution_count": 1,
   "id": "1e8e066d",
   "metadata": {},
   "outputs": [],
   "source": [
    "# importing libraries\n",
    "import pandas as pd\n",
    "import numpy as np\n",
    "import matplotlib.pyplot as plt\n",
    "import seaborn as sns\n",
    "import statistics as stats"
   ]
  },
  {
   "cell_type": "code",
   "execution_count": 2,
   "id": "cc0b93df",
   "metadata": {},
   "outputs": [],
   "source": [
    "df=pd.read_csv('fish_capture.csv')"
   ]
  },
  {
   "cell_type": "code",
   "execution_count": 3,
   "id": "1229ed90",
   "metadata": {},
   "outputs": [
    {
     "data": {
      "text/html": [
       "<div>\n",
       "<style scoped>\n",
       "    .dataframe tbody tr th:only-of-type {\n",
       "        vertical-align: middle;\n",
       "    }\n",
       "\n",
       "    .dataframe tbody tr th {\n",
       "        vertical-align: top;\n",
       "    }\n",
       "\n",
       "    .dataframe thead th {\n",
       "        text-align: right;\n",
       "    }\n",
       "</style>\n",
       "<table border=\"1\" class=\"dataframe\">\n",
       "  <thead>\n",
       "    <tr style=\"text-align: right;\">\n",
       "      <th></th>\n",
       "      <th>Country Name</th>\n",
       "      <th>Country Code</th>\n",
       "      <th>Indicator Name</th>\n",
       "      <th>Indicator Code</th>\n",
       "      <th>1960</th>\n",
       "      <th>1961</th>\n",
       "      <th>1962</th>\n",
       "      <th>1963</th>\n",
       "      <th>1964</th>\n",
       "      <th>1965</th>\n",
       "      <th>...</th>\n",
       "      <th>2012</th>\n",
       "      <th>2013</th>\n",
       "      <th>2014</th>\n",
       "      <th>2015</th>\n",
       "      <th>2016</th>\n",
       "      <th>2017</th>\n",
       "      <th>2018</th>\n",
       "      <th>2019</th>\n",
       "      <th>2020</th>\n",
       "      <th>2021</th>\n",
       "    </tr>\n",
       "  </thead>\n",
       "  <tbody>\n",
       "    <tr>\n",
       "      <th>0</th>\n",
       "      <td>Aruba</td>\n",
       "      <td>ABW</td>\n",
       "      <td>Capture fisheries production (metric tons)</td>\n",
       "      <td>ER.FSH.CAPT.MT</td>\n",
       "      <td>200.0</td>\n",
       "      <td>200.0</td>\n",
       "      <td>300.0</td>\n",
       "      <td>300.0</td>\n",
       "      <td>300.0</td>\n",
       "      <td>300.0</td>\n",
       "      <td>...</td>\n",
       "      <td>138.00</td>\n",
       "      <td>145.00</td>\n",
       "      <td>152.00</td>\n",
       "      <td>150.00</td>\n",
       "      <td>150.00</td>\n",
       "      <td>149.00</td>\n",
       "      <td>149.00</td>\n",
       "      <td>163.00</td>\n",
       "      <td>155.00</td>\n",
       "      <td>NaN</td>\n",
       "    </tr>\n",
       "    <tr>\n",
       "      <th>1</th>\n",
       "      <td>Africa Eastern and Southern</td>\n",
       "      <td>AFE</td>\n",
       "      <td>Capture fisheries production (metric tons)</td>\n",
       "      <td>ER.FSH.CAPT.MT</td>\n",
       "      <td>1485740.0</td>\n",
       "      <td>1632169.0</td>\n",
       "      <td>1735664.0</td>\n",
       "      <td>1848486.0</td>\n",
       "      <td>2164132.0</td>\n",
       "      <td>2174850.0</td>\n",
       "      <td>...</td>\n",
       "      <td>3823494.99</td>\n",
       "      <td>3701198.31</td>\n",
       "      <td>3927435.12</td>\n",
       "      <td>4033890.26</td>\n",
       "      <td>4188878.44</td>\n",
       "      <td>4210226.37</td>\n",
       "      <td>4149011.16</td>\n",
       "      <td>4220081.72</td>\n",
       "      <td>4192288.05</td>\n",
       "      <td>NaN</td>\n",
       "    </tr>\n",
       "    <tr>\n",
       "      <th>2</th>\n",
       "      <td>Afghanistan</td>\n",
       "      <td>AFG</td>\n",
       "      <td>Capture fisheries production (metric tons)</td>\n",
       "      <td>ER.FSH.CAPT.MT</td>\n",
       "      <td>200.0</td>\n",
       "      <td>300.0</td>\n",
       "      <td>300.0</td>\n",
       "      <td>300.0</td>\n",
       "      <td>300.0</td>\n",
       "      <td>300.0</td>\n",
       "      <td>...</td>\n",
       "      <td>1300.00</td>\n",
       "      <td>1450.00</td>\n",
       "      <td>1600.00</td>\n",
       "      <td>1750.00</td>\n",
       "      <td>1900.00</td>\n",
       "      <td>2000.00</td>\n",
       "      <td>2050.00</td>\n",
       "      <td>2100.00</td>\n",
       "      <td>2000.00</td>\n",
       "      <td>NaN</td>\n",
       "    </tr>\n",
       "    <tr>\n",
       "      <th>3</th>\n",
       "      <td>Africa Western and Central</td>\n",
       "      <td>AFW</td>\n",
       "      <td>Capture fisheries production (metric tons)</td>\n",
       "      <td>ER.FSH.CAPT.MT</td>\n",
       "      <td>488505.0</td>\n",
       "      <td>513837.0</td>\n",
       "      <td>560769.0</td>\n",
       "      <td>582503.0</td>\n",
       "      <td>646740.0</td>\n",
       "      <td>680876.0</td>\n",
       "      <td>...</td>\n",
       "      <td>3112164.29</td>\n",
       "      <td>3172804.04</td>\n",
       "      <td>3221896.54</td>\n",
       "      <td>3156916.84</td>\n",
       "      <td>3473352.32</td>\n",
       "      <td>4126363.57</td>\n",
       "      <td>4230596.86</td>\n",
       "      <td>4015509.77</td>\n",
       "      <td>3855653.10</td>\n",
       "      <td>NaN</td>\n",
       "    </tr>\n",
       "    <tr>\n",
       "      <th>4</th>\n",
       "      <td>Angola</td>\n",
       "      <td>AGO</td>\n",
       "      <td>Capture fisheries production (metric tons)</td>\n",
       "      <td>ER.FSH.CAPT.MT</td>\n",
       "      <td>257300.0</td>\n",
       "      <td>246800.0</td>\n",
       "      <td>274800.0</td>\n",
       "      <td>245300.0</td>\n",
       "      <td>362000.0</td>\n",
       "      <td>263300.0</td>\n",
       "      <td>...</td>\n",
       "      <td>374000.00</td>\n",
       "      <td>407000.00</td>\n",
       "      <td>442084.00</td>\n",
       "      <td>495232.00</td>\n",
       "      <td>486490.00</td>\n",
       "      <td>531575.00</td>\n",
       "      <td>443066.00</td>\n",
       "      <td>400762.00</td>\n",
       "      <td>377345.00</td>\n",
       "      <td>NaN</td>\n",
       "    </tr>\n",
       "  </tbody>\n",
       "</table>\n",
       "<p>5 rows × 66 columns</p>\n",
       "</div>"
      ],
      "text/plain": [
       "                  Country Name Country Code  \\\n",
       "0                        Aruba          ABW   \n",
       "1  Africa Eastern and Southern          AFE   \n",
       "2                  Afghanistan          AFG   \n",
       "3   Africa Western and Central          AFW   \n",
       "4                       Angola          AGO   \n",
       "\n",
       "                               Indicator Name  Indicator Code       1960  \\\n",
       "0  Capture fisheries production (metric tons)  ER.FSH.CAPT.MT      200.0   \n",
       "1  Capture fisheries production (metric tons)  ER.FSH.CAPT.MT  1485740.0   \n",
       "2  Capture fisheries production (metric tons)  ER.FSH.CAPT.MT      200.0   \n",
       "3  Capture fisheries production (metric tons)  ER.FSH.CAPT.MT   488505.0   \n",
       "4  Capture fisheries production (metric tons)  ER.FSH.CAPT.MT   257300.0   \n",
       "\n",
       "        1961       1962       1963       1964       1965  ...        2012  \\\n",
       "0      200.0      300.0      300.0      300.0      300.0  ...      138.00   \n",
       "1  1632169.0  1735664.0  1848486.0  2164132.0  2174850.0  ...  3823494.99   \n",
       "2      300.0      300.0      300.0      300.0      300.0  ...     1300.00   \n",
       "3   513837.0   560769.0   582503.0   646740.0   680876.0  ...  3112164.29   \n",
       "4   246800.0   274800.0   245300.0   362000.0   263300.0  ...   374000.00   \n",
       "\n",
       "         2013        2014        2015        2016        2017        2018  \\\n",
       "0      145.00      152.00      150.00      150.00      149.00      149.00   \n",
       "1  3701198.31  3927435.12  4033890.26  4188878.44  4210226.37  4149011.16   \n",
       "2     1450.00     1600.00     1750.00     1900.00     2000.00     2050.00   \n",
       "3  3172804.04  3221896.54  3156916.84  3473352.32  4126363.57  4230596.86   \n",
       "4   407000.00   442084.00   495232.00   486490.00   531575.00   443066.00   \n",
       "\n",
       "         2019        2020  2021  \n",
       "0      163.00      155.00   NaN  \n",
       "1  4220081.72  4192288.05   NaN  \n",
       "2     2100.00     2000.00   NaN  \n",
       "3  4015509.77  3855653.10   NaN  \n",
       "4   400762.00   377345.00   NaN  \n",
       "\n",
       "[5 rows x 66 columns]"
      ]
     },
     "execution_count": 3,
     "metadata": {},
     "output_type": "execute_result"
    }
   ],
   "source": [
    "df.head()"
   ]
  },
  {
   "cell_type": "code",
   "execution_count": 4,
   "id": "1057a531",
   "metadata": {},
   "outputs": [],
   "source": [
    "#changing date columns to rows\n",
    "df=df.melt(id_vars=[\"Country Name\", \"Country Code\",'Indicator Name','Indicator Code'], \n",
    "        var_name=\"Date\", \n",
    "        value_name=\"captured fishes (metric tons)\")\n"
   ]
  },
  {
   "cell_type": "code",
   "execution_count": 5,
   "id": "414e002c",
   "metadata": {},
   "outputs": [],
   "source": [
    "#dropping columns\n",
    "df= df.drop(columns= ['Indicator Name', 'Indicator Code'])"
   ]
  },
  {
   "cell_type": "code",
   "execution_count": 6,
   "id": "519560c6",
   "metadata": {},
   "outputs": [
    {
     "name": "stdout",
     "output_type": "stream",
     "text": [
      "number of duplicate rows: (0, 4)\n"
     ]
    }
   ],
   "source": [
    "#checking for duplicate rows\n",
    "duplicate_rows_df=df[df.duplicated()]\n",
    "print(\"number of duplicate rows:\", duplicate_rows_df.shape)"
   ]
  },
  {
   "cell_type": "code",
   "execution_count": 7,
   "id": "3ddc572a",
   "metadata": {},
   "outputs": [
    {
     "name": "stdout",
     "output_type": "stream",
     "text": [
      "Country Name                        0\n",
      "Country Code                        0\n",
      "Date                                0\n",
      "captured fishes (metric tons)    1851\n",
      "dtype: int64\n"
     ]
    }
   ],
   "source": [
    "#checking for null values\n",
    "print(df.isnull().sum())"
   ]
  },
  {
   "cell_type": "code",
   "execution_count": 8,
   "id": "c9b169bb",
   "metadata": {},
   "outputs": [],
   "source": [
    "#dropping null values\n",
    "df = df.dropna()"
   ]
  },
  {
   "cell_type": "code",
   "execution_count": 9,
   "id": "bcd9c6dc",
   "metadata": {
    "scrolled": true
   },
   "outputs": [
    {
     "data": {
      "text/html": [
       "<div>\n",
       "<style scoped>\n",
       "    .dataframe tbody tr th:only-of-type {\n",
       "        vertical-align: middle;\n",
       "    }\n",
       "\n",
       "    .dataframe tbody tr th {\n",
       "        vertical-align: top;\n",
       "    }\n",
       "\n",
       "    .dataframe thead th {\n",
       "        text-align: right;\n",
       "    }\n",
       "</style>\n",
       "<table border=\"1\" class=\"dataframe\">\n",
       "  <thead>\n",
       "    <tr style=\"text-align: right;\">\n",
       "      <th></th>\n",
       "      <th>Country Name</th>\n",
       "      <th>Country Code</th>\n",
       "      <th>Date</th>\n",
       "      <th>captured fishes (metric tons)</th>\n",
       "    </tr>\n",
       "  </thead>\n",
       "  <tbody>\n",
       "    <tr>\n",
       "      <th>0</th>\n",
       "      <td>Aruba</td>\n",
       "      <td>ABW</td>\n",
       "      <td>1960</td>\n",
       "      <td>200.0</td>\n",
       "    </tr>\n",
       "    <tr>\n",
       "      <th>1</th>\n",
       "      <td>Africa Eastern and Southern</td>\n",
       "      <td>AFE</td>\n",
       "      <td>1960</td>\n",
       "      <td>1485740.0</td>\n",
       "    </tr>\n",
       "    <tr>\n",
       "      <th>2</th>\n",
       "      <td>Afghanistan</td>\n",
       "      <td>AFG</td>\n",
       "      <td>1960</td>\n",
       "      <td>200.0</td>\n",
       "    </tr>\n",
       "    <tr>\n",
       "      <th>3</th>\n",
       "      <td>Africa Western and Central</td>\n",
       "      <td>AFW</td>\n",
       "      <td>1960</td>\n",
       "      <td>488505.0</td>\n",
       "    </tr>\n",
       "    <tr>\n",
       "      <th>4</th>\n",
       "      <td>Angola</td>\n",
       "      <td>AGO</td>\n",
       "      <td>1960</td>\n",
       "      <td>257300.0</td>\n",
       "    </tr>\n",
       "  </tbody>\n",
       "</table>\n",
       "</div>"
      ],
      "text/plain": [
       "                  Country Name Country Code  Date  \\\n",
       "0                        Aruba          ABW  1960   \n",
       "1  Africa Eastern and Southern          AFE  1960   \n",
       "2                  Afghanistan          AFG  1960   \n",
       "3   Africa Western and Central          AFW  1960   \n",
       "4                       Angola          AGO  1960   \n",
       "\n",
       "   captured fishes (metric tons)  \n",
       "0                          200.0  \n",
       "1                      1485740.0  \n",
       "2                          200.0  \n",
       "3                       488505.0  \n",
       "4                       257300.0  "
      ]
     },
     "execution_count": 9,
     "metadata": {},
     "output_type": "execute_result"
    }
   ],
   "source": [
    "df.head()"
   ]
  },
  {
   "cell_type": "markdown",
   "id": "26b171a3",
   "metadata": {},
   "source": [
    "\n",
    "\n",
    "\n",
    "## DATA FOR THE E.U"
   ]
  },
  {
   "cell_type": "code",
   "execution_count": 10,
   "id": "49ce54d7",
   "metadata": {},
   "outputs": [
    {
     "data": {
      "text/html": [
       "<div>\n",
       "<style scoped>\n",
       "    .dataframe tbody tr th:only-of-type {\n",
       "        vertical-align: middle;\n",
       "    }\n",
       "\n",
       "    .dataframe tbody tr th {\n",
       "        vertical-align: top;\n",
       "    }\n",
       "\n",
       "    .dataframe thead th {\n",
       "        text-align: right;\n",
       "    }\n",
       "</style>\n",
       "<table border=\"1\" class=\"dataframe\">\n",
       "  <thead>\n",
       "    <tr style=\"text-align: right;\">\n",
       "      <th></th>\n",
       "      <th>Country Name</th>\n",
       "      <th>Country Code</th>\n",
       "      <th>Date</th>\n",
       "      <th>captured fishes (metric tons)</th>\n",
       "    </tr>\n",
       "  </thead>\n",
       "  <tbody>\n",
       "    <tr>\n",
       "      <th>14</th>\n",
       "      <td>Austria</td>\n",
       "      <td>AUT</td>\n",
       "      <td>1960</td>\n",
       "      <td>3550.0</td>\n",
       "    </tr>\n",
       "    <tr>\n",
       "      <th>280</th>\n",
       "      <td>Austria</td>\n",
       "      <td>AUT</td>\n",
       "      <td>1961</td>\n",
       "      <td>3540.0</td>\n",
       "    </tr>\n",
       "    <tr>\n",
       "      <th>546</th>\n",
       "      <td>Austria</td>\n",
       "      <td>AUT</td>\n",
       "      <td>1962</td>\n",
       "      <td>3830.0</td>\n",
       "    </tr>\n",
       "    <tr>\n",
       "      <th>812</th>\n",
       "      <td>Austria</td>\n",
       "      <td>AUT</td>\n",
       "      <td>1963</td>\n",
       "      <td>4000.0</td>\n",
       "    </tr>\n",
       "    <tr>\n",
       "      <th>1078</th>\n",
       "      <td>Austria</td>\n",
       "      <td>AUT</td>\n",
       "      <td>1964</td>\n",
       "      <td>4220.0</td>\n",
       "    </tr>\n",
       "  </tbody>\n",
       "</table>\n",
       "</div>"
      ],
      "text/plain": [
       "     Country Name Country Code  Date  captured fishes (metric tons)\n",
       "14        Austria          AUT  1960                         3550.0\n",
       "280       Austria          AUT  1961                         3540.0\n",
       "546       Austria          AUT  1962                         3830.0\n",
       "812       Austria          AUT  1963                         4000.0\n",
       "1078      Austria          AUT  1964                         4220.0"
      ]
     },
     "execution_count": 10,
     "metadata": {},
     "output_type": "execute_result"
    }
   ],
   "source": [
    "# Create a dataframe with only the rows for the specified EU countries and \n",
    "#sort it in ascending order by country name and date\n",
    "\n",
    "df_eu = (df.apply(lambda row: row[df['Country Name'].isin\n",
    "        (['Austria', 'Belgium', 'Bulgaria', 'Croatia','Cyprus', 'Czech Republic', \n",
    "          'Denmark', 'Estonia', 'Finland', 'France', 'Germany', 'Greece', 'Hungary', 'Ireland', 'Italy', \n",
    "          'Latvia', 'Lithuania', 'Luxembourg', 'Malta', 'Netherlands', 'Poland', 'Portugal', 'Romania',\n",
    "          'Slovakia', 'Slovenia', 'Spain', 'Sweden'])])).sort_values(by=['Country Name','Date'], ascending=True)\n",
    "\n",
    "# Print the first 5 rows of the resulting dataframe\n",
    "df_eu.head()\n"
   ]
  },
  {
   "cell_type": "code",
   "execution_count": 11,
   "id": "f32c77b5",
   "metadata": {},
   "outputs": [
    {
     "data": {
      "text/plain": [
       "count       1377\n",
       "mean      269246\n",
       "std       371072\n",
       "min          263\n",
       "25%         9336\n",
       "50%       135467\n",
       "75%       348441\n",
       "max      2013518\n",
       "dtype: int64"
      ]
     },
     "execution_count": 11,
     "metadata": {},
     "output_type": "execute_result"
    }
   ],
   "source": [
    "#descriptive statistics of dataframe\n",
    "df_eu.describe().apply(lambda x: int(x), axis=1)"
   ]
  },
  {
   "cell_type": "markdown",
   "id": "8e297adf",
   "metadata": {},
   "source": [
    "# STATISTICS"
   ]
  },
  {
   "cell_type": "markdown",
   "id": "f2766a58",
   "metadata": {},
   "source": [
    "##### CHECKING THE NORMALITY OF THE DATA"
   ]
  },
  {
   "cell_type": "code",
   "execution_count": 12,
   "id": "4e29cd6a",
   "metadata": {},
   "outputs": [
    {
     "data": {
      "image/png": "[encoded data removed]",
      "text/plain": [
       "<Figure size 432x288 with 1 Axes>"
      ]
     },
     "metadata": {
      "needs_background": "light"
     },
     "output_type": "display_data"
    }
   ],
   "source": [
    "import scipy.stats as stats\n",
    "import matplotlib.pyplot as plt\n",
    "\n",
    "# Select the column of interest from the dataframe\n",
    "data = df_eu[df_eu['Country Name'] == 'Ireland']['captured fishes (metric tons)']\n",
    "\n",
    "# Create the Q-Q plot\n",
    "stats.probplot(data, plot=plt)\n",
    "\n",
    "# Show the plot\n",
    "plt.show()\n",
    "\n"
   ]
  },
  {
   "cell_type": "code",
   "execution_count": 13,
   "id": "057f8d8d",
   "metadata": {},
   "outputs": [
    {
     "data": {
      "image/png": "[encoded data removed]",
      "text/plain": [
       "<Figure size 432x288 with 1 Axes>"
      ]
     },
     "metadata": {
      "needs_background": "light"
     },
     "output_type": "display_data"
    }
   ],
   "source": [
    "# Select the column of interest from the dataframe\n",
    "data = df_eu[df_eu['Country Name'] == 'Finland']['captured fishes (metric tons)']\n",
    "\n",
    "# Create the Q-Q plot\n",
    "stats.probplot(data, plot=plt)\n",
    "\n",
    "# Show the plot\n",
    "plt.show()\n",
    "\n"
   ]
  },
  {
   "cell_type": "code",
   "execution_count": 14,
   "id": "b6cc9b55",
   "metadata": {},
   "outputs": [
    {
     "data": {
      "image/png": "[encoded data removed]",
      "text/plain": [
       "<Figure size 432x288 with 1 Axes>"
      ]
     },
     "metadata": {
      "needs_background": "light"
     },
     "output_type": "display_data"
    }
   ],
   "source": [
    "# Select the column of interest from the dataframe\n",
    "data = df_eu[df_eu['Country Name'] == 'Spain']['captured fishes (metric tons)']\n",
    "\n",
    "# Create the Q-Q plot\n",
    "stats.probplot(data, plot=plt)\n",
    "\n",
    "# Show the plot\n",
    "plt.show()\n"
   ]
  },
  {
   "cell_type": "code",
   "execution_count": 15,
   "id": "2278125b",
   "metadata": {},
   "outputs": [],
   "source": [
    "from scipy.stats import shapiro\n",
    "\n",
    "def test_normality(df, country_name):\n",
    "    data = df_eu[df_eu['Country Name'] == country_name]['captured fishes (metric tons)']\n",
    "    stat, p = shapiro(data)\n",
    "    alpha = 0.05\n",
    "    if p > alpha:\n",
    "        print(f\"Cannot reject the null hypothesis of normality for {country_name}\")\n",
    "    else:\n",
    "        print(f\"Reject the null hypothesis of normality for {country_name}\")\n",
    "    print(f\"p-value: {p:.3f}\")\n",
    "    print(f\"Test Statistic: {stat:.3f}\")\n"
   ]
  },
  {
   "cell_type": "code",
   "execution_count": 16,
   "id": "4c26095e",
   "metadata": {},
   "outputs": [
    {
     "name": "stdout",
     "output_type": "stream",
     "text": [
      "Reject the null hypothesis of normality for Ireland\n",
      "p-value: 0.000\n",
      "Test Statistic: 0.914\n"
     ]
    }
   ],
   "source": [
    "test_normality(df_eu, 'Ireland')"
   ]
  },
  {
   "cell_type": "code",
   "execution_count": 17,
   "id": "ed320758",
   "metadata": {},
   "outputs": [
    {
     "name": "stdout",
     "output_type": "stream",
     "text": [
      "Reject the null hypothesis of normality for Spain\n",
      "p-value: 0.037\n",
      "Test Statistic: 0.958\n"
     ]
    }
   ],
   "source": [
    "test_normality(df_eu, 'Spain')"
   ]
  },
  {
   "cell_type": "code",
   "execution_count": 18,
   "id": "19467671",
   "metadata": {},
   "outputs": [
    {
     "name": "stdout",
     "output_type": "stream",
     "text": [
      "Reject the null hypothesis of normality for Finland\n",
      "p-value: 0.000\n",
      "Test Statistic: 0.909\n"
     ]
    }
   ],
   "source": [
    "test_normality(df_eu, 'Finland')"
   ]
  },
  {
   "cell_type": "code",
   "execution_count": 19,
   "id": "5e0c8355",
   "metadata": {},
   "outputs": [
    {
     "name": "stdout",
     "output_type": "stream",
     "text": [
      "Reject the null hypothesis of normality for Italy\n",
      "p-value: 0.011\n",
      "Test Statistic: 0.947\n"
     ]
    }
   ],
   "source": [
    "test_normality(df_eu, 'Italy')"
   ]
  },
  {
   "cell_type": "code",
   "execution_count": 20,
   "id": "4b0b5b19",
   "metadata": {},
   "outputs": [
    {
     "name": "stdout",
     "output_type": "stream",
     "text": [
      "Reject the null hypothesis of normality for Lithuania\n",
      "p-value: 0.000\n",
      "Test Statistic: 0.764\n"
     ]
    }
   ],
   "source": [
    "test_normality(df_eu, 'Lithuania')"
   ]
  },
  {
   "cell_type": "code",
   "execution_count": 21,
   "id": "3af392ef",
   "metadata": {},
   "outputs": [
    {
     "name": "stdout",
     "output_type": "stream",
     "text": [
      "Reject the null hypothesis of normality for Bulgaria\n",
      "p-value: 0.000\n",
      "Test Statistic: 0.778\n"
     ]
    }
   ],
   "source": [
    "test_normality(df_eu, 'Bulgaria')"
   ]
  },
  {
   "cell_type": "code",
   "execution_count": 22,
   "id": "e675b7c9",
   "metadata": {},
   "outputs": [
    {
     "name": "stdout",
     "output_type": "stream",
     "text": [
      "Reject the null hypothesis of normality for Denmark\n",
      "p-value: 0.000\n",
      "Test Statistic: 0.894\n"
     ]
    }
   ],
   "source": [
    "test_normality(df_eu,  'Denmark')"
   ]
  },
  {
   "cell_type": "code",
   "execution_count": 23,
   "id": "ceb2963b",
   "metadata": {},
   "outputs": [
    {
     "name": "stdout",
     "output_type": "stream",
     "text": [
      "Reject the null hypothesis of normality for Sweden\n",
      "p-value: 0.006\n",
      "Test Statistic: 0.943\n"
     ]
    }
   ],
   "source": [
    "test_normality(df_eu,  'Sweden')"
   ]
  },
  {
   "cell_type": "markdown",
   "id": "8b06488e",
   "metadata": {},
   "source": [
    "###### average fish capture in ireland is greater than the average fish capture in spain and finland"
   ]
  },
  {
   "cell_type": "markdown",
   "id": "80bc4800",
   "metadata": {},
   "source": [
    "## Kruskal"
   ]
  },
  {
   "cell_type": "code",
   "execution_count": 24,
   "id": "3c60e1a7",
   "metadata": {},
   "outputs": [
    {
     "name": "stdout",
     "output_type": "stream",
     "text": [
      "Test statistic: nan, p-value: nan\n",
      "There is a significant difference (reject H0)\n"
     ]
    }
   ],
   "source": [
    "# Create dataframe\n",
    "data = df_eu[df_eu['Country Name'] == 'Ireland']\n",
    "# Select data for Ireland, Spain, and Finland\n",
    "ireland = data[data['Country Name'] == 'Ireland']['captured fishes (metric tons)']\n",
    "spain = data[data['Country Name'] == 'Spain']['captured fishes (metric tons)']\n",
    "finland = data[data['Country Name'] == 'Finland']['captured fishes (metric tons)']\n",
    "\n",
    "# Perform Kruskal-Wallis H-test\n",
    "stat, p = stats.kruskal(ireland, spain, finland)\n",
    "print(f'Test statistic: {stat}, p-value: {p}')\n",
    "\n",
    "# Interpret the results\n",
    "alpha = 0.05  # significance level\n",
    "if p > alpha:\n",
    "    print('There is no significant difference (fail to reject H0)')\n",
    "else:\n",
    "    print('There is a significant difference (reject H0)')\n"
   ]
  },
  {
   "cell_type": "markdown",
   "id": "2742c970",
   "metadata": {},
   "source": [
    "###### The friedmanchisquare function from the scipy.stats module requires that the input arrays have the same length, because the samples are assumed to be paired. If the arrays have different lengths, the function will raise a ValueError with the message \"Unequal N in friedmanchisquare. Aborting.\"\n",
    "\n",
    "To fix this error, you can check the lengths of the arrays and make sure that they are equal. If they are not equal, you can either remove the extra values from the longer arrays, or you can pad the shorter arrays with missing values (e.g., np.nan for numeric arrays or None for object arrays)."
   ]
  },
  {
   "cell_type": "code",
   "execution_count": 25,
   "id": "2a28780d",
   "metadata": {},
   "outputs": [
    {
     "name": "stdout",
     "output_type": "stream",
     "text": [
      "Test statistic: 122.0, p-value: 3.2213402859925253e-27\n",
      "There is a significant difference (reject H0)\n"
     ]
    }
   ],
   "source": [
    "import numpy as np\n",
    "from scipy.stats import friedmanchisquare\n",
    "\n",
    "# Assume that the arrays `ireland`, `spain`, and `finland` have already been defined\n",
    "\n",
    "# Check the lengths of the arrays\n",
    "len_ireland = len(ireland)\n",
    "len_spain = len(spain)\n",
    "len_finland = len(finland)\n",
    "\n",
    "# Find the length of the longest array\n",
    "max_len = max(len_ireland, len_spain, len_finland)\n",
    "\n",
    "# Pad the shorter arrays with missing values\n",
    "if len_ireland < max_len:\n",
    "    ireland = np.pad(ireland, (0, max_len - len_ireland), 'constant', constant_values=np.nan)\n",
    "if len_spain < max_len:\n",
    "    spain = np.pad(spain, (0, max_len - len_spain), 'constant', constant_values=np.nan)\n",
    "if len_finland < max_len:\n",
    "    finland = np.pad(finland, (0, max_len - len_finland), 'constant', constant_values=np.nan)\n",
    "\n",
    "# Perform Friedman test\n",
    "stat, p = friedmanchisquare(ireland, spain, finland)\n",
    "print(f'Test statistic: {stat}, p-value: {p}')\n",
    "\n",
    "# Interpret the results\n",
    "alpha = 0.05  # significance level\n",
    "if p > alpha:\n",
    "    print('There is no significant difference (fail to reject H0)')\n",
    "else:\n",
    "    print('There is a significant difference (reject H0)')\n"
   ]
  },
  {
   "cell_type": "code",
   "execution_count": null,
   "id": "2c4cd465",
   "metadata": {},
   "outputs": [],
   "source": []
  },
  {
   "cell_type": "markdown",
   "id": "a2f31a20",
   "metadata": {},
   "source": [
    "This code will perform a Wilcoxon rank-sum test to compare the median capture fish (in metric tons) for Ireland and Spain. The test statistic and p-value are calculated using the ranksums() function from the scipy.stats module. The p-value is then compared to the significance level (alpha) of 0.05 to determine whether there is a significant difference between the medians. If the p-value is less than alpha, it suggests that the medians are significantly different and the null hypothesis (H0) can be rejected. If the p-value is greater than alpha, it suggests that the medians are not significantly different and the null hypothesis cannot be rejected."
   ]
  },
  {
   "cell_type": "code",
   "execution_count": 26,
   "id": "719f7f33",
   "metadata": {},
   "outputs": [
    {
     "name": "stdout",
     "output_type": "stream",
     "text": [
      "Test statistic: -9.52659947520497, p-value: 1.625196367600529e-21\n",
      "There is a significant difference (reject H0)\n"
     ]
    },
    {
     "data": {
      "image/png": "[encoded data removed]",
      "text/plain": [
       "<Figure size 432x288 with 1 Axes>"
      ]
     },
     "metadata": {
      "needs_background": "light"
     },
     "output_type": "display_data"
    }
   ],
   "source": [
    "import pandas as pd\n",
    "import scipy.stats as stats\n",
    "import matplotlib.pyplot as plt\n",
    "\n",
    "# Create dataframe\n",
    "data = df_eu[df_eu['Country Name'].isin(['Ireland', 'Denmark'])]\n",
    "\n",
    "# Select data for Ireland and Denmark\n",
    "ireland = data[data['Country Name'] == 'Ireland']['captured fishes (metric tons)']\n",
    "denmark = data[data['Country Name'] == 'Denmark']['captured fishes (metric tons)']\n",
    "\n",
    "# Perform Wilcoxon rank-sum test\n",
    "stat, p = stats.ranksums(ireland, denmark)\n",
    "print(f'Test statistic: {stat}, p-value: {p}')\n",
    "\n",
    "# Interpret the results\n",
    "alpha = 0.05  # significance level\n",
    "if p > alpha:\n",
    "    print('There is no significant difference (fail to reject H0)')\n",
    "else:\n",
    "    print('There is a significant difference (reject H0)')\n",
    "\n",
    "# Plot data\n",
    "plt.hist(ireland, alpha=0.5, label='Ireland')\n",
    "plt.hist(denmark, alpha=0.5, label='Denmark')\n",
    "plt.legend()\n",
    "plt.show()\n",
    "\n"
   ]
  },
  {
   "cell_type": "markdown",
   "id": "cc5d90dd",
   "metadata": {},
   "source": [
    "To perform a Mann-Whitney U test (also known as a Wilcoxon rank-sum test) comparing the median captured fish (in metric tons) for Ireland and Denmark, you can use the following code:"
   ]
  },
  {
   "cell_type": "code",
   "execution_count": 27,
   "id": "539a0fee",
   "metadata": {},
   "outputs": [
    {
     "name": "stdout",
     "output_type": "stream",
     "text": [
      "Test statistic: 1489.0, p-value: 0.05747415499305959\n",
      "There is no significant difference (fail to reject H0)\n"
     ]
    },
    {
     "data": {
      "image/png": "[encoded data removed]",
      "text/plain": [
       "<Figure size 432x288 with 1 Axes>"
      ]
     },
     "metadata": {
      "needs_background": "light"
     },
     "output_type": "display_data"
    }
   ],
   "source": [
    "import pandas as pd\n",
    "import scipy.stats as stats\n",
    "import matplotlib.pyplot as plt\n",
    "\n",
    "# Create dataframe\n",
    "data = df_eu[df_eu['Country Name'].isin(['Ireland', 'Sweden'])]\n",
    "\n",
    "# Select data for Ireland and Denmark\n",
    "ireland = data[data['Country Name'] == 'Ireland']['captured fishes (metric tons)']\n",
    "denmark = data[data['Country Name'] == 'Sweden']['captured fishes (metric tons)']\n",
    "\n",
    "# Perform Mann-Whitney U test\n",
    "stat, p = stats.mannwhitneyu(ireland, denmark)\n",
    "print(f'Test statistic: {stat}, p-value: {p}')\n",
    "\n",
    "# Interpret the results\n",
    "alpha = 0.05  # significance level\n",
    "if p > alpha:\n",
    "    print('There is no significant difference (fail to reject H0)')\n",
    "else:\n",
    "    print('There is a significant difference (reject H0)')\n",
    "\n",
    "# Plot data\n",
    "plt.hist(ireland, alpha=0.5, label='Ireland')\n",
    "plt.hist(denmark, alpha=0.5, label='Sweden')\n",
    "plt.legend()\n",
    "plt.show()\n"
   ]
  },
  {
   "cell_type": "code",
   "execution_count": 28,
   "id": "fb0b3964",
   "metadata": {},
   "outputs": [
    {
     "name": "stdout",
     "output_type": "stream",
     "text": [
      "captured fishes (metric tons)  26500.00   28500.00   30900.00   31200.00   \\\n",
      "Country Name                                                                \n",
      "Ireland                                1          1          1          1   \n",
      "Italy                                  0          0          0          0   \n",
      "\n",
      "captured fishes (metric tons)  34600.00   38800.00   40700.00   48900.00   \\\n",
      "Country Name                                                                \n",
      "Ireland                                1          1          1          1   \n",
      "Italy                                  0          0          0          0   \n",
      "\n",
      "captured fishes (metric tons)  50500.00   63500.00   ...  426700.00  \\\n",
      "Country Name                                         ...              \n",
      "Ireland                                1          1  ...          0   \n",
      "Italy                                  0          0  ...          1   \n",
      "\n",
      "captured fishes (metric tons)  430152.09  430265.50  439227.38  443729.68  \\\n",
      "Country Name                                                                \n",
      "Ireland                                0          0          0          0   \n",
      "Italy                                  1          1          1          1   \n",
      "\n",
      "captured fishes (metric tons)  449270.66  454107.48  457244.43  482302.23  \\\n",
      "Country Name                                                                \n",
      "Ireland                                0          0          0          0   \n",
      "Italy                                  1          1          1          1   \n",
      "\n",
      "captured fishes (metric tons)  484030.73  \n",
      "Country Name                              \n",
      "Ireland                                0  \n",
      "Italy                                  1  \n",
      "\n",
      "[2 rows x 122 columns]\n",
      "Test statistic: 122.0, p-value: 0.4574148438200867\n",
      "There is no significant association (fail to reject H0)\n"
     ]
    }
   ],
   "source": [
    "# Create dataframe\n",
    "data = df_eu[df_eu['Country Name'].isin(['Ireland', 'Italy'])]\n",
    "\n",
    "# Create contingency table\n",
    "ct = pd.crosstab(data['Country Name'], data['captured fishes (metric tons)'])\n",
    "print(ct)\n",
    "\n",
    "# Perform chi-square test\n",
    "stat, p, dof, expected = stats.chi2_contingency(ct)\n",
    "print(f'Test statistic: {stat}, p-value: {p}')\n",
    "\n",
    "# Interpret the results\n",
    "alpha = 0.05  # significance level\n",
    "if p > alpha:\n",
    "    print('There is no significant association (fail to reject H0)')\n",
    "else:\n",
    "    print('There is a significant association (reject H0)')\n"
   ]
  },
  {
   "cell_type": "code",
   "execution_count": null,
   "id": "153fb7c6",
   "metadata": {},
   "outputs": [],
   "source": []
  },
  {
   "cell_type": "markdown",
   "id": "7ec904c7",
   "metadata": {},
   "source": [
    "# VIRTUALIZATION"
   ]
  },
  {
   "cell_type": "code",
   "execution_count": 29,
   "id": "838c924a",
   "metadata": {},
   "outputs": [],
   "source": [
    "#Line graph to show the trend of captured fishes in ireland from 1960-2020\n",
    "#geo virtualisation to show ireland compared to other E.U countries\n",
    "#histogram to show the average number of fish captures in E.U countries from 1960-2020"
   ]
  },
  {
   "cell_type": "code",
   "execution_count": null,
   "id": "74926fbc",
   "metadata": {},
   "outputs": [],
   "source": [
    "import plotly.express as px"
   ]
  },
  {
   "cell_type": "code",
   "execution_count": null,
   "id": "c903e00a",
   "metadata": {},
   "outputs": [],
   "source": [
    "# Filter the dataframe to include only rows for Ireland\n",
    "df_ireland = df_eu[df_eu['Country Name'] == 'Ireland']\n",
    "# Create the line chart\n",
    "fig = px.line(df_ireland, x='Date', y='captured fishes (metric tons)', title='Captured Fishes in Ireland')\n",
    "# Set the gridline color\n",
    "fig.update_layout(\n",
    "    xaxis=dict(\n",
    "        showgrid=True,\n",
    "        gridcolor='#bdbdbd'\n",
    "    ),\n",
    "    yaxis=dict(\n",
    "        showgrid=True,\n",
    "        gridcolor='#bdbdbd'\n",
    "    )\n",
    ")\n",
    "\n",
    "\n",
    "fig.show()\n",
    "\n"
   ]
  },
  {
   "cell_type": "code",
   "execution_count": null,
   "id": "6cd6c57f",
   "metadata": {},
   "outputs": [],
   "source": []
  },
  {
   "cell_type": "code",
   "execution_count": null,
   "id": "7a1fe865",
   "metadata": {},
   "outputs": [],
   "source": [
    " \n",
    "\n",
    "custom_color_scale = ['#FF0000', '#FFFF00', '#00FF00']\n",
    "\n",
    "fig = px.choropleth(df_eu,\n",
    "                    locations='Country Code',\n",
    "                    color='captured fishes (metric tons)',\n",
    "                    hover_name='Country Name',\n",
    "                    animation_frame='Date',\n",
    "                    title='Captured Fishes by Country',\n",
    "                    height=900,\n",
    "                    color_continuous_scale=custom_color_scale)\n",
    "\n",
    "fig.update_layout(title_text= \"Fish Catches In E.U Countries\",\n",
    "                  geo_scope='europe')\n",
    "fig.show()\n",
    "\n"
   ]
  },
  {
   "cell_type": "code",
   "execution_count": null,
   "id": "b8dce4f3",
   "metadata": {},
   "outputs": [],
   "source": []
  },
  {
   "cell_type": "code",
   "execution_count": null,
   "id": "d432098c",
   "metadata": {},
   "outputs": [],
   "source": []
  },
  {
   "cell_type": "markdown",
   "id": "b71a122b",
   "metadata": {},
   "source": [
    "## THE TOTAL AVERAGE OF FISH CATCHES FOR E.U COUNTRIES FROM 1960-2020"
   ]
  },
  {
   "cell_type": "code",
   "execution_count": null,
   "id": "1a2d26d8",
   "metadata": {},
   "outputs": [],
   "source": [
    "# Group the data by country\n",
    "df_grouped = df_eu.groupby(['Country Name'])\n",
    "\n",
    "# Calculate the average for each group\n",
    "df_averages = df_grouped['captured fishes (metric tons)'].mean()\n",
    "\n",
    "# Round the values in the 'captured fishes (metric tons)' column to the nearest integer\n",
    "df_averages = df_averages.round()\n",
    "\n",
    "# Reset the index to make the country column a regular column\n",
    "df_averages = df_averages.reset_index()\n",
    "\n",
    "# Print the resulting dataframe\n",
    "print(df_averages)\n"
   ]
  },
  {
   "cell_type": "code",
   "execution_count": null,
   "id": "27bb0783",
   "metadata": {},
   "outputs": [],
   "source": [
    "fig = px.histogram(df_averages, x='Country Name', y='captured fishes (metric tons)', title='Average Captured Fishes (Metric Tons) in all E.U countries 1960-2020')\n",
    "fig.show()\n"
   ]
  },
  {
   "cell_type": "code",
   "execution_count": null,
   "id": "b150a523",
   "metadata": {},
   "outputs": [],
   "source": []
  },
  {
   "cell_type": "markdown",
   "id": "03b9a42d",
   "metadata": {},
   "source": [
    "# DASHBOARD"
   ]
  },
  {
   "cell_type": "code",
   "execution_count": null,
   "id": "e13f01ad",
   "metadata": {},
   "outputs": [],
   "source": [
    "#USING THE GEODATA MAP TO CREATE A WEB DASHBOARD"
   ]
  },
  {
   "cell_type": "code",
   "execution_count": null,
   "id": "58075cd6",
   "metadata": {},
   "outputs": [],
   "source": [
    "#pip install dash"
   ]
  },
  {
   "cell_type": "code",
   "execution_count": null,
   "id": "1781287f",
   "metadata": {},
   "outputs": [],
   "source": [
    "import dash\n",
    "from dash import dcc\n",
    "from dash import html\n",
    "from dash.dependencies import Input, Output"
   ]
  },
  {
   "cell_type": "code",
   "execution_count": null,
   "id": "c24e26d1",
   "metadata": {},
   "outputs": [],
   "source": [
    "app = dash.Dash()\n",
    "\n",
    "# Get a list of all the countries in the dataframe\n",
    "countries = df_eu['Country Name'].unique()\n",
    "\n",
    "app.layout = html.Div([\n",
    "    # Dropdown menu for selecting countries\n",
    "    dcc.Dropdown(\n",
    "        id='countries-dropdown',\n",
    "        options=[{'label': c, 'value': c} for c in countries],\n",
    "        multi=True,\n",
    "        value=['Ireland', 'Germany']\n",
    "    ),\n",
    "    # Choropleth map\n",
    "    dcc.Graph(\n",
    "        id='choropleth-map'\n",
    "    )\n",
    "])\n",
    "\n",
    "@app.callback(\n",
    "    Output('choropleth-map', 'figure'),\n",
    "    [Input('countries-dropdown', 'value')]\n",
    ")\n",
    "def update_map(selected_countries):\n",
    "    # Filter the dataframe by the selected countries\n",
    "    df_filtered = df_eu[df_eu['Country Name'].isin(selected_countries)]\n",
    "    \n",
    "    # Create the figure with the filtered data\n",
    "    fig = px.choropleth(df_filtered,\n",
    "                        locations='Country Code',\n",
    "                        color='captured fishes (metric tons)',\n",
    "                        hover_name='Country Name',\n",
    "                        animation_frame='Date',\n",
    "                        title='Captured Fishes by Country',\n",
    "                        height=900,\n",
    "                        color_continuous_scale=custom_color_scale)\n",
    "\n",
    "    fig.update_layout(title_text= \"Fish Catches In E.U Countries\",\n",
    "                      geo_scope='europe')\n",
    "    return fig\n",
    "\n",
    "if __name__ == '__main__':\n",
    "#    app.run_server()\n"
   ]
  },
  {
   "cell_type": "code",
   "execution_count": null,
   "id": "35465a6a",
   "metadata": {},
   "outputs": [],
   "source": []
  },
  {
   "cell_type": "code",
   "execution_count": null,
   "id": "146170a4",
   "metadata": {},
   "outputs": [],
   "source": []
  },
  {
   "cell_type": "code",
   "execution_count": null,
   "id": "16e8057c",
   "metadata": {},
   "outputs": [],
   "source": []
  },
  {
   "cell_type": "code",
   "execution_count": null,
   "id": "0b3f7ef1",
   "metadata": {},
   "outputs": [],
   "source": []
  },
  {
   "cell_type": "markdown",
   "id": "9e08f4de",
   "metadata": {},
   "source": [
    "# SENTIMENT ANALYSIS"
   ]
  },
  {
   "cell_type": "code",
   "execution_count": null,
   "id": "df233136",
   "metadata": {},
   "outputs": [],
   "source": [
    "import snscrape.modules.twitter as sntwitter\n",
    "import pandas as pd\n",
    "\n",
    "# Creating list to append tweet data to\n",
    "attributes_container = []\n",
    "\n",
    "# Using TwitterSearchScraper to scrape data and append tweets to list\n",
    "for i,tweet in enumerate(sntwitter.TwitterSearchScraper('Commercial fishing Aquaculture since:2019-01-05 until:2022-07-06').get_items()):\n",
    "    if i>200:\n",
    "        break\n",
    "    attributes_container.append([ tweet.content])\n",
    "    \n",
    "# Creating a dataframe to load the list\n",
    "tweets_df = pd.DataFrame(attributes_container, columns=[ \"Tweets\"])"
   ]
  },
  {
   "cell_type": "code",
   "execution_count": null,
   "id": "9ccd88f5",
   "metadata": {},
   "outputs": [],
   "source": [
    "tweets_df.head(10)"
   ]
  },
  {
   "cell_type": "code",
   "execution_count": null,
   "id": "bd3822b1",
   "metadata": {},
   "outputs": [],
   "source": []
  },
  {
   "cell_type": "code",
   "execution_count": null,
   "id": "8ca7e871",
   "metadata": {},
   "outputs": [],
   "source": [
    "import re\n",
    "\n",
    "def remove_special_characters(text):\n",
    "    # Remove special characters\n",
    "    text = re.sub(r'[^a-zA-Z\\s]', '', text)\n",
    "    \n",
    "    # Remove numbers\n",
    "    text = ''.join([word for word in text if word.isalpha()])\n",
    "    \n",
    "    return text\n"
   ]
  },
  {
   "cell_type": "code",
   "execution_count": null,
   "id": "c923fea9",
   "metadata": {},
   "outputs": [],
   "source": [
    "import nltk\n",
    "\n",
    "def tokenize_text(text):\n",
    "    tokens = nltk.word_tokenize(text)\n",
    "    return tokens\n"
   ]
  },
  {
   "cell_type": "code",
   "execution_count": null,
   "id": "cb14fb09",
   "metadata": {},
   "outputs": [],
   "source": [
    "import nltk\n",
    "from nltk.corpus import stopwords\n",
    "\n",
    "def remove_stop_words(tokens):\n",
    "    stop_words = set(stopwords.words('english'))\n",
    "    filtered_tokens = [token for token in tokens if token.lower() not in stop_words]\n",
    "    return filtered_tokens\n"
   ]
  },
  {
   "cell_type": "code",
   "execution_count": null,
   "id": "f279aaa6",
   "metadata": {},
   "outputs": [],
   "source": [
    "import nltk\n",
    "from nltk.stem import PorterStemmer\n",
    "\n",
    "def stem_words(tokens):\n",
    "    stemmer = PorterStemmer()\n",
    "    stemmed_words = [stemmer.stem(word) for word in tokens]\n",
    "    return stemmed_words\n"
   ]
  },
  {
   "cell_type": "code",
   "execution_count": null,
   "id": "857a4811",
   "metadata": {},
   "outputs": [],
   "source": [
    "import nltk\n",
    "from nltk.stem import WordNetLemmatizer\n",
    "\n",
    "def lemmatize_words(tokens):\n",
    "    lemmatizer = WordNetLemmatizer()\n",
    "    lemmatized_words = [lemmatizer.lemmatize(word) for word in tokens]\n",
    "    return lemmatized_words\n"
   ]
  },
  {
   "cell_type": "code",
   "execution_count": null,
   "id": "1f60036f",
   "metadata": {},
   "outputs": [],
   "source": [
    "tweets_df.head(10)"
   ]
  },
  {
   "cell_type": "code",
   "execution_count": null,
   "id": "6f09acda",
   "metadata": {},
   "outputs": [],
   "source": []
  },
  {
   "cell_type": "code",
   "execution_count": null,
   "id": "35cf5343",
   "metadata": {},
   "outputs": [],
   "source": []
  }
 ],
 "metadata": {
  "kernelspec": {
   "display_name": "Python 3 (ipykernel)",
   "language": "python",
   "name": "python3"
  },
  "language_info": {
   "codemirror_mode": {
    "name": "ipython",
    "version": 3
   },
   "file_extension": ".py",
   "mimetype": "text/x-python",
   "name": "python",
   "nbconvert_exporter": "python",
   "pygments_lexer": "ipython3",
   "version": "3.9.12"
  },
  "varInspector": {
   "cols": {
    "lenName": 16,
    "lenType": 16,
    "lenVar": 40
   },
   "kernels_config": {
    "python": {
     "delete_cmd_postfix": "",
     "delete_cmd_prefix": "del ",
     "library": "var_list.py",
     "varRefreshCmd": "print(var_dic_list())"
    },
    "r": {
     "delete_cmd_postfix": ") ",
     "delete_cmd_prefix": "rm(",
     "library": "var_list.r",
     "varRefreshCmd": "cat(var_dic_list()) "
    }
   },
   "types_to_exclude": [
    "module",
    "function",
    "builtin_function_or_method",
    "instance",
    "_Feature"
   ],
   "window_display": false
  }
 },
 "nbformat": 4,
 "nbformat_minor": 5
}
