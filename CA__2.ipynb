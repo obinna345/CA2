{
 "cells": [
  {
   "cell_type": "markdown",
   "id": "1d1fec3a",
   "metadata": {},
   "source": [
    "## FISH CATCHES IN IRELAND AND IN COMPARISIM TO OTHER E.U COUNTRIES\n"
   ]
  },
  {
   "cell_type": "code",
   "execution_count": 1,
   "id": "1e8e066d",
   "metadata": {},
   "outputs": [],
   "source": [
    "# importing libraries\n",
    "import pandas as pd\n",
    "import numpy as np\n",
    "import matplotlib.pyplot as plt\n",
    "import seaborn as sns\n",
    "import statistics as stats"
   ]
  },
  {
   "cell_type": "code",
   "execution_count": 2,
   "id": "cc0b93df",
   "metadata": {},
   "outputs": [],
   "source": [
    "df=pd.read_csv('fish_capture.csv')"
   ]
  },
  {
   "cell_type": "code",
   "execution_count": 3,
   "id": "1229ed90",
   "metadata": {},
   "outputs": [
    {
     "data": {
      "text/html": [
       "<div>\n",
       "<style scoped>\n",
       "    .dataframe tbody tr th:only-of-type {\n",
       "        vertical-align: middle;\n",
       "    }\n",
       "\n",
       "    .dataframe tbody tr th {\n",
       "        vertical-align: top;\n",
       "    }\n",
       "\n",
       "    .dataframe thead th {\n",
       "        text-align: right;\n",
       "    }\n",
       "</style>\n",
       "<table border=\"1\" class=\"dataframe\">\n",
       "  <thead>\n",
       "    <tr style=\"text-align: right;\">\n",
       "      <th></th>\n",
       "      <th>Country Name</th>\n",
       "      <th>Country Code</th>\n",
       "      <th>Indicator Name</th>\n",
       "      <th>Indicator Code</th>\n",
       "      <th>1960</th>\n",
       "      <th>1961</th>\n",
       "      <th>1962</th>\n",
       "      <th>1963</th>\n",
       "      <th>1964</th>\n",
       "      <th>1965</th>\n",
       "      <th>...</th>\n",
       "      <th>2012</th>\n",
       "      <th>2013</th>\n",
       "      <th>2014</th>\n",
       "      <th>2015</th>\n",
       "      <th>2016</th>\n",
       "      <th>2017</th>\n",
       "      <th>2018</th>\n",
       "      <th>2019</th>\n",
       "      <th>2020</th>\n",
       "      <th>2021</th>\n",
       "    </tr>\n",
       "  </thead>\n",
       "  <tbody>\n",
       "    <tr>\n",
       "      <th>0</th>\n",
       "      <td>Aruba</td>\n",
       "      <td>ABW</td>\n",
       "      <td>Capture fisheries production (metric tons)</td>\n",
       "      <td>ER.FSH.CAPT.MT</td>\n",
       "      <td>200.0</td>\n",
       "      <td>200.0</td>\n",
       "      <td>300.0</td>\n",
       "      <td>300.0</td>\n",
       "      <td>300.0</td>\n",
       "      <td>300.0</td>\n",
       "      <td>...</td>\n",
       "      <td>138.00</td>\n",
       "      <td>145.00</td>\n",
       "      <td>152.00</td>\n",
       "      <td>150.00</td>\n",
       "      <td>150.00</td>\n",
       "      <td>149.00</td>\n",
       "      <td>149.00</td>\n",
       "      <td>163.00</td>\n",
       "      <td>155.00</td>\n",
       "      <td>NaN</td>\n",
       "    </tr>\n",
       "    <tr>\n",
       "      <th>1</th>\n",
       "      <td>Africa Eastern and Southern</td>\n",
       "      <td>AFE</td>\n",
       "      <td>Capture fisheries production (metric tons)</td>\n",
       "      <td>ER.FSH.CAPT.MT</td>\n",
       "      <td>1485740.0</td>\n",
       "      <td>1632169.0</td>\n",
       "      <td>1735664.0</td>\n",
       "      <td>1848486.0</td>\n",
       "      <td>2164132.0</td>\n",
       "      <td>2174850.0</td>\n",
       "      <td>...</td>\n",
       "      <td>3823494.99</td>\n",
       "      <td>3701198.31</td>\n",
       "      <td>3927435.12</td>\n",
       "      <td>4033890.26</td>\n",
       "      <td>4188878.44</td>\n",
       "      <td>4210226.37</td>\n",
       "      <td>4149011.16</td>\n",
       "      <td>4220081.72</td>\n",
       "      <td>4192288.05</td>\n",
       "      <td>NaN</td>\n",
       "    </tr>\n",
       "    <tr>\n",
       "      <th>2</th>\n",
       "      <td>Afghanistan</td>\n",
       "      <td>AFG</td>\n",
       "      <td>Capture fisheries production (metric tons)</td>\n",
       "      <td>ER.FSH.CAPT.MT</td>\n",
       "      <td>200.0</td>\n",
       "      <td>300.0</td>\n",
       "      <td>300.0</td>\n",
       "      <td>300.0</td>\n",
       "      <td>300.0</td>\n",
       "      <td>300.0</td>\n",
       "      <td>...</td>\n",
       "      <td>1300.00</td>\n",
       "      <td>1450.00</td>\n",
       "      <td>1600.00</td>\n",
       "      <td>1750.00</td>\n",
       "      <td>1900.00</td>\n",
       "      <td>2000.00</td>\n",
       "      <td>2050.00</td>\n",
       "      <td>2100.00</td>\n",
       "      <td>2000.00</td>\n",
       "      <td>NaN</td>\n",
       "    </tr>\n",
       "    <tr>\n",
       "      <th>3</th>\n",
       "      <td>Africa Western and Central</td>\n",
       "      <td>AFW</td>\n",
       "      <td>Capture fisheries production (metric tons)</td>\n",
       "      <td>ER.FSH.CAPT.MT</td>\n",
       "      <td>488505.0</td>\n",
       "      <td>513837.0</td>\n",
       "      <td>560769.0</td>\n",
       "      <td>582503.0</td>\n",
       "      <td>646740.0</td>\n",
       "      <td>680876.0</td>\n",
       "      <td>...</td>\n",
       "      <td>3112164.29</td>\n",
       "      <td>3172804.04</td>\n",
       "      <td>3221896.54</td>\n",
       "      <td>3156916.84</td>\n",
       "      <td>3473352.32</td>\n",
       "      <td>4126363.57</td>\n",
       "      <td>4230596.86</td>\n",
       "      <td>4015509.77</td>\n",
       "      <td>3855653.10</td>\n",
       "      <td>NaN</td>\n",
       "    </tr>\n",
       "    <tr>\n",
       "      <th>4</th>\n",
       "      <td>Angola</td>\n",
       "      <td>AGO</td>\n",
       "      <td>Capture fisheries production (metric tons)</td>\n",
       "      <td>ER.FSH.CAPT.MT</td>\n",
       "      <td>257300.0</td>\n",
       "      <td>246800.0</td>\n",
       "      <td>274800.0</td>\n",
       "      <td>245300.0</td>\n",
       "      <td>362000.0</td>\n",
       "      <td>263300.0</td>\n",
       "      <td>...</td>\n",
       "      <td>374000.00</td>\n",
       "      <td>407000.00</td>\n",
       "      <td>442084.00</td>\n",
       "      <td>495232.00</td>\n",
       "      <td>486490.00</td>\n",
       "      <td>531575.00</td>\n",
       "      <td>443066.00</td>\n",
       "      <td>400762.00</td>\n",
       "      <td>377345.00</td>\n",
       "      <td>NaN</td>\n",
       "    </tr>\n",
       "  </tbody>\n",
       "</table>\n",
       "<p>5 rows × 66 columns</p>\n",
       "</div>"
      ],
      "text/plain": [
       "                  Country Name Country Code  \\\n",
       "0                        Aruba          ABW   \n",
       "1  Africa Eastern and Southern          AFE   \n",
       "2                  Afghanistan          AFG   \n",
       "3   Africa Western and Central          AFW   \n",
       "4                       Angola          AGO   \n",
       "\n",
       "                               Indicator Name  Indicator Code       1960  \\\n",
       "0  Capture fisheries production (metric tons)  ER.FSH.CAPT.MT      200.0   \n",
       "1  Capture fisheries production (metric tons)  ER.FSH.CAPT.MT  1485740.0   \n",
       "2  Capture fisheries production (metric tons)  ER.FSH.CAPT.MT      200.0   \n",
       "3  Capture fisheries production (metric tons)  ER.FSH.CAPT.MT   488505.0   \n",
       "4  Capture fisheries production (metric tons)  ER.FSH.CAPT.MT   257300.0   \n",
       "\n",
       "        1961       1962       1963       1964       1965  ...        2012  \\\n",
       "0      200.0      300.0      300.0      300.0      300.0  ...      138.00   \n",
       "1  1632169.0  1735664.0  1848486.0  2164132.0  2174850.0  ...  3823494.99   \n",
       "2      300.0      300.0      300.0      300.0      300.0  ...     1300.00   \n",
       "3   513837.0   560769.0   582503.0   646740.0   680876.0  ...  3112164.29   \n",
       "4   246800.0   274800.0   245300.0   362000.0   263300.0  ...   374000.00   \n",
       "\n",
       "         2013        2014        2015        2016        2017        2018  \\\n",
       "0      145.00      152.00      150.00      150.00      149.00      149.00   \n",
       "1  3701198.31  3927435.12  4033890.26  4188878.44  4210226.37  4149011.16   \n",
       "2     1450.00     1600.00     1750.00     1900.00     2000.00     2050.00   \n",
       "3  3172804.04  3221896.54  3156916.84  3473352.32  4126363.57  4230596.86   \n",
       "4   407000.00   442084.00   495232.00   486490.00   531575.00   443066.00   \n",
       "\n",
       "         2019        2020  2021  \n",
       "0      163.00      155.00   NaN  \n",
       "1  4220081.72  4192288.05   NaN  \n",
       "2     2100.00     2000.00   NaN  \n",
       "3  4015509.77  3855653.10   NaN  \n",
       "4   400762.00   377345.00   NaN  \n",
       "\n",
       "[5 rows x 66 columns]"
      ]
     },
     "execution_count": 3,
     "metadata": {},
     "output_type": "execute_result"
    }
   ],
   "source": [
    "df.head()"
   ]
  },
  {
   "cell_type": "code",
   "execution_count": 4,
   "id": "1057a531",
   "metadata": {},
   "outputs": [],
   "source": [
    "#changing date columns to rows\n",
    "df=df.melt(id_vars=[\"Country Name\", \"Country Code\",'Indicator Name','Indicator Code'], \n",
    "        var_name=\"Date\", \n",
    "        value_name=\"captured fishes (metric tons)\")\n"
   ]
  },
  {
   "cell_type": "code",
   "execution_count": 5,
   "id": "414e002c",
   "metadata": {},
   "outputs": [],
   "source": [
    "#dropping columns\n",
    "df= df.drop(columns= ['Indicator Name', 'Indicator Code'])"
   ]
  },
  {
   "cell_type": "code",
   "execution_count": 6,
   "id": "519560c6",
   "metadata": {},
   "outputs": [
    {
     "name": "stdout",
     "output_type": "stream",
     "text": [
      "number of duplicate rows: (0, 4)\n"
     ]
    }
   ],
   "source": [
    "#checking for duplicate rows\n",
    "duplicate_rows_df=df[df.duplicated()]\n",
    "print(\"number of duplicate rows:\", duplicate_rows_df.shape)"
   ]
  },
  {
   "cell_type": "code",
   "execution_count": 7,
   "id": "3ddc572a",
   "metadata": {},
   "outputs": [
    {
     "name": "stdout",
     "output_type": "stream",
     "text": [
      "Country Name                        0\n",
      "Country Code                        0\n",
      "Date                                0\n",
      "captured fishes (metric tons)    1851\n",
      "dtype: int64\n"
     ]
    }
   ],
   "source": [
    "#checking for null values\n",
    "print(df.isnull().sum())"
   ]
  },
  {
   "cell_type": "code",
   "execution_count": 8,
   "id": "c9b169bb",
   "metadata": {},
   "outputs": [],
   "source": [
    "#dropping null values\n",
    "df = df.dropna()"
   ]
  },
  {
   "cell_type": "code",
   "execution_count": 9,
   "id": "bcd9c6dc",
   "metadata": {
    "scrolled": true
   },
   "outputs": [
    {
     "data": {
      "text/html": [
       "<div>\n",
       "<style scoped>\n",
       "    .dataframe tbody tr th:only-of-type {\n",
       "        vertical-align: middle;\n",
       "    }\n",
       "\n",
       "    .dataframe tbody tr th {\n",
       "        vertical-align: top;\n",
       "    }\n",
       "\n",
       "    .dataframe thead th {\n",
       "        text-align: right;\n",
       "    }\n",
       "</style>\n",
       "<table border=\"1\" class=\"dataframe\">\n",
       "  <thead>\n",
       "    <tr style=\"text-align: right;\">\n",
       "      <th></th>\n",
       "      <th>Country Name</th>\n",
       "      <th>Country Code</th>\n",
       "      <th>Date</th>\n",
       "      <th>captured fishes (metric tons)</th>\n",
       "    </tr>\n",
       "  </thead>\n",
       "  <tbody>\n",
       "    <tr>\n",
       "      <th>0</th>\n",
       "      <td>Aruba</td>\n",
       "      <td>ABW</td>\n",
       "      <td>1960</td>\n",
       "      <td>200.0</td>\n",
       "    </tr>\n",
       "    <tr>\n",
       "      <th>1</th>\n",
       "      <td>Africa Eastern and Southern</td>\n",
       "      <td>AFE</td>\n",
       "      <td>1960</td>\n",
       "      <td>1485740.0</td>\n",
       "    </tr>\n",
       "    <tr>\n",
       "      <th>2</th>\n",
       "      <td>Afghanistan</td>\n",
       "      <td>AFG</td>\n",
       "      <td>1960</td>\n",
       "      <td>200.0</td>\n",
       "    </tr>\n",
       "    <tr>\n",
       "      <th>3</th>\n",
       "      <td>Africa Western and Central</td>\n",
       "      <td>AFW</td>\n",
       "      <td>1960</td>\n",
       "      <td>488505.0</td>\n",
       "    </tr>\n",
       "    <tr>\n",
       "      <th>4</th>\n",
       "      <td>Angola</td>\n",
       "      <td>AGO</td>\n",
       "      <td>1960</td>\n",
       "      <td>257300.0</td>\n",
       "    </tr>\n",
       "  </tbody>\n",
       "</table>\n",
       "</div>"
      ],
      "text/plain": [
       "                  Country Name Country Code  Date  \\\n",
       "0                        Aruba          ABW  1960   \n",
       "1  Africa Eastern and Southern          AFE  1960   \n",
       "2                  Afghanistan          AFG  1960   \n",
       "3   Africa Western and Central          AFW  1960   \n",
       "4                       Angola          AGO  1960   \n",
       "\n",
       "   captured fishes (metric tons)  \n",
       "0                          200.0  \n",
       "1                      1485740.0  \n",
       "2                          200.0  \n",
       "3                       488505.0  \n",
       "4                       257300.0  "
      ]
     },
     "execution_count": 9,
     "metadata": {},
     "output_type": "execute_result"
    }
   ],
   "source": [
    "df.head()"
   ]
  },
  {
   "cell_type": "markdown",
   "id": "26b171a3",
   "metadata": {},
   "source": [
    "\n",
    "\n",
    "\n",
    "## DATA FOR THE E.U"
   ]
  },
  {
   "cell_type": "code",
   "execution_count": 10,
   "id": "49ce54d7",
   "metadata": {},
   "outputs": [
    {
     "data": {
      "text/html": [
       "<div>\n",
       "<style scoped>\n",
       "    .dataframe tbody tr th:only-of-type {\n",
       "        vertical-align: middle;\n",
       "    }\n",
       "\n",
       "    .dataframe tbody tr th {\n",
       "        vertical-align: top;\n",
       "    }\n",
       "\n",
       "    .dataframe thead th {\n",
       "        text-align: right;\n",
       "    }\n",
       "</style>\n",
       "<table border=\"1\" class=\"dataframe\">\n",
       "  <thead>\n",
       "    <tr style=\"text-align: right;\">\n",
       "      <th></th>\n",
       "      <th>Country Name</th>\n",
       "      <th>Country Code</th>\n",
       "      <th>Date</th>\n",
       "      <th>captured fishes (metric tons)</th>\n",
       "    </tr>\n",
       "  </thead>\n",
       "  <tbody>\n",
       "    <tr>\n",
       "      <th>14</th>\n",
       "      <td>Austria</td>\n",
       "      <td>AUT</td>\n",
       "      <td>1960</td>\n",
       "      <td>3550.0</td>\n",
       "    </tr>\n",
       "    <tr>\n",
       "      <th>280</th>\n",
       "      <td>Austria</td>\n",
       "      <td>AUT</td>\n",
       "      <td>1961</td>\n",
       "      <td>3540.0</td>\n",
       "    </tr>\n",
       "    <tr>\n",
       "      <th>546</th>\n",
       "      <td>Austria</td>\n",
       "      <td>AUT</td>\n",
       "      <td>1962</td>\n",
       "      <td>3830.0</td>\n",
       "    </tr>\n",
       "    <tr>\n",
       "      <th>812</th>\n",
       "      <td>Austria</td>\n",
       "      <td>AUT</td>\n",
       "      <td>1963</td>\n",
       "      <td>4000.0</td>\n",
       "    </tr>\n",
       "    <tr>\n",
       "      <th>1078</th>\n",
       "      <td>Austria</td>\n",
       "      <td>AUT</td>\n",
       "      <td>1964</td>\n",
       "      <td>4220.0</td>\n",
       "    </tr>\n",
       "  </tbody>\n",
       "</table>\n",
       "</div>"
      ],
      "text/plain": [
       "     Country Name Country Code  Date  captured fishes (metric tons)\n",
       "14        Austria          AUT  1960                         3550.0\n",
       "280       Austria          AUT  1961                         3540.0\n",
       "546       Austria          AUT  1962                         3830.0\n",
       "812       Austria          AUT  1963                         4000.0\n",
       "1078      Austria          AUT  1964                         4220.0"
      ]
     },
     "execution_count": 10,
     "metadata": {},
     "output_type": "execute_result"
    }
   ],
   "source": [
    "# Create a dataframe with only the rows for the specified EU countries and \n",
    "#sort it in ascending order by country name and date\n",
    "\n",
    "df_eu = (df.apply(lambda row: row[df['Country Name'].isin\n",
    "        (['Austria', 'Belgium', 'Bulgaria', 'Croatia','Cyprus', 'Czech Republic', \n",
    "          'Denmark', 'Estonia', 'Finland', 'France', 'Germany', 'Greece', 'Hungary', 'Ireland', 'Italy', \n",
    "          'Latvia', 'Lithuania', 'Luxembourg', 'Malta', 'Netherlands', 'Poland', 'Portugal', 'Romania',\n",
    "          'Slovakia', 'Slovenia', 'Spain', 'Sweden'])])).sort_values(by=['Country Name','Date'], ascending=True)\n",
    "\n",
    "# Print the first 5 rows of the resulting dataframe\n",
    "df_eu.head()\n"
   ]
  },
  {
   "cell_type": "code",
   "execution_count": 11,
   "id": "f32c77b5",
   "metadata": {},
   "outputs": [
    {
     "data": {
      "text/plain": [
       "count       1377\n",
       "mean      269246\n",
       "std       371072\n",
       "min          263\n",
       "25%         9336\n",
       "50%       135467\n",
       "75%       348441\n",
       "max      2013518\n",
       "dtype: int64"
      ]
     },
     "execution_count": 11,
     "metadata": {},
     "output_type": "execute_result"
    }
   ],
   "source": [
    "#descriptive statistics of dataframe\n",
    "df_eu.describe().apply(lambda x: int(x), axis=1)"
   ]
  },
  {
   "cell_type": "markdown",
   "id": "7ec904c7",
   "metadata": {},
   "source": [
    "# VIRTUALIZATION"
   ]
  },
  {
   "cell_type": "code",
   "execution_count": 12,
   "id": "838c924a",
   "metadata": {},
   "outputs": [],
   "source": [
    "#Line graph to show the trend of captured fishes in ireland from 1960-2020\n",
    "#geo virtualisation to show ireland compared to other E.U countries\n",
    "#histogram to show the average number of fish captures in E.U countries from 1960-2020"
   ]
  },
  {
   "cell_type": "code",
   "execution_count": null,
   "id": "74926fbc",
   "metadata": {},
   "outputs": [],
   "source": [
    "import plotly.express as px"
   ]
  },
  {
   "cell_type": "code",
   "execution_count": null,
   "id": "c903e00a",
   "metadata": {},
   "outputs": [],
   "source": [
    "# Filter the dataframe to include only rows for Ireland\n",
    "df_ireland = df_eu[df_eu['Country Name'] == 'Ireland']\n",
    "# Create the line chart\n",
    "fig = px.line(df_ireland, x='Date', y='captured fishes (metric tons)', title='Captured Fishes in Ireland')\n",
    "# Set the gridline color\n",
    "fig.update_layout(\n",
    "    xaxis=dict(\n",
    "        showgrid=True,\n",
    "        gridcolor='#bdbdbd'\n",
    "    ),\n",
    "    yaxis=dict(\n",
    "        showgrid=True,\n",
    "        gridcolor='#bdbdbd'\n",
    "    )\n",
    ")\n",
    "\n",
    "\n",
    "fig.show()\n",
    "\n"
   ]
  },
  {
   "cell_type": "code",
   "execution_count": null,
   "id": "6cd6c57f",
   "metadata": {},
   "outputs": [],
   "source": []
  },
  {
   "cell_type": "code",
   "execution_count": null,
   "id": "7a1fe865",
   "metadata": {},
   "outputs": [],
   "source": [
    " \n",
    "\n",
    "custom_color_scale = ['#FF0000', '#FFFF00', '#00FF00']\n",
    "\n",
    "fig = px.choropleth(df_eu,\n",
    "                    locations='Country Code',\n",
    "                    color='captured fishes (metric tons)',\n",
    "                    hover_name='Country Name',\n",
    "                    animation_frame='Date',\n",
    "                    title='Captured Fishes by Country',\n",
    "                    height=900,\n",
    "                    color_continuous_scale=custom_color_scale)\n",
    "\n",
    "fig.update_layout(title_text= \"Fish Catches In E.U Countries\",\n",
    "                  geo_scope='europe')\n",
    "fig.show()\n",
    "\n"
   ]
  },
  {
   "cell_type": "code",
   "execution_count": null,
   "id": "b8dce4f3",
   "metadata": {},
   "outputs": [],
   "source": []
  },
  {
   "cell_type": "code",
   "execution_count": null,
   "id": "d432098c",
   "metadata": {},
   "outputs": [],
   "source": []
  },
  {
   "cell_type": "markdown",
   "id": "b71a122b",
   "metadata": {},
   "source": [
    "## THE TOTAL AVERAGE OF FISH CATCHES FOR E.U COUNTRIES FROM 1960-2020"
   ]
  },
  {
   "cell_type": "code",
   "execution_count": null,
   "id": "1a2d26d8",
   "metadata": {},
   "outputs": [],
   "source": [
    "# Group the data by country\n",
    "df_grouped = df_eu.groupby(['Country Name'])\n",
    "\n",
    "# Calculate the average for each group\n",
    "df_averages = df_grouped['captured fishes (metric tons)'].mean()\n",
    "\n",
    "# Round the values in the 'captured fishes (metric tons)' column to the nearest integer\n",
    "df_averages = df_averages.round()\n",
    "\n",
    "# Reset the index to make the country column a regular column\n",
    "df_averages = df_averages.reset_index()\n",
    "\n",
    "# Print the resulting dataframe\n",
    "print(df_averages)\n"
   ]
  },
  {
   "cell_type": "code",
   "execution_count": null,
   "id": "27bb0783",
   "metadata": {},
   "outputs": [],
   "source": [
    "fig = px.histogram(df_averages, x='Country Name', y='captured fishes (metric tons)', title='Average Captured Fishes (Metric Tons) in all E.U countries 1960-2020')\n",
    "fig.show()\n"
   ]
  },
  {
   "cell_type": "code",
   "execution_count": null,
   "id": "b150a523",
   "metadata": {},
   "outputs": [],
   "source": []
  },
  {
   "cell_type": "markdown",
   "id": "03b9a42d",
   "metadata": {},
   "source": [
    "# DASHBOARD"
   ]
  },
  {
   "cell_type": "code",
   "execution_count": null,
   "id": "e13f01ad",
   "metadata": {},
   "outputs": [],
   "source": [
    "#USING THE GEODATA MAP TO CREATE A WEB DASHBOARD"
   ]
  },
  {
   "cell_type": "code",
   "execution_count": null,
   "id": "58075cd6",
   "metadata": {},
   "outputs": [],
   "source": [
    "#pip install dash"
   ]
  },
  {
   "cell_type": "code",
   "execution_count": null,
   "id": "1781287f",
   "metadata": {},
   "outputs": [],
   "source": [
    "import dash\n",
    "from dash import dcc\n",
    "from dash import html\n",
    "from dash.dependencies import Input, Output"
   ]
  },
  {
   "cell_type": "code",
   "execution_count": null,
   "id": "c24e26d1",
   "metadata": {},
   "outputs": [],
   "source": [
    "app = dash.Dash()\n",
    "\n",
    "# Get a list of all the countries in the dataframe\n",
    "countries = df_eu['Country Name'].unique()\n",
    "\n",
    "app.layout = html.Div([\n",
    "    # Dropdown menu for selecting countries\n",
    "    dcc.Dropdown(\n",
    "        id='countries-dropdown',\n",
    "        options=[{'label': c, 'value': c} for c in countries],\n",
    "        multi=True,\n",
    "        value=['France', 'Germany']\n",
    "    ),\n",
    "    # Choropleth map\n",
    "    dcc.Graph(\n",
    "        id='choropleth-map'\n",
    "    )\n",
    "])\n",
    "\n",
    "@app.callback(\n",
    "    Output('choropleth-map', 'figure'),\n",
    "    [Input('countries-dropdown', 'value')]\n",
    ")\n",
    "def update_map(selected_countries):\n",
    "    # Filter the dataframe by the selected countries\n",
    "    df_filtered = df_eu[df_eu['Country Name'].isin(selected_countries)]\n",
    "    \n",
    "    # Create the figure with the filtered data\n",
    "    fig = px.choropleth(df_filtered,\n",
    "                        locations='Country Code',\n",
    "                        color='captured fishes (metric tons)',\n",
    "                        hover_name='Country Name',\n",
    "                        animation_frame='Date',\n",
    "                        title='Captured Fishes by Country',\n",
    "                        height=900,\n",
    "                        color_continuous_scale=custom_color_scale)\n",
    "\n",
    "    fig.update_layout(title_text= \"Fish Catches In E.U Countries\",\n",
    "                      geo_scope='europe')\n",
    "    return fig\n",
    "\n",
    "if __name__ == '__main__':\n",
    "    app.run_server()\n"
   ]
  },
  {
   "cell_type": "code",
   "execution_count": null,
   "id": "35465a6a",
   "metadata": {},
   "outputs": [],
   "source": []
  },
  {
   "cell_type": "code",
   "execution_count": null,
   "id": "146170a4",
   "metadata": {},
   "outputs": [],
   "source": []
  },
  {
   "cell_type": "code",
   "execution_count": null,
   "id": "16e8057c",
   "metadata": {},
   "outputs": [],
   "source": []
  },
  {
   "cell_type": "code",
   "execution_count": null,
   "id": "0b3f7ef1",
   "metadata": {},
   "outputs": [],
   "source": []
  },
  {
   "cell_type": "markdown",
   "id": "9e08f4de",
   "metadata": {},
   "source": [
    "# SENTIMENT ANALYSIS"
   ]
  },
  {
   "cell_type": "code",
   "execution_count": null,
   "id": "df233136",
   "metadata": {},
   "outputs": [],
   "source": []
  }
 ],
 "metadata": {
  "kernelspec": {
   "display_name": "Python 3 (ipykernel)",
   "language": "python",
   "name": "python3"
  },
  "language_info": {
   "codemirror_mode": {
    "name": "ipython",
    "version": 3
   },
   "file_extension": ".py",
   "mimetype": "text/x-python",
   "name": "python",
   "nbconvert_exporter": "python",
   "pygments_lexer": "ipython3",
   "version": "3.9.12"
  },
  "varInspector": {
   "cols": {
    "lenName": 16,
    "lenType": 16,
    "lenVar": 40
   },
   "kernels_config": {
    "python": {
     "delete_cmd_postfix": "",
     "delete_cmd_prefix": "del ",
     "library": "var_list.py",
     "varRefreshCmd": "print(var_dic_list())"
    },
    "r": {
     "delete_cmd_postfix": ") ",
     "delete_cmd_prefix": "rm(",
     "library": "var_list.r",
     "varRefreshCmd": "cat(var_dic_list()) "
    }
   },
   "types_to_exclude": [
    "module",
    "function",
    "builtin_function_or_method",
    "instance",
    "_Feature"
   ],
   "window_display": false
  }
 },
 "nbformat": 4,
 "nbformat_minor": 5
}
