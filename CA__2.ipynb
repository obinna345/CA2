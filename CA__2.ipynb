{
 "cells": [
  {
   "cell_type": "markdown",
   "id": "e552d311",
   "metadata": {},
   "source": [
    "## FISH CATCHES IN IRELAND AND IN COMPARISIM TO OTHER E.U COUNTRIES\n"
   ]
  },
  {
   "cell_type": "code",
   "execution_count": null,
   "id": "b3b366c2",
   "metadata": {},
   "outputs": [],
   "source": []
  },
  {
   "cell_type": "code",
   "execution_count": 1,
   "id": "8454c634",
   "metadata": {},
   "outputs": [],
   "source": [
    "# importing libraries\n",
    "import pandas as pd\n",
    "import numpy as np\n",
    "import matplotlib.pyplot as plt\n",
    "import seaborn as sns\n",
    "import statistics as stats"
   ]
  },
  {
   "cell_type": "code",
   "execution_count": 2,
   "id": "cc0b93df",
   "metadata": {},
   "outputs": [],
   "source": [
    "df=pd.read_csv('fish_capture.csv')"
   ]
  },
  {
   "cell_type": "code",
   "execution_count": 3,
   "id": "1229ed90",
   "metadata": {},
   "outputs": [
    {
     "data": {
      "text/html": [
       "<div>\n",
       "<style scoped>\n",
       "    .dataframe tbody tr th:only-of-type {\n",
       "        vertical-align: middle;\n",
       "    }\n",
       "\n",
       "    .dataframe tbody tr th {\n",
       "        vertical-align: top;\n",
       "    }\n",
       "\n",
       "    .dataframe thead th {\n",
       "        text-align: right;\n",
       "    }\n",
       "</style>\n",
       "<table border=\"1\" class=\"dataframe\">\n",
       "  <thead>\n",
       "    <tr style=\"text-align: right;\">\n",
       "      <th></th>\n",
       "      <th>Country Name</th>\n",
       "      <th>Country Code</th>\n",
       "      <th>Indicator Name</th>\n",
       "      <th>Indicator Code</th>\n",
       "      <th>1960</th>\n",
       "      <th>1961</th>\n",
       "      <th>1962</th>\n",
       "      <th>1963</th>\n",
       "      <th>1964</th>\n",
       "      <th>1965</th>\n",
       "      <th>...</th>\n",
       "      <th>2012</th>\n",
       "      <th>2013</th>\n",
       "      <th>2014</th>\n",
       "      <th>2015</th>\n",
       "      <th>2016</th>\n",
       "      <th>2017</th>\n",
       "      <th>2018</th>\n",
       "      <th>2019</th>\n",
       "      <th>2020</th>\n",
       "      <th>2021</th>\n",
       "    </tr>\n",
       "  </thead>\n",
       "  <tbody>\n",
       "    <tr>\n",
       "      <th>0</th>\n",
       "      <td>Aruba</td>\n",
       "      <td>ABW</td>\n",
       "      <td>Capture fisheries production (metric tons)</td>\n",
       "      <td>ER.FSH.CAPT.MT</td>\n",
       "      <td>200.0</td>\n",
       "      <td>200.0</td>\n",
       "      <td>300.0</td>\n",
       "      <td>300.0</td>\n",
       "      <td>300.0</td>\n",
       "      <td>300.0</td>\n",
       "      <td>...</td>\n",
       "      <td>138.00</td>\n",
       "      <td>145.00</td>\n",
       "      <td>152.00</td>\n",
       "      <td>150.00</td>\n",
       "      <td>150.00</td>\n",
       "      <td>149.00</td>\n",
       "      <td>149.00</td>\n",
       "      <td>163.00</td>\n",
       "      <td>155.00</td>\n",
       "      <td>NaN</td>\n",
       "    </tr>\n",
       "    <tr>\n",
       "      <th>1</th>\n",
       "      <td>Africa Eastern and Southern</td>\n",
       "      <td>AFE</td>\n",
       "      <td>Capture fisheries production (metric tons)</td>\n",
       "      <td>ER.FSH.CAPT.MT</td>\n",
       "      <td>1485740.0</td>\n",
       "      <td>1632169.0</td>\n",
       "      <td>1735664.0</td>\n",
       "      <td>1848486.0</td>\n",
       "      <td>2164132.0</td>\n",
       "      <td>2174850.0</td>\n",
       "      <td>...</td>\n",
       "      <td>3823494.99</td>\n",
       "      <td>3701198.31</td>\n",
       "      <td>3927435.12</td>\n",
       "      <td>4033890.26</td>\n",
       "      <td>4188878.44</td>\n",
       "      <td>4210226.37</td>\n",
       "      <td>4149011.16</td>\n",
       "      <td>4220081.72</td>\n",
       "      <td>4192288.05</td>\n",
       "      <td>NaN</td>\n",
       "    </tr>\n",
       "    <tr>\n",
       "      <th>2</th>\n",
       "      <td>Afghanistan</td>\n",
       "      <td>AFG</td>\n",
       "      <td>Capture fisheries production (metric tons)</td>\n",
       "      <td>ER.FSH.CAPT.MT</td>\n",
       "      <td>200.0</td>\n",
       "      <td>300.0</td>\n",
       "      <td>300.0</td>\n",
       "      <td>300.0</td>\n",
       "      <td>300.0</td>\n",
       "      <td>300.0</td>\n",
       "      <td>...</td>\n",
       "      <td>1300.00</td>\n",
       "      <td>1450.00</td>\n",
       "      <td>1600.00</td>\n",
       "      <td>1750.00</td>\n",
       "      <td>1900.00</td>\n",
       "      <td>2000.00</td>\n",
       "      <td>2050.00</td>\n",
       "      <td>2100.00</td>\n",
       "      <td>2000.00</td>\n",
       "      <td>NaN</td>\n",
       "    </tr>\n",
       "    <tr>\n",
       "      <th>3</th>\n",
       "      <td>Africa Western and Central</td>\n",
       "      <td>AFW</td>\n",
       "      <td>Capture fisheries production (metric tons)</td>\n",
       "      <td>ER.FSH.CAPT.MT</td>\n",
       "      <td>488505.0</td>\n",
       "      <td>513837.0</td>\n",
       "      <td>560769.0</td>\n",
       "      <td>582503.0</td>\n",
       "      <td>646740.0</td>\n",
       "      <td>680876.0</td>\n",
       "      <td>...</td>\n",
       "      <td>3112164.29</td>\n",
       "      <td>3172804.04</td>\n",
       "      <td>3221896.54</td>\n",
       "      <td>3156916.84</td>\n",
       "      <td>3473352.32</td>\n",
       "      <td>4126363.57</td>\n",
       "      <td>4230596.86</td>\n",
       "      <td>4015509.77</td>\n",
       "      <td>3855653.10</td>\n",
       "      <td>NaN</td>\n",
       "    </tr>\n",
       "    <tr>\n",
       "      <th>4</th>\n",
       "      <td>Angola</td>\n",
       "      <td>AGO</td>\n",
       "      <td>Capture fisheries production (metric tons)</td>\n",
       "      <td>ER.FSH.CAPT.MT</td>\n",
       "      <td>257300.0</td>\n",
       "      <td>246800.0</td>\n",
       "      <td>274800.0</td>\n",
       "      <td>245300.0</td>\n",
       "      <td>362000.0</td>\n",
       "      <td>263300.0</td>\n",
       "      <td>...</td>\n",
       "      <td>374000.00</td>\n",
       "      <td>407000.00</td>\n",
       "      <td>442084.00</td>\n",
       "      <td>495232.00</td>\n",
       "      <td>486490.00</td>\n",
       "      <td>531575.00</td>\n",
       "      <td>443066.00</td>\n",
       "      <td>400762.00</td>\n",
       "      <td>377345.00</td>\n",
       "      <td>NaN</td>\n",
       "    </tr>\n",
       "  </tbody>\n",
       "</table>\n",
       "<p>5 rows × 66 columns</p>\n",
       "</div>"
      ],
      "text/plain": [
       "                  Country Name Country Code  \\\n",
       "0                        Aruba          ABW   \n",
       "1  Africa Eastern and Southern          AFE   \n",
       "2                  Afghanistan          AFG   \n",
       "3   Africa Western and Central          AFW   \n",
       "4                       Angola          AGO   \n",
       "\n",
       "                               Indicator Name  Indicator Code       1960  \\\n",
       "0  Capture fisheries production (metric tons)  ER.FSH.CAPT.MT      200.0   \n",
       "1  Capture fisheries production (metric tons)  ER.FSH.CAPT.MT  1485740.0   \n",
       "2  Capture fisheries production (metric tons)  ER.FSH.CAPT.MT      200.0   \n",
       "3  Capture fisheries production (metric tons)  ER.FSH.CAPT.MT   488505.0   \n",
       "4  Capture fisheries production (metric tons)  ER.FSH.CAPT.MT   257300.0   \n",
       "\n",
       "        1961       1962       1963       1964       1965  ...        2012  \\\n",
       "0      200.0      300.0      300.0      300.0      300.0  ...      138.00   \n",
       "1  1632169.0  1735664.0  1848486.0  2164132.0  2174850.0  ...  3823494.99   \n",
       "2      300.0      300.0      300.0      300.0      300.0  ...     1300.00   \n",
       "3   513837.0   560769.0   582503.0   646740.0   680876.0  ...  3112164.29   \n",
       "4   246800.0   274800.0   245300.0   362000.0   263300.0  ...   374000.00   \n",
       "\n",
       "         2013        2014        2015        2016        2017        2018  \\\n",
       "0      145.00      152.00      150.00      150.00      149.00      149.00   \n",
       "1  3701198.31  3927435.12  4033890.26  4188878.44  4210226.37  4149011.16   \n",
       "2     1450.00     1600.00     1750.00     1900.00     2000.00     2050.00   \n",
       "3  3172804.04  3221896.54  3156916.84  3473352.32  4126363.57  4230596.86   \n",
       "4   407000.00   442084.00   495232.00   486490.00   531575.00   443066.00   \n",
       "\n",
       "         2019        2020  2021  \n",
       "0      163.00      155.00   NaN  \n",
       "1  4220081.72  4192288.05   NaN  \n",
       "2     2100.00     2000.00   NaN  \n",
       "3  4015509.77  3855653.10   NaN  \n",
       "4   400762.00   377345.00   NaN  \n",
       "\n",
       "[5 rows x 66 columns]"
      ]
     },
     "execution_count": 3,
     "metadata": {},
     "output_type": "execute_result"
    }
   ],
   "source": [
    "df.head()"
   ]
  },
  {
   "cell_type": "code",
   "execution_count": 4,
   "id": "1057a531",
   "metadata": {},
   "outputs": [],
   "source": [
    "#changing date columns to rows\n",
    "df=df.melt(id_vars=[\"Country Name\", \"Country Code\",'Indicator Name','Indicator Code'], \n",
    "        var_name=\"Date\", \n",
    "        value_name=\"captured fishes (metric tons)\")\n"
   ]
  },
  {
   "cell_type": "code",
   "execution_count": 5,
   "id": "414e002c",
   "metadata": {},
   "outputs": [],
   "source": [
    "#dropping columns\n",
    "df= df.drop(columns= ['Indicator Name', 'Indicator Code'])"
   ]
  },
  {
   "cell_type": "code",
   "execution_count": 6,
   "id": "519560c6",
   "metadata": {},
   "outputs": [
    {
     "name": "stdout",
     "output_type": "stream",
     "text": [
      "number of duplicate rows: (0, 4)\n"
     ]
    }
   ],
   "source": [
    "#checking for duplicate rows\n",
    "duplicate_rows_df=df[df.duplicated()]\n",
    "print(\"number of duplicate rows:\", duplicate_rows_df.shape)"
   ]
  },
  {
   "cell_type": "code",
   "execution_count": 7,
   "id": "3ddc572a",
   "metadata": {},
   "outputs": [
    {
     "name": "stdout",
     "output_type": "stream",
     "text": [
      "Country Name                        0\n",
      "Country Code                        0\n",
      "Date                                0\n",
      "captured fishes (metric tons)    1851\n",
      "dtype: int64\n"
     ]
    }
   ],
   "source": [
    "#checking for null values\n",
    "print(df.isnull().sum())"
   ]
  },
  {
   "cell_type": "code",
   "execution_count": 8,
   "id": "c9b169bb",
   "metadata": {},
   "outputs": [],
   "source": [
    "#dropping null values\n",
    "df = df.dropna()"
   ]
  },
  {
   "cell_type": "code",
   "execution_count": 9,
   "id": "bcd9c6dc",
   "metadata": {
    "scrolled": true
   },
   "outputs": [
    {
     "data": {
      "text/html": [
       "<div>\n",
       "<style scoped>\n",
       "    .dataframe tbody tr th:only-of-type {\n",
       "        vertical-align: middle;\n",
       "    }\n",
       "\n",
       "    .dataframe tbody tr th {\n",
       "        vertical-align: top;\n",
       "    }\n",
       "\n",
       "    .dataframe thead th {\n",
       "        text-align: right;\n",
       "    }\n",
       "</style>\n",
       "<table border=\"1\" class=\"dataframe\">\n",
       "  <thead>\n",
       "    <tr style=\"text-align: right;\">\n",
       "      <th></th>\n",
       "      <th>Country Name</th>\n",
       "      <th>Country Code</th>\n",
       "      <th>Date</th>\n",
       "      <th>captured fishes (metric tons)</th>\n",
       "    </tr>\n",
       "  </thead>\n",
       "  <tbody>\n",
       "    <tr>\n",
       "      <th>0</th>\n",
       "      <td>Aruba</td>\n",
       "      <td>ABW</td>\n",
       "      <td>1960</td>\n",
       "      <td>200.0</td>\n",
       "    </tr>\n",
       "    <tr>\n",
       "      <th>1</th>\n",
       "      <td>Africa Eastern and Southern</td>\n",
       "      <td>AFE</td>\n",
       "      <td>1960</td>\n",
       "      <td>1485740.0</td>\n",
       "    </tr>\n",
       "    <tr>\n",
       "      <th>2</th>\n",
       "      <td>Afghanistan</td>\n",
       "      <td>AFG</td>\n",
       "      <td>1960</td>\n",
       "      <td>200.0</td>\n",
       "    </tr>\n",
       "    <tr>\n",
       "      <th>3</th>\n",
       "      <td>Africa Western and Central</td>\n",
       "      <td>AFW</td>\n",
       "      <td>1960</td>\n",
       "      <td>488505.0</td>\n",
       "    </tr>\n",
       "    <tr>\n",
       "      <th>4</th>\n",
       "      <td>Angola</td>\n",
       "      <td>AGO</td>\n",
       "      <td>1960</td>\n",
       "      <td>257300.0</td>\n",
       "    </tr>\n",
       "  </tbody>\n",
       "</table>\n",
       "</div>"
      ],
      "text/plain": [
       "                  Country Name Country Code  Date  \\\n",
       "0                        Aruba          ABW  1960   \n",
       "1  Africa Eastern and Southern          AFE  1960   \n",
       "2                  Afghanistan          AFG  1960   \n",
       "3   Africa Western and Central          AFW  1960   \n",
       "4                       Angola          AGO  1960   \n",
       "\n",
       "   captured fishes (metric tons)  \n",
       "0                          200.0  \n",
       "1                      1485740.0  \n",
       "2                          200.0  \n",
       "3                       488505.0  \n",
       "4                       257300.0  "
      ]
     },
     "execution_count": 9,
     "metadata": {},
     "output_type": "execute_result"
    }
   ],
   "source": [
    "df.head()"
   ]
  },
  {
   "cell_type": "markdown",
   "id": "26b171a3",
   "metadata": {},
   "source": [
    "## DATA FOR THE E.U"
   ]
  },
  {
   "cell_type": "code",
   "execution_count": 10,
   "id": "49ce54d7",
   "metadata": {},
   "outputs": [
    {
     "data": {
      "text/html": [
       "<div>\n",
       "<style scoped>\n",
       "    .dataframe tbody tr th:only-of-type {\n",
       "        vertical-align: middle;\n",
       "    }\n",
       "\n",
       "    .dataframe tbody tr th {\n",
       "        vertical-align: top;\n",
       "    }\n",
       "\n",
       "    .dataframe thead th {\n",
       "        text-align: right;\n",
       "    }\n",
       "</style>\n",
       "<table border=\"1\" class=\"dataframe\">\n",
       "  <thead>\n",
       "    <tr style=\"text-align: right;\">\n",
       "      <th></th>\n",
       "      <th>Country Name</th>\n",
       "      <th>Country Code</th>\n",
       "      <th>Date</th>\n",
       "      <th>captured fishes (metric tons)</th>\n",
       "    </tr>\n",
       "  </thead>\n",
       "  <tbody>\n",
       "    <tr>\n",
       "      <th>14</th>\n",
       "      <td>Austria</td>\n",
       "      <td>AUT</td>\n",
       "      <td>1960</td>\n",
       "      <td>3550.0</td>\n",
       "    </tr>\n",
       "    <tr>\n",
       "      <th>280</th>\n",
       "      <td>Austria</td>\n",
       "      <td>AUT</td>\n",
       "      <td>1961</td>\n",
       "      <td>3540.0</td>\n",
       "    </tr>\n",
       "    <tr>\n",
       "      <th>546</th>\n",
       "      <td>Austria</td>\n",
       "      <td>AUT</td>\n",
       "      <td>1962</td>\n",
       "      <td>3830.0</td>\n",
       "    </tr>\n",
       "    <tr>\n",
       "      <th>812</th>\n",
       "      <td>Austria</td>\n",
       "      <td>AUT</td>\n",
       "      <td>1963</td>\n",
       "      <td>4000.0</td>\n",
       "    </tr>\n",
       "    <tr>\n",
       "      <th>1078</th>\n",
       "      <td>Austria</td>\n",
       "      <td>AUT</td>\n",
       "      <td>1964</td>\n",
       "      <td>4220.0</td>\n",
       "    </tr>\n",
       "  </tbody>\n",
       "</table>\n",
       "</div>"
      ],
      "text/plain": [
       "     Country Name Country Code  Date  captured fishes (metric tons)\n",
       "14        Austria          AUT  1960                         3550.0\n",
       "280       Austria          AUT  1961                         3540.0\n",
       "546       Austria          AUT  1962                         3830.0\n",
       "812       Austria          AUT  1963                         4000.0\n",
       "1078      Austria          AUT  1964                         4220.0"
      ]
     },
     "execution_count": 10,
     "metadata": {},
     "output_type": "execute_result"
    }
   ],
   "source": [
    "# Create a dataframe with only the rows for the specified EU countries and \n",
    "#sort it in ascending order by country name and date\n",
    "\n",
    "df_eu = (df.apply(lambda row: row[df['Country Name'].isin\n",
    "        (['Austria', 'Belgium', 'Bulgaria', 'Croatia','Cyprus', 'Czech Republic', \n",
    "          'Denmark', 'Estonia', 'Finland', 'France', 'Germany', 'Greece', 'Hungary', 'Ireland', 'Italy', \n",
    "          'Latvia', 'Lithuania', 'Luxembourg', 'Malta', 'Netherlands', 'Poland', 'Portugal', 'Romania',\n",
    "          'Slovakia', 'Slovenia', 'Spain', 'Sweden'])])).sort_values(by=['Country Name','Date'], ascending=True)\n",
    "\n",
    "# Print the first 5 rows of the resulting dataframe\n",
    "df_eu.head()\n"
   ]
  },
  {
   "cell_type": "code",
   "execution_count": 11,
   "id": "f32c77b5",
   "metadata": {},
   "outputs": [
    {
     "data": {
      "text/plain": [
       "count       1377\n",
       "mean      269246\n",
       "std       371072\n",
       "min          263\n",
       "25%         9336\n",
       "50%       135467\n",
       "75%       348441\n",
       "max      2013518\n",
       "dtype: int64"
      ]
     },
     "execution_count": 11,
     "metadata": {},
     "output_type": "execute_result"
    }
   ],
   "source": [
    "#descriptive statistics of dataframe\n",
    "df_eu.describe().apply(lambda x: int(x), axis=1)"
   ]
  },
  {
   "cell_type": "markdown",
   "id": "1af9c341",
   "metadata": {},
   "source": [
    "# VIRTUALIZATION"
   ]
  },
  {
   "cell_type": "code",
   "execution_count": 12,
   "id": "74926fbc",
   "metadata": {},
   "outputs": [],
   "source": [
    "import plotly.express as px"
   ]
  },
  {
   "cell_type": "code",
   "execution_count": 25,
   "id": "7f4de5f1",
   "metadata": {},
   "outputs": [
    {
     "data": {
      "application/vnd.plotly.v1+json": {
       "config": {
        "plotlyServerURL": "https://plot.ly"
       },
       "data": [
        {
         "hovertemplate": "Date=%{x}<br>captured fishes (metric tons)=%{y}<extra></extra>",
         "legendgroup": "",
         "line": {
          "color": "#636efa",
          "dash": "solid"
         },
         "marker": {
          "symbol": "circle"
         },
         "mode": "lines",
         "name": "",
         "orientation": "v",
         "showlegend": false,
         "type": "scatter",
         "x": [
          "1960",
          "1961",
          "1962",
          "1963",
          "1964",
          "1965",
          "1966",
          "1967",
          "1968",
          "1969",
          "1970",
          "1971",
          "1972",
          "1973",
          "1974",
          "1975",
          "1976",
          "1977",
          "1978",
          "1979",
          "1980",
          "1981",
          "1982",
          "1983",
          "1984",
          "1985",
          "1986",
          "1987",
          "1988",
          "1989",
          "1990",
          "1991",
          "1992",
          "1993",
          "1994",
          "1995",
          "1996",
          "1997",
          "1998",
          "1999",
          "2000",
          "2001",
          "2002",
          "2003",
          "2004",
          "2005",
          "2006",
          "2007",
          "2008",
          "2009",
          "2010",
          "2011",
          "2012",
          "2013",
          "2014",
          "2015",
          "2016",
          "2017",
          "2018",
          "2019",
          "2020"
         ],
         "xaxis": "x",
         "y": [
          40700,
          31200,
          28500,
          26500,
          30900,
          34600,
          38800,
          48900,
          50500,
          63500,
          75200,
          69200,
          86600,
          87391,
          85782,
          84165,
          90019,
          89222,
          100237,
          89552,
          144391,
          185429,
          205954,
          197088,
          224827,
          248827,
          248878,
          263767,
          273824,
          219849,
          248374,
          265510,
          279887,
          310322,
          327371,
          423560,
          365942,
          328050,
          360646,
          319543,
          312397,
          392530,
          318742,
          301226,
          310578,
          297181,
          241288,
          244370,
          234819,
          298584,
          348441,
          243466.95,
          305427.85,
          275949.83,
          306423.74,
          264370.53,
          257518.44,
          276329.84,
          251240.96,
          238443.64,
          208502.06
         ],
         "yaxis": "y"
        }
       ],
       "layout": {
        "legend": {
         "tracegroupgap": 0
        },
        "template": {
         "data": {
          "bar": [
           {
            "error_x": {
             "color": "#2a3f5f"
            },
            "error_y": {
             "color": "#2a3f5f"
            },
            "marker": {
             "line": {
              "color": "#E5ECF6",
              "width": 0.5
             },
             "pattern": {
              "fillmode": "overlay",
              "size": 10,
              "solidity": 0.2
             }
            },
            "type": "bar"
           }
          ],
          "barpolar": [
           {
            "marker": {
             "line": {
              "color": "#E5ECF6",
              "width": 0.5
             },
             "pattern": {
              "fillmode": "overlay",
              "size": 10,
              "solidity": 0.2
             }
            },
            "type": "barpolar"
           }
          ],
          "carpet": [
           {
            "aaxis": {
             "endlinecolor": "#2a3f5f",
             "gridcolor": "white",
             "linecolor": "white",
             "minorgridcolor": "white",
             "startlinecolor": "#2a3f5f"
            },
            "baxis": {
             "endlinecolor": "#2a3f5f",
             "gridcolor": "white",
             "linecolor": "white",
             "minorgridcolor": "white",
             "startlinecolor": "#2a3f5f"
            },
            "type": "carpet"
           }
          ],
          "choropleth": [
           {
            "colorbar": {
             "outlinewidth": 0,
             "ticks": ""
            },
            "type": "choropleth"
           }
          ],
          "contour": [
           {
            "colorbar": {
             "outlinewidth": 0,
             "ticks": ""
            },
            "colorscale": [
             [
              0,
              "#0d0887"
             ],
             [
              0.1111111111111111,
              "#46039f"
             ],
             [
              0.2222222222222222,
              "#7201a8"
             ],
             [
              0.3333333333333333,
              "#9c179e"
             ],
             [
              0.4444444444444444,
              "#bd3786"
             ],
             [
              0.5555555555555556,
              "#d8576b"
             ],
             [
              0.6666666666666666,
              "#ed7953"
             ],
             [
              0.7777777777777778,
              "#fb9f3a"
             ],
             [
              0.8888888888888888,
              "#fdca26"
             ],
             [
              1,
              "#f0f921"
             ]
            ],
            "type": "contour"
           }
          ],
          "contourcarpet": [
           {
            "colorbar": {
             "outlinewidth": 0,
             "ticks": ""
            },
            "type": "contourcarpet"
           }
          ],
          "heatmap": [
           {
            "colorbar": {
             "outlinewidth": 0,
             "ticks": ""
            },
            "colorscale": [
             [
              0,
              "#0d0887"
             ],
             [
              0.1111111111111111,
              "#46039f"
             ],
             [
              0.2222222222222222,
              "#7201a8"
             ],
             [
              0.3333333333333333,
              "#9c179e"
             ],
             [
              0.4444444444444444,
              "#bd3786"
             ],
             [
              0.5555555555555556,
              "#d8576b"
             ],
             [
              0.6666666666666666,
              "#ed7953"
             ],
             [
              0.7777777777777778,
              "#fb9f3a"
             ],
             [
              0.8888888888888888,
              "#fdca26"
             ],
             [
              1,
              "#f0f921"
             ]
            ],
            "type": "heatmap"
           }
          ],
          "heatmapgl": [
           {
            "colorbar": {
             "outlinewidth": 0,
             "ticks": ""
            },
            "colorscale": [
             [
              0,
              "#0d0887"
             ],
             [
              0.1111111111111111,
              "#46039f"
             ],
             [
              0.2222222222222222,
              "#7201a8"
             ],
             [
              0.3333333333333333,
              "#9c179e"
             ],
             [
              0.4444444444444444,
              "#bd3786"
             ],
             [
              0.5555555555555556,
              "#d8576b"
             ],
             [
              0.6666666666666666,
              "#ed7953"
             ],
             [
              0.7777777777777778,
              "#fb9f3a"
             ],
             [
              0.8888888888888888,
              "#fdca26"
             ],
             [
              1,
              "#f0f921"
             ]
            ],
            "type": "heatmapgl"
           }
          ],
          "histogram": [
           {
            "marker": {
             "pattern": {
              "fillmode": "overlay",
              "size": 10,
              "solidity": 0.2
             }
            },
            "type": "histogram"
           }
          ],
          "histogram2d": [
           {
            "colorbar": {
             "outlinewidth": 0,
             "ticks": ""
            },
            "colorscale": [
             [
              0,
              "#0d0887"
             ],
             [
              0.1111111111111111,
              "#46039f"
             ],
             [
              0.2222222222222222,
              "#7201a8"
             ],
             [
              0.3333333333333333,
              "#9c179e"
             ],
             [
              0.4444444444444444,
              "#bd3786"
             ],
             [
              0.5555555555555556,
              "#d8576b"
             ],
             [
              0.6666666666666666,
              "#ed7953"
             ],
             [
              0.7777777777777778,
              "#fb9f3a"
             ],
             [
              0.8888888888888888,
              "#fdca26"
             ],
             [
              1,
              "#f0f921"
             ]
            ],
            "type": "histogram2d"
           }
          ],
          "histogram2dcontour": [
           {
            "colorbar": {
             "outlinewidth": 0,
             "ticks": ""
            },
            "colorscale": [
             [
              0,
              "#0d0887"
             ],
             [
              0.1111111111111111,
              "#46039f"
             ],
             [
              0.2222222222222222,
              "#7201a8"
             ],
             [
              0.3333333333333333,
              "#9c179e"
             ],
             [
              0.4444444444444444,
              "#bd3786"
             ],
             [
              0.5555555555555556,
              "#d8576b"
             ],
             [
              0.6666666666666666,
              "#ed7953"
             ],
             [
              0.7777777777777778,
              "#fb9f3a"
             ],
             [
              0.8888888888888888,
              "#fdca26"
             ],
             [
              1,
              "#f0f921"
             ]
            ],
            "type": "histogram2dcontour"
           }
          ],
          "mesh3d": [
           {
            "colorbar": {
             "outlinewidth": 0,
             "ticks": ""
            },
            "type": "mesh3d"
           }
          ],
          "parcoords": [
           {
            "line": {
             "colorbar": {
              "outlinewidth": 0,
              "ticks": ""
             }
            },
            "type": "parcoords"
           }
          ],
          "pie": [
           {
            "automargin": true,
            "type": "pie"
           }
          ],
          "scatter": [
           {
            "marker": {
             "colorbar": {
              "outlinewidth": 0,
              "ticks": ""
             }
            },
            "type": "scatter"
           }
          ],
          "scatter3d": [
           {
            "line": {
             "colorbar": {
              "outlinewidth": 0,
              "ticks": ""
             }
            },
            "marker": {
             "colorbar": {
              "outlinewidth": 0,
              "ticks": ""
             }
            },
            "type": "scatter3d"
           }
          ],
          "scattercarpet": [
           {
            "marker": {
             "colorbar": {
              "outlinewidth": 0,
              "ticks": ""
             }
            },
            "type": "scattercarpet"
           }
          ],
          "scattergeo": [
           {
            "marker": {
             "colorbar": {
              "outlinewidth": 0,
              "ticks": ""
             }
            },
            "type": "scattergeo"
           }
          ],
          "scattergl": [
           {
            "marker": {
             "colorbar": {
              "outlinewidth": 0,
              "ticks": ""
             }
            },
            "type": "scattergl"
           }
          ],
          "scattermapbox": [
           {
            "marker": {
             "colorbar": {
              "outlinewidth": 0,
              "ticks": ""
             }
            },
            "type": "scattermapbox"
           }
          ],
          "scatterpolar": [
           {
            "marker": {
             "colorbar": {
              "outlinewidth": 0,
              "ticks": ""
             }
            },
            "type": "scatterpolar"
           }
          ],
          "scatterpolargl": [
           {
            "marker": {
             "colorbar": {
              "outlinewidth": 0,
              "ticks": ""
             }
            },
            "type": "scatterpolargl"
           }
          ],
          "scatterternary": [
           {
            "marker": {
             "colorbar": {
              "outlinewidth": 0,
              "ticks": ""
             }
            },
            "type": "scatterternary"
           }
          ],
          "surface": [
           {
            "colorbar": {
             "outlinewidth": 0,
             "ticks": ""
            },
            "colorscale": [
             [
              0,
              "#0d0887"
             ],
             [
              0.1111111111111111,
              "#46039f"
             ],
             [
              0.2222222222222222,
              "#7201a8"
             ],
             [
              0.3333333333333333,
              "#9c179e"
             ],
             [
              0.4444444444444444,
              "#bd3786"
             ],
             [
              0.5555555555555556,
              "#d8576b"
             ],
             [
              0.6666666666666666,
              "#ed7953"
             ],
             [
              0.7777777777777778,
              "#fb9f3a"
             ],
             [
              0.8888888888888888,
              "#fdca26"
             ],
             [
              1,
              "#f0f921"
             ]
            ],
            "type": "surface"
           }
          ],
          "table": [
           {
            "cells": {
             "fill": {
              "color": "#EBF0F8"
             },
             "line": {
              "color": "white"
             }
            },
            "header": {
             "fill": {
              "color": "#C8D4E3"
             },
             "line": {
              "color": "white"
             }
            },
            "type": "table"
           }
          ]
         },
         "layout": {
          "annotationdefaults": {
           "arrowcolor": "#2a3f5f",
           "arrowhead": 0,
           "arrowwidth": 1
          },
          "autotypenumbers": "strict",
          "coloraxis": {
           "colorbar": {
            "outlinewidth": 0,
            "ticks": ""
           }
          },
          "colorscale": {
           "diverging": [
            [
             0,
             "#8e0152"
            ],
            [
             0.1,
             "#c51b7d"
            ],
            [
             0.2,
             "#de77ae"
            ],
            [
             0.3,
             "#f1b6da"
            ],
            [
             0.4,
             "#fde0ef"
            ],
            [
             0.5,
             "#f7f7f7"
            ],
            [
             0.6,
             "#e6f5d0"
            ],
            [
             0.7,
             "#b8e186"
            ],
            [
             0.8,
             "#7fbc41"
            ],
            [
             0.9,
             "#4d9221"
            ],
            [
             1,
             "#276419"
            ]
           ],
           "sequential": [
            [
             0,
             "#0d0887"
            ],
            [
             0.1111111111111111,
             "#46039f"
            ],
            [
             0.2222222222222222,
             "#7201a8"
            ],
            [
             0.3333333333333333,
             "#9c179e"
            ],
            [
             0.4444444444444444,
             "#bd3786"
            ],
            [
             0.5555555555555556,
             "#d8576b"
            ],
            [
             0.6666666666666666,
             "#ed7953"
            ],
            [
             0.7777777777777778,
             "#fb9f3a"
            ],
            [
             0.8888888888888888,
             "#fdca26"
            ],
            [
             1,
             "#f0f921"
            ]
           ],
           "sequentialminus": [
            [
             0,
             "#0d0887"
            ],
            [
             0.1111111111111111,
             "#46039f"
            ],
            [
             0.2222222222222222,
             "#7201a8"
            ],
            [
             0.3333333333333333,
             "#9c179e"
            ],
            [
             0.4444444444444444,
             "#bd3786"
            ],
            [
             0.5555555555555556,
             "#d8576b"
            ],
            [
             0.6666666666666666,
             "#ed7953"
            ],
            [
             0.7777777777777778,
             "#fb9f3a"
            ],
            [
             0.8888888888888888,
             "#fdca26"
            ],
            [
             1,
             "#f0f921"
            ]
           ]
          },
          "colorway": [
           "#636efa",
           "#EF553B",
           "#00cc96",
           "#ab63fa",
           "#FFA15A",
           "#19d3f3",
           "#FF6692",
           "#B6E880",
           "#FF97FF",
           "#FECB52"
          ],
          "font": {
           "color": "#2a3f5f"
          },
          "geo": {
           "bgcolor": "white",
           "lakecolor": "white",
           "landcolor": "#E5ECF6",
           "showlakes": true,
           "showland": true,
           "subunitcolor": "white"
          },
          "hoverlabel": {
           "align": "left"
          },
          "hovermode": "closest",
          "mapbox": {
           "style": "light"
          },
          "paper_bgcolor": "white",
          "plot_bgcolor": "#E5ECF6",
          "polar": {
           "angularaxis": {
            "gridcolor": "white",
            "linecolor": "white",
            "ticks": ""
           },
           "bgcolor": "#E5ECF6",
           "radialaxis": {
            "gridcolor": "white",
            "linecolor": "white",
            "ticks": ""
           }
          },
          "scene": {
           "xaxis": {
            "backgroundcolor": "#E5ECF6",
            "gridcolor": "white",
            "gridwidth": 2,
            "linecolor": "white",
            "showbackground": true,
            "ticks": "",
            "zerolinecolor": "white"
           },
           "yaxis": {
            "backgroundcolor": "#E5ECF6",
            "gridcolor": "white",
            "gridwidth": 2,
            "linecolor": "white",
            "showbackground": true,
            "ticks": "",
            "zerolinecolor": "white"
           },
           "zaxis": {
            "backgroundcolor": "#E5ECF6",
            "gridcolor": "white",
            "gridwidth": 2,
            "linecolor": "white",
            "showbackground": true,
            "ticks": "",
            "zerolinecolor": "white"
           }
          },
          "shapedefaults": {
           "line": {
            "color": "#2a3f5f"
           }
          },
          "ternary": {
           "aaxis": {
            "gridcolor": "white",
            "linecolor": "white",
            "ticks": ""
           },
           "baxis": {
            "gridcolor": "white",
            "linecolor": "white",
            "ticks": ""
           },
           "bgcolor": "#E5ECF6",
           "caxis": {
            "gridcolor": "white",
            "linecolor": "white",
            "ticks": ""
           }
          },
          "title": {
           "x": 0.05
          },
          "xaxis": {
           "automargin": true,
           "gridcolor": "white",
           "linecolor": "white",
           "ticks": "",
           "title": {
            "standoff": 15
           },
           "zerolinecolor": "white",
           "zerolinewidth": 2
          },
          "yaxis": {
           "automargin": true,
           "gridcolor": "white",
           "linecolor": "white",
           "ticks": "",
           "title": {
            "standoff": 15
           },
           "zerolinecolor": "white",
           "zerolinewidth": 2
          }
         }
        },
        "title": {
         "text": "Captured Fishes in Ireland"
        },
        "xaxis": {
         "anchor": "y",
         "domain": [
          0,
          1
         ],
         "title": {
          "text": "Date"
         }
        },
        "yaxis": {
         "anchor": "x",
         "domain": [
          0,
          1
         ],
         "title": {
          "text": "captured fishes (metric tons)"
         }
        }
       }
      },
      "text/html": [
       "<div>                            <div id=\"6022097a-2746-4727-a436-2456ae7e9a2c\" class=\"plotly-graph-div\" style=\"height:525px; width:100%;\"></div>            <script type=\"text/javascript\">                require([\"plotly\"], function(Plotly) {                    window.PLOTLYENV=window.PLOTLYENV || {};                                    if (document.getElementById(\"6022097a-2746-4727-a436-2456ae7e9a2c\")) {                    Plotly.newPlot(                        \"6022097a-2746-4727-a436-2456ae7e9a2c\",                        [{\"hovertemplate\":\"Date=%{x}<br>captured fishes (metric tons)=%{y}<extra></extra>\",\"legendgroup\":\"\",\"line\":{\"color\":\"#636efa\",\"dash\":\"solid\"},\"marker\":{\"symbol\":\"circle\"},\"mode\":\"lines\",\"name\":\"\",\"orientation\":\"v\",\"showlegend\":false,\"x\":[\"1960\",\"1961\",\"1962\",\"1963\",\"1964\",\"1965\",\"1966\",\"1967\",\"1968\",\"1969\",\"1970\",\"1971\",\"1972\",\"1973\",\"1974\",\"1975\",\"1976\",\"1977\",\"1978\",\"1979\",\"1980\",\"1981\",\"1982\",\"1983\",\"1984\",\"1985\",\"1986\",\"1987\",\"1988\",\"1989\",\"1990\",\"1991\",\"1992\",\"1993\",\"1994\",\"1995\",\"1996\",\"1997\",\"1998\",\"1999\",\"2000\",\"2001\",\"2002\",\"2003\",\"2004\",\"2005\",\"2006\",\"2007\",\"2008\",\"2009\",\"2010\",\"2011\",\"2012\",\"2013\",\"2014\",\"2015\",\"2016\",\"2017\",\"2018\",\"2019\",\"2020\"],\"xaxis\":\"x\",\"y\":[40700.0,31200.0,28500.0,26500.0,30900.0,34600.0,38800.0,48900.0,50500.0,63500.0,75200.0,69200.0,86600.0,87391.0,85782.0,84165.0,90019.0,89222.0,100237.0,89552.0,144391.0,185429.0,205954.0,197088.0,224827.0,248827.0,248878.0,263767.0,273824.0,219849.0,248374.0,265510.0,279887.0,310322.0,327371.0,423560.0,365942.0,328050.0,360646.0,319543.0,312397.0,392530.0,318742.0,301226.0,310578.0,297181.0,241288.0,244370.0,234819.0,298584.0,348441.0,243466.95,305427.85,275949.83,306423.74,264370.53,257518.44,276329.84,251240.96,238443.64,208502.06],\"yaxis\":\"y\",\"type\":\"scatter\"}],                        {\"template\":{\"data\":{\"bar\":[{\"error_x\":{\"color\":\"#2a3f5f\"},\"error_y\":{\"color\":\"#2a3f5f\"},\"marker\":{\"line\":{\"color\":\"#E5ECF6\",\"width\":0.5},\"pattern\":{\"fillmode\":\"overlay\",\"size\":10,\"solidity\":0.2}},\"type\":\"bar\"}],\"barpolar\":[{\"marker\":{\"line\":{\"color\":\"#E5ECF6\",\"width\":0.5},\"pattern\":{\"fillmode\":\"overlay\",\"size\":10,\"solidity\":0.2}},\"type\":\"barpolar\"}],\"carpet\":[{\"aaxis\":{\"endlinecolor\":\"#2a3f5f\",\"gridcolor\":\"white\",\"linecolor\":\"white\",\"minorgridcolor\":\"white\",\"startlinecolor\":\"#2a3f5f\"},\"baxis\":{\"endlinecolor\":\"#2a3f5f\",\"gridcolor\":\"white\",\"linecolor\":\"white\",\"minorgridcolor\":\"white\",\"startlinecolor\":\"#2a3f5f\"},\"type\":\"carpet\"}],\"choropleth\":[{\"colorbar\":{\"outlinewidth\":0,\"ticks\":\"\"},\"type\":\"choropleth\"}],\"contour\":[{\"colorbar\":{\"outlinewidth\":0,\"ticks\":\"\"},\"colorscale\":[[0.0,\"#0d0887\"],[0.1111111111111111,\"#46039f\"],[0.2222222222222222,\"#7201a8\"],[0.3333333333333333,\"#9c179e\"],[0.4444444444444444,\"#bd3786\"],[0.5555555555555556,\"#d8576b\"],[0.6666666666666666,\"#ed7953\"],[0.7777777777777778,\"#fb9f3a\"],[0.8888888888888888,\"#fdca26\"],[1.0,\"#f0f921\"]],\"type\":\"contour\"}],\"contourcarpet\":[{\"colorbar\":{\"outlinewidth\":0,\"ticks\":\"\"},\"type\":\"contourcarpet\"}],\"heatmap\":[{\"colorbar\":{\"outlinewidth\":0,\"ticks\":\"\"},\"colorscale\":[[0.0,\"#0d0887\"],[0.1111111111111111,\"#46039f\"],[0.2222222222222222,\"#7201a8\"],[0.3333333333333333,\"#9c179e\"],[0.4444444444444444,\"#bd3786\"],[0.5555555555555556,\"#d8576b\"],[0.6666666666666666,\"#ed7953\"],[0.7777777777777778,\"#fb9f3a\"],[0.8888888888888888,\"#fdca26\"],[1.0,\"#f0f921\"]],\"type\":\"heatmap\"}],\"heatmapgl\":[{\"colorbar\":{\"outlinewidth\":0,\"ticks\":\"\"},\"colorscale\":[[0.0,\"#0d0887\"],[0.1111111111111111,\"#46039f\"],[0.2222222222222222,\"#7201a8\"],[0.3333333333333333,\"#9c179e\"],[0.4444444444444444,\"#bd3786\"],[0.5555555555555556,\"#d8576b\"],[0.6666666666666666,\"#ed7953\"],[0.7777777777777778,\"#fb9f3a\"],[0.8888888888888888,\"#fdca26\"],[1.0,\"#f0f921\"]],\"type\":\"heatmapgl\"}],\"histogram\":[{\"marker\":{\"pattern\":{\"fillmode\":\"overlay\",\"size\":10,\"solidity\":0.2}},\"type\":\"histogram\"}],\"histogram2d\":[{\"colorbar\":{\"outlinewidth\":0,\"ticks\":\"\"},\"colorscale\":[[0.0,\"#0d0887\"],[0.1111111111111111,\"#46039f\"],[0.2222222222222222,\"#7201a8\"],[0.3333333333333333,\"#9c179e\"],[0.4444444444444444,\"#bd3786\"],[0.5555555555555556,\"#d8576b\"],[0.6666666666666666,\"#ed7953\"],[0.7777777777777778,\"#fb9f3a\"],[0.8888888888888888,\"#fdca26\"],[1.0,\"#f0f921\"]],\"type\":\"histogram2d\"}],\"histogram2dcontour\":[{\"colorbar\":{\"outlinewidth\":0,\"ticks\":\"\"},\"colorscale\":[[0.0,\"#0d0887\"],[0.1111111111111111,\"#46039f\"],[0.2222222222222222,\"#7201a8\"],[0.3333333333333333,\"#9c179e\"],[0.4444444444444444,\"#bd3786\"],[0.5555555555555556,\"#d8576b\"],[0.6666666666666666,\"#ed7953\"],[0.7777777777777778,\"#fb9f3a\"],[0.8888888888888888,\"#fdca26\"],[1.0,\"#f0f921\"]],\"type\":\"histogram2dcontour\"}],\"mesh3d\":[{\"colorbar\":{\"outlinewidth\":0,\"ticks\":\"\"},\"type\":\"mesh3d\"}],\"parcoords\":[{\"line\":{\"colorbar\":{\"outlinewidth\":0,\"ticks\":\"\"}},\"type\":\"parcoords\"}],\"pie\":[{\"automargin\":true,\"type\":\"pie\"}],\"scatter\":[{\"marker\":{\"colorbar\":{\"outlinewidth\":0,\"ticks\":\"\"}},\"type\":\"scatter\"}],\"scatter3d\":[{\"line\":{\"colorbar\":{\"outlinewidth\":0,\"ticks\":\"\"}},\"marker\":{\"colorbar\":{\"outlinewidth\":0,\"ticks\":\"\"}},\"type\":\"scatter3d\"}],\"scattercarpet\":[{\"marker\":{\"colorbar\":{\"outlinewidth\":0,\"ticks\":\"\"}},\"type\":\"scattercarpet\"}],\"scattergeo\":[{\"marker\":{\"colorbar\":{\"outlinewidth\":0,\"ticks\":\"\"}},\"type\":\"scattergeo\"}],\"scattergl\":[{\"marker\":{\"colorbar\":{\"outlinewidth\":0,\"ticks\":\"\"}},\"type\":\"scattergl\"}],\"scattermapbox\":[{\"marker\":{\"colorbar\":{\"outlinewidth\":0,\"ticks\":\"\"}},\"type\":\"scattermapbox\"}],\"scatterpolar\":[{\"marker\":{\"colorbar\":{\"outlinewidth\":0,\"ticks\":\"\"}},\"type\":\"scatterpolar\"}],\"scatterpolargl\":[{\"marker\":{\"colorbar\":{\"outlinewidth\":0,\"ticks\":\"\"}},\"type\":\"scatterpolargl\"}],\"scatterternary\":[{\"marker\":{\"colorbar\":{\"outlinewidth\":0,\"ticks\":\"\"}},\"type\":\"scatterternary\"}],\"surface\":[{\"colorbar\":{\"outlinewidth\":0,\"ticks\":\"\"},\"colorscale\":[[0.0,\"#0d0887\"],[0.1111111111111111,\"#46039f\"],[0.2222222222222222,\"#7201a8\"],[0.3333333333333333,\"#9c179e\"],[0.4444444444444444,\"#bd3786\"],[0.5555555555555556,\"#d8576b\"],[0.6666666666666666,\"#ed7953\"],[0.7777777777777778,\"#fb9f3a\"],[0.8888888888888888,\"#fdca26\"],[1.0,\"#f0f921\"]],\"type\":\"surface\"}],\"table\":[{\"cells\":{\"fill\":{\"color\":\"#EBF0F8\"},\"line\":{\"color\":\"white\"}},\"header\":{\"fill\":{\"color\":\"#C8D4E3\"},\"line\":{\"color\":\"white\"}},\"type\":\"table\"}]},\"layout\":{\"annotationdefaults\":{\"arrowcolor\":\"#2a3f5f\",\"arrowhead\":0,\"arrowwidth\":1},\"autotypenumbers\":\"strict\",\"coloraxis\":{\"colorbar\":{\"outlinewidth\":0,\"ticks\":\"\"}},\"colorscale\":{\"diverging\":[[0,\"#8e0152\"],[0.1,\"#c51b7d\"],[0.2,\"#de77ae\"],[0.3,\"#f1b6da\"],[0.4,\"#fde0ef\"],[0.5,\"#f7f7f7\"],[0.6,\"#e6f5d0\"],[0.7,\"#b8e186\"],[0.8,\"#7fbc41\"],[0.9,\"#4d9221\"],[1,\"#276419\"]],\"sequential\":[[0.0,\"#0d0887\"],[0.1111111111111111,\"#46039f\"],[0.2222222222222222,\"#7201a8\"],[0.3333333333333333,\"#9c179e\"],[0.4444444444444444,\"#bd3786\"],[0.5555555555555556,\"#d8576b\"],[0.6666666666666666,\"#ed7953\"],[0.7777777777777778,\"#fb9f3a\"],[0.8888888888888888,\"#fdca26\"],[1.0,\"#f0f921\"]],\"sequentialminus\":[[0.0,\"#0d0887\"],[0.1111111111111111,\"#46039f\"],[0.2222222222222222,\"#7201a8\"],[0.3333333333333333,\"#9c179e\"],[0.4444444444444444,\"#bd3786\"],[0.5555555555555556,\"#d8576b\"],[0.6666666666666666,\"#ed7953\"],[0.7777777777777778,\"#fb9f3a\"],[0.8888888888888888,\"#fdca26\"],[1.0,\"#f0f921\"]]},\"colorway\":[\"#636efa\",\"#EF553B\",\"#00cc96\",\"#ab63fa\",\"#FFA15A\",\"#19d3f3\",\"#FF6692\",\"#B6E880\",\"#FF97FF\",\"#FECB52\"],\"font\":{\"color\":\"#2a3f5f\"},\"geo\":{\"bgcolor\":\"white\",\"lakecolor\":\"white\",\"landcolor\":\"#E5ECF6\",\"showlakes\":true,\"showland\":true,\"subunitcolor\":\"white\"},\"hoverlabel\":{\"align\":\"left\"},\"hovermode\":\"closest\",\"mapbox\":{\"style\":\"light\"},\"paper_bgcolor\":\"white\",\"plot_bgcolor\":\"#E5ECF6\",\"polar\":{\"angularaxis\":{\"gridcolor\":\"white\",\"linecolor\":\"white\",\"ticks\":\"\"},\"bgcolor\":\"#E5ECF6\",\"radialaxis\":{\"gridcolor\":\"white\",\"linecolor\":\"white\",\"ticks\":\"\"}},\"scene\":{\"xaxis\":{\"backgroundcolor\":\"#E5ECF6\",\"gridcolor\":\"white\",\"gridwidth\":2,\"linecolor\":\"white\",\"showbackground\":true,\"ticks\":\"\",\"zerolinecolor\":\"white\"},\"yaxis\":{\"backgroundcolor\":\"#E5ECF6\",\"gridcolor\":\"white\",\"gridwidth\":2,\"linecolor\":\"white\",\"showbackground\":true,\"ticks\":\"\",\"zerolinecolor\":\"white\"},\"zaxis\":{\"backgroundcolor\":\"#E5ECF6\",\"gridcolor\":\"white\",\"gridwidth\":2,\"linecolor\":\"white\",\"showbackground\":true,\"ticks\":\"\",\"zerolinecolor\":\"white\"}},\"shapedefaults\":{\"line\":{\"color\":\"#2a3f5f\"}},\"ternary\":{\"aaxis\":{\"gridcolor\":\"white\",\"linecolor\":\"white\",\"ticks\":\"\"},\"baxis\":{\"gridcolor\":\"white\",\"linecolor\":\"white\",\"ticks\":\"\"},\"bgcolor\":\"#E5ECF6\",\"caxis\":{\"gridcolor\":\"white\",\"linecolor\":\"white\",\"ticks\":\"\"}},\"title\":{\"x\":0.05},\"xaxis\":{\"automargin\":true,\"gridcolor\":\"white\",\"linecolor\":\"white\",\"ticks\":\"\",\"title\":{\"standoff\":15},\"zerolinecolor\":\"white\",\"zerolinewidth\":2},\"yaxis\":{\"automargin\":true,\"gridcolor\":\"white\",\"linecolor\":\"white\",\"ticks\":\"\",\"title\":{\"standoff\":15},\"zerolinecolor\":\"white\",\"zerolinewidth\":2}}},\"xaxis\":{\"anchor\":\"y\",\"domain\":[0.0,1.0],\"title\":{\"text\":\"Date\"}},\"yaxis\":{\"anchor\":\"x\",\"domain\":[0.0,1.0],\"title\":{\"text\":\"captured fishes (metric tons)\"}},\"legend\":{\"tracegroupgap\":0},\"title\":{\"text\":\"Captured Fishes in Ireland\"}},                        {\"responsive\": true}                    ).then(function(){\n",
       "                            \n",
       "var gd = document.getElementById('6022097a-2746-4727-a436-2456ae7e9a2c');\n",
       "var x = new MutationObserver(function (mutations, observer) {{\n",
       "        var display = window.getComputedStyle(gd).display;\n",
       "        if (!display || display === 'none') {{\n",
       "            console.log([gd, 'removed!']);\n",
       "            Plotly.purge(gd);\n",
       "            observer.disconnect();\n",
       "        }}\n",
       "}});\n",
       "\n",
       "// Listen for the removal of the full notebook cells\n",
       "var notebookContainer = gd.closest('#notebook-container');\n",
       "if (notebookContainer) {{\n",
       "    x.observe(notebookContainer, {childList: true});\n",
       "}}\n",
       "\n",
       "// Listen for the clearing of the current output cell\n",
       "var outputEl = gd.closest('.output');\n",
       "if (outputEl) {{\n",
       "    x.observe(outputEl, {childList: true});\n",
       "}}\n",
       "\n",
       "                        })                };                });            </script>        </div>"
      ]
     },
     "metadata": {},
     "output_type": "display_data"
    }
   ],
   "source": [
    "# Filter the dataframe to include only rows for Ireland\n",
    "df_ireland = df_eu[df_eu['Country Name'] == 'Ireland']\n",
    "# Create the line chart\n",
    "fig = px.line(df_ireland, x='Date', y='captured fishes (metric tons)', title='Captured Fishes in Ireland')\n",
    "fig.show()\n",
    "\n"
   ]
  },
  {
   "cell_type": "code",
   "execution_count": 26,
   "id": "2639382b",
   "metadata": {},
   "outputs": [
    {
     "data": {
      "application/vnd.plotly.v1+json": {
       "config": {
        "plotlyServerURL": "https://plot.ly"
       },
       "data": [
        {
         "coloraxis": "coloraxis",
         "geo": "geo",
         "hovertemplate": "<b>%{hovertext}</b><br><br>Date=1960<br>Country Code=%{location}<br>captured fishes (metric tons)=%{z}<extra></extra>",
         "hovertext": [
          "Austria",
          "Belgium",
          "Bulgaria",
          "Cyprus",
          "Czech Republic",
          "Denmark",
          "Finland",
          "France",
          "Germany",
          "Greece",
          "Hungary",
          "Ireland",
          "Italy",
          "Malta",
          "Netherlands",
          "Poland",
          "Portugal",
          "Romania",
          "Spain",
          "Sweden"
         ],
         "locations": [
          "AUT",
          "BEL",
          "BGR",
          "CYP",
          "CZE",
          "DNK",
          "FIN",
          "FRA",
          "DEU",
          "GRC",
          "HUN",
          "IRL",
          "ITA",
          "MLT",
          "NLD",
          "POL",
          "PRT",
          "ROU",
          "ESP",
          "SWE"
         ],
         "name": "",
         "type": "choropleth",
         "z": [
          3550,
          63700,
          7800,
          500,
          334,
          568602,
          65500,
          651576,
          768100,
          87100,
          4900,
          40700,
          213960,
          1219,
          227881,
          175911,
          490387,
          24300,
          907298,
          249542
         ]
        }
       ],
       "frames": [
        {
         "data": [
          {
           "coloraxis": "coloraxis",
           "geo": "geo",
           "hovertemplate": "<b>%{hovertext}</b><br><br>Date=1960<br>Country Code=%{location}<br>captured fishes (metric tons)=%{z}<extra></extra>",
           "hovertext": [
            "Austria",
            "Belgium",
            "Bulgaria",
            "Cyprus",
            "Czech Republic",
            "Denmark",
            "Finland",
            "France",
            "Germany",
            "Greece",
            "Hungary",
            "Ireland",
            "Italy",
            "Malta",
            "Netherlands",
            "Poland",
            "Portugal",
            "Romania",
            "Spain",
            "Sweden"
           ],
           "locations": [
            "AUT",
            "BEL",
            "BGR",
            "CYP",
            "CZE",
            "DNK",
            "FIN",
            "FRA",
            "DEU",
            "GRC",
            "HUN",
            "IRL",
            "ITA",
            "MLT",
            "NLD",
            "POL",
            "PRT",
            "ROU",
            "ESP",
            "SWE"
           ],
           "name": "",
           "type": "choropleth",
           "z": [
            3550,
            63700,
            7800,
            500,
            334,
            568602,
            65500,
            651576,
            768100,
            87100,
            4900,
            40700,
            213960,
            1219,
            227881,
            175911,
            490387,
            24300,
            907298,
            249542
           ]
          }
         ],
         "name": "1960"
        },
        {
         "data": [
          {
           "coloraxis": "coloraxis",
           "geo": "geo",
           "hovertemplate": "<b>%{hovertext}</b><br><br>Date=1961<br>Country Code=%{location}<br>captured fishes (metric tons)=%{z}<extra></extra>",
           "hovertext": [
            "Austria",
            "Belgium",
            "Bulgaria",
            "Cyprus",
            "Czech Republic",
            "Denmark",
            "Finland",
            "France",
            "Germany",
            "Greece",
            "Hungary",
            "Ireland",
            "Italy",
            "Malta",
            "Netherlands",
            "Poland",
            "Portugal",
            "Romania",
            "Spain",
            "Sweden"
           ],
           "locations": [
            "AUT",
            "BEL",
            "BGR",
            "CYP",
            "CZE",
            "DNK",
            "FIN",
            "FRA",
            "DEU",
            "GRC",
            "HUN",
            "IRL",
            "ITA",
            "MLT",
            "NLD",
            "POL",
            "PRT",
            "ROU",
            "ESP",
            "SWE"
           ],
           "name": "",
           "type": "choropleth",
           "z": [
            3540,
            61600,
            7200,
            400,
            497,
            629954,
            67000,
            674920,
            732000,
            85100,
            6800,
            31200,
            240430,
            1325,
            262912,
            176822,
            517910,
            24400,
            971112,
            268413
           ]
          }
         ],
         "name": "1961"
        },
        {
         "data": [
          {
           "coloraxis": "coloraxis",
           "geo": "geo",
           "hovertemplate": "<b>%{hovertext}</b><br><br>Date=1962<br>Country Code=%{location}<br>captured fishes (metric tons)=%{z}<extra></extra>",
           "hovertext": [
            "Austria",
            "Belgium",
            "Bulgaria",
            "Cyprus",
            "Czech Republic",
            "Denmark",
            "Finland",
            "France",
            "Germany",
            "Greece",
            "Hungary",
            "Ireland",
            "Italy",
            "Malta",
            "Netherlands",
            "Poland",
            "Portugal",
            "Romania",
            "Spain",
            "Sweden"
           ],
           "locations": [
            "AUT",
            "BEL",
            "BGR",
            "CYP",
            "CZE",
            "DNK",
            "FIN",
            "FRA",
            "DEU",
            "GRC",
            "HUN",
            "IRL",
            "ITA",
            "MLT",
            "NLD",
            "POL",
            "PRT",
            "ROU",
            "ESP",
            "SWE"
           ],
           "name": "",
           "type": "choropleth",
           "z": [
            3830,
            59900,
            8600,
            600,
            486,
            777402,
            64900,
            654311,
            769900,
            80100,
            7250,
            28500,
            217082,
            1322,
            226328,
            173016,
            533968,
            19700,
            993604,
            293900
           ]
          }
         ],
         "name": "1962"
        },
        {
         "data": [
          {
           "coloraxis": "coloraxis",
           "geo": "geo",
           "hovertemplate": "<b>%{hovertext}</b><br><br>Date=1963<br>Country Code=%{location}<br>captured fishes (metric tons)=%{z}<extra></extra>",
           "hovertext": [
            "Austria",
            "Belgium",
            "Bulgaria",
            "Cyprus",
            "Czech Republic",
            "Denmark",
            "Finland",
            "France",
            "Germany",
            "Greece",
            "Hungary",
            "Ireland",
            "Italy",
            "Malta",
            "Netherlands",
            "Poland",
            "Portugal",
            "Romania",
            "Spain",
            "Sweden"
           ],
           "locations": [
            "AUT",
            "BEL",
            "BGR",
            "CYP",
            "CZE",
            "DNK",
            "FIN",
            "FRA",
            "DEU",
            "GRC",
            "HUN",
            "IRL",
            "ITA",
            "MLT",
            "NLD",
            "POL",
            "PRT",
            "ROU",
            "ESP",
            "SWE"
           ],
           "name": "",
           "type": "choropleth",
           "z": [
            4000,
            62000,
            6700,
            600,
            414,
            840080,
            80500,
            689299,
            824900,
            80100,
            6850,
            26500,
            226952,
            1634,
            272601,
            217937,
            559026,
            22600,
            993581.1,
            341800
           ]
          }
         ],
         "name": "1963"
        },
        {
         "data": [
          {
           "coloraxis": "coloraxis",
           "geo": "geo",
           "hovertemplate": "<b>%{hovertext}</b><br><br>Date=1964<br>Country Code=%{location}<br>captured fishes (metric tons)=%{z}<extra></extra>",
           "hovertext": [
            "Austria",
            "Belgium",
            "Bulgaria",
            "Cyprus",
            "Czech Republic",
            "Denmark",
            "Finland",
            "France",
            "Germany",
            "Greece",
            "Hungary",
            "Ireland",
            "Italy",
            "Malta",
            "Netherlands",
            "Poland",
            "Portugal",
            "Romania",
            "Spain",
            "Sweden"
           ],
           "locations": [
            "AUT",
            "BEL",
            "BGR",
            "CYP",
            "CZE",
            "DNK",
            "FIN",
            "FRA",
            "DEU",
            "GRC",
            "HUN",
            "IRL",
            "ITA",
            "MLT",
            "NLD",
            "POL",
            "PRT",
            "ROU",
            "ESP",
            "SWE"
           ],
           "name": "",
           "type": "choropleth",
           "z": [
            4220,
            59500,
            9600,
            600,
            433,
            862798,
            62900,
            709330,
            836200,
            83600,
            6600,
            30900,
            317196,
            1420,
            273482,
            254341,
            602540,
            19990,
            1068328.1,
            377298
           ]
          }
         ],
         "name": "1964"
        },
        {
         "data": [
          {
           "coloraxis": "coloraxis",
           "geo": "geo",
           "hovertemplate": "<b>%{hovertext}</b><br><br>Date=1965<br>Country Code=%{location}<br>captured fishes (metric tons)=%{z}<extra></extra>",
           "hovertext": [
            "Austria",
            "Belgium",
            "Bulgaria",
            "Cyprus",
            "Czech Republic",
            "Denmark",
            "Finland",
            "France",
            "Germany",
            "Greece",
            "Hungary",
            "Ireland",
            "Italy",
            "Malta",
            "Netherlands",
            "Poland",
            "Portugal",
            "Romania",
            "Spain",
            "Sweden"
           ],
           "locations": [
            "AUT",
            "BEL",
            "BGR",
            "CYP",
            "CZE",
            "DNK",
            "FIN",
            "FRA",
            "DEU",
            "GRC",
            "HUN",
            "IRL",
            "ITA",
            "MLT",
            "NLD",
            "POL",
            "PRT",
            "ROU",
            "ESP",
            "SWE"
           ],
           "name": "",
           "type": "choropleth",
           "z": [
            4370,
            59700,
            16083,
            1006,
            675,
            830021,
            73200,
            745249,
            850200,
            89700,
            7520,
            34600,
            344541,
            1228,
            266700,
            287757,
            566672,
            23731,
            1188740.4,
            370056
           ]
          }
         ],
         "name": "1965"
        },
        {
         "data": [
          {
           "coloraxis": "coloraxis",
           "geo": "geo",
           "hovertemplate": "<b>%{hovertext}</b><br><br>Date=1966<br>Country Code=%{location}<br>captured fishes (metric tons)=%{z}<extra></extra>",
           "hovertext": [
            "Austria",
            "Belgium",
            "Bulgaria",
            "Cyprus",
            "Czech Republic",
            "Denmark",
            "Finland",
            "France",
            "Germany",
            "Greece",
            "Hungary",
            "Ireland",
            "Italy",
            "Malta",
            "Netherlands",
            "Poland",
            "Portugal",
            "Romania",
            "Spain",
            "Sweden"
           ],
           "locations": [
            "AUT",
            "BEL",
            "BGR",
            "CYP",
            "CZE",
            "DNK",
            "FIN",
            "FRA",
            "DEU",
            "GRC",
            "HUN",
            "IRL",
            "ITA",
            "MLT",
            "NLD",
            "POL",
            "PRT",
            "ROU",
            "ESP",
            "SWE"
           ],
           "name": "",
           "type": "choropleth",
           "z": [
            4150,
            62800,
            22975,
            1009,
            696,
            840667,
            70800,
            799698,
            861700,
            91000,
            8010,
            38800,
            358591,
            1312,
            260600,
            324613,
            523273,
            22633,
            1204516.8,
            319790
           ]
          }
         ],
         "name": "1966"
        },
        {
         "data": [
          {
           "coloraxis": "coloraxis",
           "geo": "geo",
           "hovertemplate": "<b>%{hovertext}</b><br><br>Date=1967<br>Country Code=%{location}<br>captured fishes (metric tons)=%{z}<extra></extra>",
           "hovertext": [
            "Austria",
            "Belgium",
            "Bulgaria",
            "Cyprus",
            "Czech Republic",
            "Denmark",
            "Finland",
            "France",
            "Germany",
            "Greece",
            "Hungary",
            "Ireland",
            "Italy",
            "Malta",
            "Netherlands",
            "Poland",
            "Portugal",
            "Romania",
            "Spain",
            "Sweden"
           ],
           "locations": [
            "AUT",
            "BEL",
            "BGR",
            "CYP",
            "CZE",
            "DNK",
            "FIN",
            "FRA",
            "DEU",
            "GRC",
            "HUN",
            "IRL",
            "ITA",
            "MLT",
            "NLD",
            "POL",
            "PRT",
            "ROU",
            "ESP",
            "SWE"
           ],
           "name": "",
           "type": "choropleth",
           "z": [
            3410,
            63800,
            38081,
            1014,
            691,
            1059777,
            73700,
            810052,
            930900,
            93200,
            8970,
            48900,
            358836,
            1414,
            228900,
            328215,
            583548,
            30666,
            1308681,
            341168
           ]
          }
         ],
         "name": "1967"
        },
        {
         "data": [
          {
           "coloraxis": "coloraxis",
           "geo": "geo",
           "hovertemplate": "<b>%{hovertext}</b><br><br>Date=1968<br>Country Code=%{location}<br>captured fishes (metric tons)=%{z}<extra></extra>",
           "hovertext": [
            "Austria",
            "Belgium",
            "Bulgaria",
            "Cyprus",
            "Czech Republic",
            "Denmark",
            "Finland",
            "France",
            "Germany",
            "Greece",
            "Hungary",
            "Ireland",
            "Italy",
            "Malta",
            "Netherlands",
            "Poland",
            "Portugal",
            "Romania",
            "Spain",
            "Sweden"
           ],
           "locations": [
            "AUT",
            "BEL",
            "BGR",
            "CYP",
            "CZE",
            "DNK",
            "FIN",
            "FRA",
            "DEU",
            "GRC",
            "HUN",
            "IRL",
            "ITA",
            "MLT",
            "NLD",
            "POL",
            "PRT",
            "ROU",
            "ESP",
            "SWE"
           ],
           "name": "",
           "type": "choropleth",
           "z": [
            3260,
            68200,
            55584,
            1412,
            571,
            1454630,
            92200,
            829986,
            964500,
            99900,
            10100,
            50500,
            346140,
            1228,
            209700,
            394282,
            527698,
            26492,
            1455161,
            318460
           ]
          }
         ],
         "name": "1968"
        },
        {
         "data": [
          {
           "coloraxis": "coloraxis",
           "geo": "geo",
           "hovertemplate": "<b>%{hovertext}</b><br><br>Date=1969<br>Country Code=%{location}<br>captured fishes (metric tons)=%{z}<extra></extra>",
           "hovertext": [
            "Austria",
            "Belgium",
            "Bulgaria",
            "Cyprus",
            "Czech Republic",
            "Denmark",
            "Finland",
            "France",
            "Germany",
            "Greece",
            "Hungary",
            "Ireland",
            "Italy",
            "Malta",
            "Netherlands",
            "Poland",
            "Portugal",
            "Romania",
            "Spain",
            "Sweden"
           ],
           "locations": [
            "AUT",
            "BEL",
            "BGR",
            "CYP",
            "CZE",
            "DNK",
            "FIN",
            "FRA",
            "DEU",
            "GRC",
            "HUN",
            "IRL",
            "ITA",
            "MLT",
            "NLD",
            "POL",
            "PRT",
            "ROU",
            "ESP",
            "SWE"
           ],
           "name": "",
           "type": "choropleth",
           "z": [
            2700,
            58700,
            78673,
            1409,
            636,
            1264254,
            86500,
            750969,
            950900,
            94200,
            7500,
            63500,
            349879,
            1135,
            217300,
            394942,
            480566,
            30597,
            1386415,
            269358
           ]
          }
         ],
         "name": "1969"
        },
        {
         "data": [
          {
           "coloraxis": "coloraxis",
           "geo": "geo",
           "hovertemplate": "<b>%{hovertext}</b><br><br>Date=1970<br>Country Code=%{location}<br>captured fishes (metric tons)=%{z}<extra></extra>",
           "hovertext": [
            "Austria",
            "Belgium",
            "Bulgaria",
            "Cyprus",
            "Czech Republic",
            "Denmark",
            "Finland",
            "France",
            "Germany",
            "Greece",
            "Hungary",
            "Ireland",
            "Italy",
            "Malta",
            "Netherlands",
            "Poland",
            "Portugal",
            "Romania",
            "Spain",
            "Sweden"
           ],
           "locations": [
            "AUT",
            "BEL",
            "BGR",
            "CYP",
            "CZE",
            "DNK",
            "FIN",
            "FRA",
            "DEU",
            "GRC",
            "HUN",
            "IRL",
            "ITA",
            "MLT",
            "NLD",
            "POL",
            "PRT",
            "ROU",
            "ESP",
            "SWE"
           ],
           "name": "",
           "type": "choropleth",
           "z": [
            2330,
            53000,
            88601,
            1363,
            629,
            1217228,
            80700,
            752458,
            916021,
            85099,
            6500,
            75200,
            389117,
            1212,
            214800,
            459628,
            477830,
            43959,
            1426479,
            285669
           ]
          }
         ],
         "name": "1970"
        },
        {
         "data": [
          {
           "coloraxis": "coloraxis",
           "geo": "geo",
           "hovertemplate": "<b>%{hovertext}</b><br><br>Date=1971<br>Country Code=%{location}<br>captured fishes (metric tons)=%{z}<extra></extra>",
           "hovertext": [
            "Austria",
            "Belgium",
            "Bulgaria",
            "Cyprus",
            "Czech Republic",
            "Denmark",
            "Finland",
            "France",
            "Germany",
            "Greece",
            "Hungary",
            "Ireland",
            "Italy",
            "Malta",
            "Netherlands",
            "Poland",
            "Portugal",
            "Romania",
            "Spain",
            "Sweden"
           ],
           "locations": [
            "AUT",
            "BEL",
            "BGR",
            "CYP",
            "CZE",
            "DNK",
            "FIN",
            "FRA",
            "DEU",
            "GRC",
            "HUN",
            "IRL",
            "ITA",
            "MLT",
            "NLD",
            "POL",
            "PRT",
            "ROU",
            "ESP",
            "SWE"
           ],
           "name": "",
           "type": "choropleth",
           "z": [
            1940,
            60200,
            95404,
            1255,
            959,
            1388991,
            90200,
            761294,
            825676,
            94164,
            6800,
            69200,
            390997,
            1247,
            225500,
            507249,
            454014,
            50252,
            1374699,
            229386
           ]
          }
         ],
         "name": "1971"
        },
        {
         "data": [
          {
           "coloraxis": "coloraxis",
           "geo": "geo",
           "hovertemplate": "<b>%{hovertext}</b><br><br>Date=1972<br>Country Code=%{location}<br>captured fishes (metric tons)=%{z}<extra></extra>",
           "hovertext": [
            "Austria",
            "Belgium",
            "Bulgaria",
            "Cyprus",
            "Czech Republic",
            "Denmark",
            "Finland",
            "France",
            "Germany",
            "Greece",
            "Hungary",
            "Ireland",
            "Italy",
            "Malta",
            "Netherlands",
            "Poland",
            "Portugal",
            "Romania",
            "Spain",
            "Sweden"
           ],
           "locations": [
            "AUT",
            "BEL",
            "BGR",
            "CYP",
            "CZE",
            "DNK",
            "FIN",
            "FRA",
            "DEU",
            "GRC",
            "HUN",
            "IRL",
            "ITA",
            "MLT",
            "NLD",
            "POL",
            "PRT",
            "ROU",
            "ESP",
            "SWE"
           ],
           "name": "",
           "type": "choropleth",
           "z": [
            1520,
            59000,
            106417,
            1340,
            1210,
            1429007,
            87600,
            725937,
            736404,
            92049,
            6300,
            86600,
            407839,
            1247,
            232100,
            531014,
            458690,
            55579,
            1405810,
            218105
           ]
          }
         ],
         "name": "1972"
        },
        {
         "data": [
          {
           "coloraxis": "coloraxis",
           "geo": "geo",
           "hovertemplate": "<b>%{hovertext}</b><br><br>Date=1973<br>Country Code=%{location}<br>captured fishes (metric tons)=%{z}<extra></extra>",
           "hovertext": [
            "Austria",
            "Belgium",
            "Bulgaria",
            "Cyprus",
            "Czech Republic",
            "Denmark",
            "Finland",
            "France",
            "Germany",
            "Greece",
            "Hungary",
            "Ireland",
            "Italy",
            "Malta",
            "Netherlands",
            "Poland",
            "Portugal",
            "Romania",
            "Spain",
            "Sweden"
           ],
           "locations": [
            "AUT",
            "BEL",
            "BGR",
            "CYP",
            "CZE",
            "DNK",
            "FIN",
            "FRA",
            "DEU",
            "GRC",
            "HUN",
            "IRL",
            "ITA",
            "MLT",
            "NLD",
            "POL",
            "PRT",
            "ROU",
            "ESP",
            "SWE"
           ],
           "name": "",
           "type": "choropleth",
           "z": [
            900,
            53300,
            97110,
            1459,
            962,
            1430486,
            98800,
            764694,
            821784,
            103346,
            7474,
            87391,
            395315,
            1644,
            230736,
            565133,
            492539,
            74218,
            1431405,
            220184
           ]
          }
         ],
         "name": "1973"
        },
        {
         "data": [
          {
           "coloraxis": "coloraxis",
           "geo": "geo",
           "hovertemplate": "<b>%{hovertext}</b><br><br>Date=1974<br>Country Code=%{location}<br>captured fishes (metric tons)=%{z}<extra></extra>",
           "hovertext": [
            "Austria",
            "Belgium",
            "Bulgaria",
            "Cyprus",
            "Czech Republic",
            "Denmark",
            "Finland",
            "France",
            "Germany",
            "Greece",
            "Hungary",
            "Ireland",
            "Italy",
            "Malta",
            "Netherlands",
            "Poland",
            "Portugal",
            "Romania",
            "Spain",
            "Sweden"
           ],
           "locations": [
            "AUT",
            "BEL",
            "BGR",
            "CYP",
            "CZE",
            "DNK",
            "FIN",
            "FRA",
            "DEU",
            "GRC",
            "HUN",
            "IRL",
            "ITA",
            "MLT",
            "NLD",
            "POL",
            "PRT",
            "ROU",
            "ESP",
            "SWE"
           ],
           "name": "",
           "type": "choropleth",
           "z": [
            850,
            46820,
            112759,
            1180,
            945,
            1823180,
            110650,
            747194,
            861817,
            92278,
            8368,
            85782,
            426700,
            1546,
            227142,
            665636,
            442676,
            95909,
            1430038,
            205148
           ]
          }
         ],
         "name": "1974"
        },
        {
         "data": [
          {
           "coloraxis": "coloraxis",
           "geo": "geo",
           "hovertemplate": "<b>%{hovertext}</b><br><br>Date=1975<br>Country Code=%{location}<br>captured fishes (metric tons)=%{z}<extra></extra>",
           "hovertext": [
            "Austria",
            "Belgium",
            "Bulgaria",
            "Cyprus",
            "Czech Republic",
            "Denmark",
            "Finland",
            "France",
            "Germany",
            "Greece",
            "Hungary",
            "Ireland",
            "Italy",
            "Malta",
            "Netherlands",
            "Poland",
            "Portugal",
            "Romania",
            "Spain",
            "Sweden"
           ],
           "locations": [
            "AUT",
            "BEL",
            "BGR",
            "CYP",
            "CZE",
            "DNK",
            "FIN",
            "FRA",
            "DEU",
            "GRC",
            "HUN",
            "IRL",
            "ITA",
            "MLT",
            "NLD",
            "POL",
            "PRT",
            "ROU",
            "ESP",
            "SWE"
           ],
           "name": "",
           "type": "choropleth",
           "z": [
            840,
            49027,
            151933,
            919,
            1113,
            1751851,
            109997,
            714393,
            788675,
            94936,
            8838,
            84165,
            399103,
            1529,
            238422,
            786442,
            387972,
            104308,
            1436580,
            206862
           ]
          }
         ],
         "name": "1975"
        },
        {
         "data": [
          {
           "coloraxis": "coloraxis",
           "geo": "geo",
           "hovertemplate": "<b>%{hovertext}</b><br><br>Date=1976<br>Country Code=%{location}<br>captured fishes (metric tons)=%{z}<extra></extra>",
           "hovertext": [
            "Austria",
            "Belgium",
            "Bulgaria",
            "Cyprus",
            "Czech Republic",
            "Denmark",
            "Finland",
            "France",
            "Germany",
            "Greece",
            "Hungary",
            "Ireland",
            "Italy",
            "Malta",
            "Netherlands",
            "Poland",
            "Portugal",
            "Romania",
            "Spain",
            "Sweden"
           ],
           "locations": [
            "AUT",
            "BEL",
            "BGR",
            "CYP",
            "CZE",
            "DNK",
            "FIN",
            "FRA",
            "DEU",
            "GRC",
            "HUN",
            "IRL",
            "ITA",
            "MLT",
            "NLD",
            "POL",
            "PRT",
            "ROU",
            "ESP",
            "SWE"
           ],
           "name": "",
           "type": "choropleth",
           "z": [
            970,
            44496,
            160894,
            1052,
            1061,
            1905048,
            117559,
            713101,
            700436,
            105962,
            9932,
            90019,
            414847,
            1571,
            211669,
            736485,
            352558,
            89824,
            1418869,
            204810
           ]
          }
         ],
         "name": "1976"
        },
        {
         "data": [
          {
           "coloraxis": "coloraxis",
           "geo": "geo",
           "hovertemplate": "<b>%{hovertext}</b><br><br>Date=1977<br>Country Code=%{location}<br>captured fishes (metric tons)=%{z}<extra></extra>",
           "hovertext": [
            "Austria",
            "Belgium",
            "Bulgaria",
            "Cyprus",
            "Czech Republic",
            "Denmark",
            "Finland",
            "France",
            "Germany",
            "Greece",
            "Hungary",
            "Ireland",
            "Italy",
            "Malta",
            "Netherlands",
            "Poland",
            "Portugal",
            "Romania",
            "Spain",
            "Sweden"
           ],
           "locations": [
            "AUT",
            "BEL",
            "BGR",
            "CYP",
            "CZE",
            "DNK",
            "FIN",
            "FRA",
            "DEU",
            "GRC",
            "HUN",
            "IRL",
            "ITA",
            "MLT",
            "NLD",
            "POL",
            "PRT",
            "ROU",
            "ESP",
            "SWE"
           ],
           "name": "",
           "type": "choropleth",
           "z": [
            870,
            45360,
            129863,
            1189,
            1053,
            1792979,
            115331,
            656550,
            619318,
            106867,
            12772,
            89222,
            363244,
            1483,
            203716,
            646861,
            313846,
            115559,
            1337950,
            182316
           ]
          }
         ],
         "name": "1977"
        },
        {
         "data": [
          {
           "coloraxis": "coloraxis",
           "geo": "geo",
           "hovertemplate": "<b>%{hovertext}</b><br><br>Date=1978<br>Country Code=%{location}<br>captured fishes (metric tons)=%{z}<extra></extra>",
           "hovertext": [
            "Austria",
            "Belgium",
            "Bulgaria",
            "Cyprus",
            "Czech Republic",
            "Denmark",
            "Finland",
            "France",
            "Germany",
            "Greece",
            "Hungary",
            "Ireland",
            "Italy",
            "Malta",
            "Netherlands",
            "Poland",
            "Portugal",
            "Romania",
            "Spain",
            "Sweden"
           ],
           "locations": [
            "AUT",
            "BEL",
            "BGR",
            "CYP",
            "CZE",
            "DNK",
            "FIN",
            "FRA",
            "DEU",
            "GRC",
            "HUN",
            "IRL",
            "ITA",
            "MLT",
            "NLD",
            "POL",
            "PRT",
            "ROU",
            "ESP",
            "SWE"
           ],
           "name": "",
           "type": "choropleth",
           "z": [
            800,
            50577,
            91261,
            1245,
            948,
            1734709,
            135711,
            696895.3,
            589193,
            100871,
            10802,
            100237,
            387029.4,
            1079,
            205951,
            569398,
            259685,
            102346,
            1314012.4,
            184937
           ]
          }
         ],
         "name": "1978"
        },
        {
         "data": [
          {
           "coloraxis": "coloraxis",
           "geo": "geo",
           "hovertemplate": "<b>%{hovertext}</b><br><br>Date=1979<br>Country Code=%{location}<br>captured fishes (metric tons)=%{z}<extra></extra>",
           "hovertext": [
            "Austria",
            "Belgium",
            "Bulgaria",
            "Cyprus",
            "Czech Republic",
            "Denmark",
            "Finland",
            "France",
            "Germany",
            "Greece",
            "Hungary",
            "Ireland",
            "Italy",
            "Malta",
            "Netherlands",
            "Poland",
            "Portugal",
            "Romania",
            "Spain",
            "Sweden"
           ],
           "locations": [
            "AUT",
            "BEL",
            "BGR",
            "CYP",
            "CZE",
            "DNK",
            "FIN",
            "FRA",
            "DEU",
            "GRC",
            "HUN",
            "IRL",
            "ITA",
            "MLT",
            "NLD",
            "POL",
            "PRT",
            "ROU",
            "ESP",
            "SWE"
           ],
           "name": "",
           "type": "choropleth",
           "z": [
            700,
            47125,
            76065,
            1283,
            851,
            1724138,
            130697,
            649366.3,
            565071,
            103282,
            11219,
            89552,
            412114.4,
            1322,
            226279,
            589349,
            250939,
            144536,
            1153818,
            197481
           ]
          }
         ],
         "name": "1979"
        },
        {
         "data": [
          {
           "coloraxis": "coloraxis",
           "geo": "geo",
           "hovertemplate": "<b>%{hovertext}</b><br><br>Date=1980<br>Country Code=%{location}<br>captured fishes (metric tons)=%{z}<extra></extra>",
           "hovertext": [
            "Austria",
            "Belgium",
            "Bulgaria",
            "Cyprus",
            "Czech Republic",
            "Denmark",
            "Finland",
            "France",
            "Germany",
            "Greece",
            "Hungary",
            "Ireland",
            "Italy",
            "Malta",
            "Netherlands",
            "Poland",
            "Portugal",
            "Romania",
            "Spain",
            "Sweden"
           ],
           "locations": [
            "AUT",
            "BEL",
            "BGR",
            "CYP",
            "CZE",
            "DNK",
            "FIN",
            "FRA",
            "DEU",
            "GRC",
            "HUN",
            "IRL",
            "ITA",
            "MLT",
            "NLD",
            "POL",
            "PRT",
            "ROU",
            "ESP",
            "SWE"
           ],
           "name": "",
           "type": "choropleth",
           "z": [
            1100,
            45615,
            113687,
            1308,
            853,
            2013518,
            160579,
            652110.9,
            523777,
            105651,
            11163,
            144391,
            430265.5,
            1078,
            263460,
            630783,
            275852,
            138930,
            1170237.5,
            232694
           ]
          }
         ],
         "name": "1980"
        },
        {
         "data": [
          {
           "coloraxis": "coloraxis",
           "geo": "geo",
           "hovertemplate": "<b>%{hovertext}</b><br><br>Date=1981<br>Country Code=%{location}<br>captured fishes (metric tons)=%{z}<extra></extra>",
           "hovertext": [
            "Austria",
            "Belgium",
            "Bulgaria",
            "Cyprus",
            "Czech Republic",
            "Denmark",
            "Finland",
            "France",
            "Germany",
            "Greece",
            "Hungary",
            "Ireland",
            "Italy",
            "Malta",
            "Netherlands",
            "Poland",
            "Portugal",
            "Romania",
            "Spain",
            "Sweden"
           ],
           "locations": [
            "AUT",
            "BEL",
            "BGR",
            "CYP",
            "CZE",
            "DNK",
            "FIN",
            "FRA",
            "DEU",
            "GRC",
            "HUN",
            "IRL",
            "ITA",
            "MLT",
            "NLD",
            "POL",
            "PRT",
            "ROU",
            "ESP",
            "SWE"
           ],
           "name": "",
           "type": "choropleth",
           "z": [
            1200,
            49279,
            93953,
            1426,
            1168,
            1838243,
            149696,
            673271.88,
            549483,
            101460.18,
            12989,
            185429,
            430152.09,
            942,
            370224,
            608898,
            269038,
            152997,
            1181649.5,
            254718
           ]
          }
         ],
         "name": "1981"
        },
        {
         "data": [
          {
           "coloraxis": "coloraxis",
           "geo": "geo",
           "hovertemplate": "<b>%{hovertext}</b><br><br>Date=1982<br>Country Code=%{location}<br>captured fishes (metric tons)=%{z}<extra></extra>",
           "hovertext": [
            "Austria",
            "Belgium",
            "Bulgaria",
            "Cyprus",
            "Czech Republic",
            "Denmark",
            "Finland",
            "France",
            "Germany",
            "Greece",
            "Hungary",
            "Ireland",
            "Italy",
            "Malta",
            "Netherlands",
            "Poland",
            "Portugal",
            "Romania",
            "Spain",
            "Sweden"
           ],
           "locations": [
            "AUT",
            "BEL",
            "BGR",
            "CYP",
            "CZE",
            "DNK",
            "FIN",
            "FRA",
            "DEU",
            "GRC",
            "HUN",
            "IRL",
            "ITA",
            "MLT",
            "NLD",
            "POL",
            "PRT",
            "ROU",
            "ESP",
            "SWE"
           ],
           "name": "",
           "type": "choropleth",
           "z": [
            1400,
            47841,
            100982,
            1545,
            1043,
            1909718,
            157818,
            668109.64,
            499021,
            104637.8,
            15972,
            205954,
            449270.66,
            1216,
            414496,
            596400,
            259194,
            191992,
            1239745,
            251842
           ]
          }
         ],
         "name": "1982"
        },
        {
         "data": [
          {
           "coloraxis": "coloraxis",
           "geo": "geo",
           "hovertemplate": "<b>%{hovertext}</b><br><br>Date=1983<br>Country Code=%{location}<br>captured fishes (metric tons)=%{z}<extra></extra>",
           "hovertext": [
            "Austria",
            "Belgium",
            "Bulgaria",
            "Cyprus",
            "Czech Republic",
            "Denmark",
            "Finland",
            "France",
            "Germany",
            "Greece",
            "Hungary",
            "Ireland",
            "Italy",
            "Malta",
            "Netherlands",
            "Poland",
            "Portugal",
            "Romania",
            "Spain",
            "Sweden"
           ],
           "locations": [
            "AUT",
            "BEL",
            "BGR",
            "CYP",
            "CZE",
            "DNK",
            "FIN",
            "FRA",
            "DEU",
            "GRC",
            "HUN",
            "IRL",
            "ITA",
            "MLT",
            "NLD",
            "POL",
            "PRT",
            "ROU",
            "ESP",
            "SWE"
           ],
           "name": "",
           "type": "choropleth",
           "z": [
            1100,
            48580,
            108207,
            1938.77,
            961,
            1845546,
            167647,
            690911.47,
            473786,
            99847.4,
            16247,
            197088,
            454107.48,
            999,
            442196,
            722833,
            253356,
            210427,
            1179025.5,
            258490
           ]
          }
         ],
         "name": "1983"
        },
        {
         "data": [
          {
           "coloraxis": "coloraxis",
           "geo": "geo",
           "hovertemplate": "<b>%{hovertext}</b><br><br>Date=1984<br>Country Code=%{location}<br>captured fishes (metric tons)=%{z}<extra></extra>",
           "hovertext": [
            "Austria",
            "Belgium",
            "Bulgaria",
            "Cyprus",
            "Czech Republic",
            "Denmark",
            "Finland",
            "France",
            "Germany",
            "Greece",
            "Hungary",
            "Ireland",
            "Italy",
            "Malta",
            "Netherlands",
            "Poland",
            "Portugal",
            "Romania",
            "Spain",
            "Sweden"
           ],
           "locations": [
            "AUT",
            "BEL",
            "BGR",
            "CYP",
            "CZE",
            "DNK",
            "FIN",
            "FRA",
            "DEU",
            "GRC",
            "HUN",
            "IRL",
            "ITA",
            "MLT",
            "NLD",
            "POL",
            "PRT",
            "ROU",
            "ESP",
            "SWE"
           ],
           "name": "",
           "type": "choropleth",
           "z": [
            700,
            47871,
            100996,
            2206,
            3700,
            1827875,
            169408,
            677803.54,
            455971,
            105998.8,
            22704,
            224827,
            484030.73,
            1226,
            435742,
            700369,
            305309,
            187333,
            1194527.5,
            271353
           ]
          }
         ],
         "name": "1984"
        },
        {
         "data": [
          {
           "coloraxis": "coloraxis",
           "geo": "geo",
           "hovertemplate": "<b>%{hovertext}</b><br><br>Date=1985<br>Country Code=%{location}<br>captured fishes (metric tons)=%{z}<extra></extra>",
           "hovertext": [
            "Austria",
            "Belgium",
            "Bulgaria",
            "Cyprus",
            "Czech Republic",
            "Denmark",
            "Finland",
            "France",
            "Germany",
            "Greece",
            "Hungary",
            "Ireland",
            "Italy",
            "Malta",
            "Netherlands",
            "Poland",
            "Portugal",
            "Romania",
            "Spain",
            "Sweden"
           ],
           "locations": [
            "AUT",
            "BEL",
            "BGR",
            "CYP",
            "CZE",
            "DNK",
            "FIN",
            "FRA",
            "DEU",
            "GRC",
            "HUN",
            "IRL",
            "ITA",
            "MLT",
            "NLD",
            "POL",
            "PRT",
            "ROU",
            "ESP",
            "SWE"
           ],
           "name": "",
           "type": "choropleth",
           "z": [
            700,
            45115,
            89663,
            2382,
            4000,
            1772745,
            169122,
            695289.4,
            365323,
            112584.9,
            18612,
            248827,
            482302.23,
            2585,
            438364,
            658198,
            321517,
            195223,
            1222954.8,
            236666
           ]
          }
         ],
         "name": "1985"
        },
        {
         "data": [
          {
           "coloraxis": "coloraxis",
           "geo": "geo",
           "hovertemplate": "<b>%{hovertext}</b><br><br>Date=1986<br>Country Code=%{location}<br>captured fishes (metric tons)=%{z}<extra></extra>",
           "hovertext": [
            "Austria",
            "Belgium",
            "Bulgaria",
            "Cyprus",
            "Czech Republic",
            "Denmark",
            "Finland",
            "France",
            "Germany",
            "Greece",
            "Hungary",
            "Ireland",
            "Italy",
            "Malta",
            "Netherlands",
            "Poland",
            "Portugal",
            "Romania",
            "Spain",
            "Sweden"
           ],
           "locations": [
            "AUT",
            "BEL",
            "BGR",
            "CYP",
            "CZE",
            "DNK",
            "FIN",
            "FRA",
            "DEU",
            "GRC",
            "HUN",
            "IRL",
            "ITA",
            "MLT",
            "NLD",
            "POL",
            "PRT",
            "ROU",
            "ESP",
            "SWE"
           ],
           "name": "",
           "type": "choropleth",
           "z": [
            640,
            39466,
            97314,
            2541.39,
            4300,
            1825356,
            156544,
            716702.58,
            345153,
            122552,
            19065,
            248878,
            457244.43,
            1168,
            416381,
            626401,
            402853,
            223582,
            1233945.6,
            210982
           ]
          }
         ],
         "name": "1986"
        },
        {
         "data": [
          {
           "coloraxis": "coloraxis",
           "geo": "geo",
           "hovertemplate": "<b>%{hovertext}</b><br><br>Date=1987<br>Country Code=%{location}<br>captured fishes (metric tons)=%{z}<extra></extra>",
           "hovertext": [
            "Austria",
            "Belgium",
            "Bulgaria",
            "Cyprus",
            "Czech Republic",
            "Denmark",
            "Finland",
            "France",
            "Germany",
            "Greece",
            "Hungary",
            "Ireland",
            "Italy",
            "Malta",
            "Netherlands",
            "Poland",
            "Portugal",
            "Romania",
            "Spain",
            "Sweden"
           ],
           "locations": [
            "AUT",
            "BEL",
            "BGR",
            "CYP",
            "CZE",
            "DNK",
            "FIN",
            "FRA",
            "DEU",
            "GRC",
            "HUN",
            "IRL",
            "ITA",
            "MLT",
            "NLD",
            "POL",
            "PRT",
            "ROU",
            "ESP",
            "SWE"
           ],
           "name": "",
           "type": "choropleth",
           "z": [
            600,
            40231,
            99005,
            2543,
            4517,
            1681965,
            153675,
            694899.48,
            332906,
            132002.4,
            18811,
            263767,
            443729.68,
            1052,
            412213,
            651648,
            386701,
            224188,
            1269198.6,
            207141
           ]
          }
         ],
         "name": "1987"
        },
        {
         "data": [
          {
           "coloraxis": "coloraxis",
           "geo": "geo",
           "hovertemplate": "<b>%{hovertext}</b><br><br>Date=1988<br>Country Code=%{location}<br>captured fishes (metric tons)=%{z}<extra></extra>",
           "hovertext": [
            "Austria",
            "Belgium",
            "Bulgaria",
            "Cyprus",
            "Czech Republic",
            "Denmark",
            "Estonia",
            "Finland",
            "France",
            "Germany",
            "Greece",
            "Hungary",
            "Ireland",
            "Italy",
            "Latvia",
            "Lithuania",
            "Malta",
            "Netherlands",
            "Poland",
            "Portugal",
            "Romania",
            "Spain",
            "Sweden"
           ],
           "locations": [
            "AUT",
            "BEL",
            "BGR",
            "CYP",
            "CZE",
            "DNK",
            "EST",
            "FIN",
            "FRA",
            "DEU",
            "GRC",
            "HUN",
            "IRL",
            "ITA",
            "LVA",
            "LTU",
            "MLT",
            "NLD",
            "POL",
            "PRT",
            "ROU",
            "ESP",
            "SWE"
           ],
           "name": "",
           "type": "choropleth",
           "z": [
            600,
            41541,
            105877,
            2505,
            4390,
            1945755,
            397381,
            159624,
            741153.08,
            321107,
            119599.3,
            20324,
            273824,
            439227.38,
            541212,
            411535,
            896,
            397246,
            628026,
            343260,
            216938,
            1327483,
            242711
           ]
          }
         ],
         "name": "1988"
        },
        {
         "data": [
          {
           "coloraxis": "coloraxis",
           "geo": "geo",
           "hovertemplate": "<b>%{hovertext}</b><br><br>Date=1989<br>Country Code=%{location}<br>captured fishes (metric tons)=%{z}<extra></extra>",
           "hovertext": [
            "Austria",
            "Belgium",
            "Bulgaria",
            "Cyprus",
            "Czech Republic",
            "Denmark",
            "Estonia",
            "Finland",
            "France",
            "Germany",
            "Greece",
            "Hungary",
            "Ireland",
            "Italy",
            "Latvia",
            "Lithuania",
            "Malta",
            "Netherlands",
            "Poland",
            "Portugal",
            "Romania",
            "Spain",
            "Sweden"
           ],
           "locations": [
            "AUT",
            "BEL",
            "BGR",
            "CYP",
            "CZE",
            "DNK",
            "EST",
            "FIN",
            "FRA",
            "DEU",
            "GRC",
            "HUN",
            "IRL",
            "ITA",
            "LVA",
            "LTU",
            "MLT",
            "NLD",
            "POL",
            "PRT",
            "ROU",
            "ESP",
            "SWE"
           ],
           "name": "",
           "type": "choropleth",
           "z": [
            550,
            39633,
            91351,
            2542,
            3966,
            1896338,
            374222,
            146622,
            719648.4,
            346038,
            131797.5,
            14969,
            219849,
            415807.3,
            535435,
            411812,
            941,
            421351,
            539444,
            331481,
            177550,
            1308066.7,
            249844
           ]
          }
         ],
         "name": "1989"
        },
        {
         "data": [
          {
           "coloraxis": "coloraxis",
           "geo": "geo",
           "hovertemplate": "<b>%{hovertext}</b><br><br>Date=1990<br>Country Code=%{location}<br>captured fishes (metric tons)=%{z}<extra></extra>",
           "hovertext": [
            "Austria",
            "Belgium",
            "Bulgaria",
            "Cyprus",
            "Czech Republic",
            "Denmark",
            "Estonia",
            "Finland",
            "France",
            "Germany",
            "Greece",
            "Hungary",
            "Ireland",
            "Italy",
            "Latvia",
            "Lithuania",
            "Malta",
            "Netherlands",
            "Poland",
            "Portugal",
            "Romania",
            "Spain",
            "Sweden"
           ],
           "locations": [
            "AUT",
            "BEL",
            "BGR",
            "CYP",
            "CZE",
            "DNK",
            "EST",
            "FIN",
            "FRA",
            "DEU",
            "GRC",
            "HUN",
            "IRL",
            "ITA",
            "LVA",
            "LTU",
            "MLT",
            "NLD",
            "POL",
            "PRT",
            "ROU",
            "ESP",
            "SWE"
           ],
           "name": "",
           "type": "choropleth",
           "z": [
            533,
            41460,
            49254,
            2584,
            4304,
            1475700,
            345147,
            133020,
            699246.8,
            326325,
            132381,
            16234,
            248374,
            376932.17,
            457598,
            334414,
            796,
            406244,
            448293,
            332692,
            92784,
            1131229.2,
            251094
           ]
          }
         ],
         "name": "1990"
        },
        {
         "data": [
          {
           "coloraxis": "coloraxis",
           "geo": "geo",
           "hovertemplate": "<b>%{hovertext}</b><br><br>Date=1991<br>Country Code=%{location}<br>captured fishes (metric tons)=%{z}<extra></extra>",
           "hovertext": [
            "Austria",
            "Belgium",
            "Bulgaria",
            "Cyprus",
            "Czech Republic",
            "Denmark",
            "Estonia",
            "Finland",
            "France",
            "Germany",
            "Greece",
            "Hungary",
            "Ireland",
            "Italy",
            "Latvia",
            "Lithuania",
            "Malta",
            "Netherlands",
            "Poland",
            "Portugal",
            "Romania",
            "Spain",
            "Sweden"
           ],
           "locations": [
            "AUT",
            "BEL",
            "BGR",
            "CYP",
            "CZE",
            "DNK",
            "EST",
            "FIN",
            "FRA",
            "DEU",
            "GRC",
            "HUN",
            "IRL",
            "ITA",
            "LVA",
            "LTU",
            "MLT",
            "NLD",
            "POL",
            "PRT",
            "ROU",
            "ESP",
            "SWE"
           ],
           "name": "",
           "type": "choropleth",
           "z": [
            500,
            39891,
            50056,
            2921,
            4300,
            1751238,
            327876,
            119372,
            657306.5,
            235931,
            138644.9,
            8445,
            265510,
            411327.15,
            409957,
            468022,
            773,
            407166,
            428627,
            330855,
            95473,
            1078644.3,
            237072
           ]
          }
         ],
         "name": "1991"
        },
        {
         "data": [
          {
           "coloraxis": "coloraxis",
           "geo": "geo",
           "hovertemplate": "<b>%{hovertext}</b><br><br>Date=1992<br>Country Code=%{location}<br>captured fishes (metric tons)=%{z}<extra></extra>",
           "hovertext": [
            "Austria",
            "Belgium",
            "Bulgaria",
            "Croatia",
            "Cyprus",
            "Czech Republic",
            "Denmark",
            "Estonia",
            "Finland",
            "France",
            "Germany",
            "Greece",
            "Hungary",
            "Ireland",
            "Italy",
            "Latvia",
            "Lithuania",
            "Malta",
            "Netherlands",
            "Poland",
            "Portugal",
            "Romania",
            "Slovenia",
            "Spain",
            "Sweden"
           ],
           "locations": [
            "AUT",
            "BEL",
            "BGR",
            "HRV",
            "CYP",
            "CZE",
            "DNK",
            "EST",
            "FIN",
            "FRA",
            "DEU",
            "GRC",
            "HUN",
            "IRL",
            "ITA",
            "LVA",
            "LTU",
            "MLT",
            "NLD",
            "POL",
            "PRT",
            "ROU",
            "SVN",
            "ESP",
            "SWE"
           ],
           "name": "",
           "type": "choropleth",
           "z": [
            479,
            37120,
            24016,
            26732.08,
            9336,
            4350,
            1953946,
            128996,
            151795,
            668774.5,
            216899,
            152611.8,
            8678,
            279887,
            396467.5,
            156747,
            188467,
            579,
            433066,
            481775,
            300482,
            70761,
            3905,
            1091922.4,
            307545
           ]
          }
         ],
         "name": "1992"
        },
        {
         "data": [
          {
           "coloraxis": "coloraxis",
           "geo": "geo",
           "hovertemplate": "<b>%{hovertext}</b><br><br>Date=1993<br>Country Code=%{location}<br>captured fishes (metric tons)=%{z}<extra></extra>",
           "hovertext": [
            "Austria",
            "Belgium",
            "Bulgaria",
            "Croatia",
            "Cyprus",
            "Czech Republic",
            "Denmark",
            "Estonia",
            "Finland",
            "France",
            "Germany",
            "Greece",
            "Hungary",
            "Ireland",
            "Italy",
            "Latvia",
            "Lithuania",
            "Malta",
            "Netherlands",
            "Poland",
            "Portugal",
            "Romania",
            "Slovenia",
            "Spain",
            "Sweden"
           ],
           "locations": [
            "AUT",
            "BEL",
            "BGR",
            "HRV",
            "CYP",
            "CZE",
            "DNK",
            "EST",
            "FIN",
            "FRA",
            "DEU",
            "GRC",
            "HUN",
            "IRL",
            "ITA",
            "LVA",
            "LTU",
            "MLT",
            "NLD",
            "POL",
            "PRT",
            "ROU",
            "SVN",
            "ESP",
            "SWE"
           ],
           "name": "",
           "type": "choropleth",
           "z": [
            420,
            36089,
            13658,
            26630.27,
            10016,
            3185,
            1618738,
            147185,
            156336,
            681951.5,
            253022,
            159100.5,
            7886,
            310322,
            397542.4,
            141974,
            117171,
            845,
            461777,
            395406,
            295781,
            13819,
            2284,
            1099902.6,
            341897
           ]
          }
         ],
         "name": "1993"
        },
        {
         "data": [
          {
           "coloraxis": "coloraxis",
           "geo": "geo",
           "hovertemplate": "<b>%{hovertext}</b><br><br>Date=1994<br>Country Code=%{location}<br>captured fishes (metric tons)=%{z}<extra></extra>",
           "hovertext": [
            "Austria",
            "Belgium",
            "Bulgaria",
            "Croatia",
            "Cyprus",
            "Czech Republic",
            "Denmark",
            "Estonia",
            "Finland",
            "France",
            "Germany",
            "Greece",
            "Hungary",
            "Ireland",
            "Italy",
            "Latvia",
            "Lithuania",
            "Malta",
            "Netherlands",
            "Poland",
            "Portugal",
            "Romania",
            "Slovenia",
            "Spain",
            "Sweden"
           ],
           "locations": [
            "AUT",
            "BEL",
            "BGR",
            "HRV",
            "CYP",
            "CZE",
            "DNK",
            "EST",
            "FIN",
            "FRA",
            "DEU",
            "GRC",
            "HUN",
            "IRL",
            "ITA",
            "LVA",
            "LTU",
            "MLT",
            "NLD",
            "POL",
            "PRT",
            "ROU",
            "SVN",
            "ESP",
            "SWE"
           ],
           "name": "",
           "type": "choropleth",
           "z": [
            388,
            34254,
            6585,
            17481.01,
            9427,
            3955,
            1877765,
            124091,
            164269,
            703979.6,
            230179,
            181124.9,
            8307,
            327371,
            399338.8,
            138105,
            49162,
            2365,
            420170,
            438032,
            270130,
            22251,
            2346,
            1108855.3,
            386839
           ]
          }
         ],
         "name": "1994"
        },
        {
         "data": [
          {
           "coloraxis": "coloraxis",
           "geo": "geo",
           "hovertemplate": "<b>%{hovertext}</b><br><br>Date=1995<br>Country Code=%{location}<br>captured fishes (metric tons)=%{z}<extra></extra>",
           "hovertext": [
            "Austria",
            "Belgium",
            "Bulgaria",
            "Croatia",
            "Cyprus",
            "Czech Republic",
            "Denmark",
            "Estonia",
            "Finland",
            "France",
            "Germany",
            "Greece",
            "Hungary",
            "Ireland",
            "Italy",
            "Latvia",
            "Lithuania",
            "Malta",
            "Netherlands",
            "Poland",
            "Portugal",
            "Romania",
            "Slovenia",
            "Spain",
            "Sweden"
           ],
           "locations": [
            "AUT",
            "BEL",
            "BGR",
            "HRV",
            "CYP",
            "CZE",
            "DNK",
            "EST",
            "FIN",
            "FRA",
            "DEU",
            "GRC",
            "HUN",
            "IRL",
            "ITA",
            "LVA",
            "LTU",
            "MLT",
            "NLD",
            "POL",
            "PRT",
            "ROU",
            "SVN",
            "ESP",
            "SWE"
           ],
           "name": "",
           "type": "choropleth",
           "z": [
            404,
            35599,
            8012,
            16268.05,
            9320,
            3929,
            2006033,
            132576,
            167485,
            688478.3,
            239897,
            151716.5,
            7314,
            423560,
            397882.1,
            149194,
            57368,
            4636,
            438104,
            429372,
            267814,
            49275,
            2167,
            1195727.1,
            404626
           ]
          }
         ],
         "name": "1995"
        },
        {
         "data": [
          {
           "coloraxis": "coloraxis",
           "geo": "geo",
           "hovertemplate": "<b>%{hovertext}</b><br><br>Date=1996<br>Country Code=%{location}<br>captured fishes (metric tons)=%{z}<extra></extra>",
           "hovertext": [
            "Austria",
            "Belgium",
            "Bulgaria",
            "Croatia",
            "Cyprus",
            "Czech Republic",
            "Denmark",
            "Estonia",
            "Finland",
            "France",
            "Germany",
            "Greece",
            "Hungary",
            "Ireland",
            "Italy",
            "Latvia",
            "Lithuania",
            "Malta",
            "Netherlands",
            "Poland",
            "Portugal",
            "Romania",
            "Slovenia",
            "Spain",
            "Sweden"
           ],
           "locations": [
            "AUT",
            "BEL",
            "BGR",
            "HRV",
            "CYP",
            "CZE",
            "DNK",
            "EST",
            "FIN",
            "FRA",
            "DEU",
            "GRC",
            "HUN",
            "IRL",
            "ITA",
            "LVA",
            "LTU",
            "MLT",
            "NLD",
            "POL",
            "PRT",
            "ROU",
            "SVN",
            "ESP",
            "SWE"
           ],
           "name": "",
           "type": "choropleth",
           "z": [
            450,
            30823,
            8854,
            18237,
            12526,
            3524,
            1681518,
            108720,
            179079,
            643249.9,
            236425,
            151051.2,
            7606,
            365942,
            367754.5,
            142644,
            88514,
            9199,
            410846,
            342793,
            265434,
            18259,
            2367,
            1189566,
            371022
           ]
          }
         ],
         "name": "1996"
        },
        {
         "data": [
          {
           "coloraxis": "coloraxis",
           "geo": "geo",
           "hovertemplate": "<b>%{hovertext}</b><br><br>Date=1997<br>Country Code=%{location}<br>captured fishes (metric tons)=%{z}<extra></extra>",
           "hovertext": [
            "Austria",
            "Belgium",
            "Bulgaria",
            "Croatia",
            "Cyprus",
            "Czech Republic",
            "Denmark",
            "Estonia",
            "Finland",
            "France",
            "Germany",
            "Greece",
            "Hungary",
            "Ireland",
            "Italy",
            "Latvia",
            "Lithuania",
            "Malta",
            "Netherlands",
            "Poland",
            "Portugal",
            "Romania",
            "Slovenia",
            "Spain",
            "Sweden"
           ],
           "locations": [
            "AUT",
            "BEL",
            "BGR",
            "HRV",
            "CYP",
            "CZE",
            "DNK",
            "EST",
            "FIN",
            "FRA",
            "DEU",
            "GRC",
            "HUN",
            "IRL",
            "ITA",
            "LVA",
            "LTU",
            "MLT",
            "NLD",
            "POL",
            "PRT",
            "ROU",
            "SVN",
            "ESP",
            "SWE"
           ],
           "name": "",
           "type": "choropleth",
           "z": [
            465,
            30500,
            11237,
            17041.49,
            24819,
            3321,
            1826852,
            126057,
            180100,
            642803.5,
            259356,
            156978.1,
            7406,
            328050,
            345649.6,
            105682,
            44002,
            1040,
            451848,
            348913,
            227807,
            8446,
            2367,
            1220302.2,
            357391
           ]
          }
         ],
         "name": "1997"
        },
        {
         "data": [
          {
           "coloraxis": "coloraxis",
           "geo": "geo",
           "hovertemplate": "<b>%{hovertext}</b><br><br>Date=1998<br>Country Code=%{location}<br>captured fishes (metric tons)=%{z}<extra></extra>",
           "hovertext": [
            "Austria",
            "Belgium",
            "Bulgaria",
            "Croatia",
            "Cyprus",
            "Czech Republic",
            "Denmark",
            "Estonia",
            "Finland",
            "France",
            "Germany",
            "Greece",
            "Hungary",
            "Ireland",
            "Italy",
            "Latvia",
            "Lithuania",
            "Malta",
            "Netherlands",
            "Poland",
            "Portugal",
            "Romania",
            "Slovenia",
            "Spain",
            "Sweden"
           ],
           "locations": [
            "AUT",
            "BEL",
            "BGR",
            "HRV",
            "CYP",
            "CZE",
            "DNK",
            "EST",
            "FIN",
            "FRA",
            "DEU",
            "GRC",
            "HUN",
            "IRL",
            "ITA",
            "LVA",
            "LTU",
            "MLT",
            "NLD",
            "POL",
            "PRT",
            "ROU",
            "SVN",
            "ESP",
            "SWE"
           ],
           "name": "",
           "type": "choropleth",
           "z": [
            451,
            30835,
            18946,
            21946.08,
            19304,
            3952,
            1562541,
            121594,
            171693,
            610466.5,
            266092,
            110146.4,
            7265,
            360646,
            308484.7,
            102331,
            66578,
            1180,
            536658,
            242010,
            228792,
            9061,
            2228,
            1256879.3,
            410901
           ]
          }
         ],
         "name": "1998"
        },
        {
         "data": [
          {
           "coloraxis": "coloraxis",
           "geo": "geo",
           "hovertemplate": "<b>%{hovertext}</b><br><br>Date=1999<br>Country Code=%{location}<br>captured fishes (metric tons)=%{z}<extra></extra>",
           "hovertext": [
            "Austria",
            "Belgium",
            "Bulgaria",
            "Croatia",
            "Cyprus",
            "Czech Republic",
            "Denmark",
            "Estonia",
            "Finland",
            "France",
            "Germany",
            "Greece",
            "Hungary",
            "Ireland",
            "Italy",
            "Latvia",
            "Lithuania",
            "Malta",
            "Netherlands",
            "Poland",
            "Portugal",
            "Romania",
            "Slovenia",
            "Spain",
            "Sweden"
           ],
           "locations": [
            "AUT",
            "BEL",
            "BGR",
            "HRV",
            "CYP",
            "CZE",
            "DNK",
            "EST",
            "FIN",
            "FRA",
            "DEU",
            "GRC",
            "HUN",
            "IRL",
            "ITA",
            "LVA",
            "LTU",
            "MLT",
            "NLD",
            "POL",
            "PRT",
            "ROU",
            "SVN",
            "ESP",
            "SWE"
           ],
           "name": "",
           "type": "choropleth",
           "z": [
            432,
            29876,
            10556,
            18909.19,
            39638,
            4190,
            1409227,
            113112,
            160598,
            657231.8,
            237857,
            120591.75,
            7514,
            319543,
            284841.35,
            125389,
            72962,
            1247,
            514611,
            235724,
            212607,
            7843,
            2027,
            1191051.6,
            351258
           ]
          }
         ],
         "name": "1999"
        },
        {
         "data": [
          {
           "coloraxis": "coloraxis",
           "geo": "geo",
           "hovertemplate": "<b>%{hovertext}</b><br><br>Date=2000<br>Country Code=%{location}<br>captured fishes (metric tons)=%{z}<extra></extra>",
           "hovertext": [
            "Austria",
            "Belgium",
            "Bulgaria",
            "Croatia",
            "Cyprus",
            "Czech Republic",
            "Denmark",
            "Estonia",
            "Finland",
            "France",
            "Germany",
            "Greece",
            "Hungary",
            "Ireland",
            "Italy",
            "Latvia",
            "Lithuania",
            "Malta",
            "Netherlands",
            "Poland",
            "Portugal",
            "Romania",
            "Slovenia",
            "Spain",
            "Sweden"
           ],
           "locations": [
            "AUT",
            "BEL",
            "BGR",
            "HRV",
            "CYP",
            "CZE",
            "DNK",
            "EST",
            "FIN",
            "FRA",
            "DEU",
            "GRC",
            "HUN",
            "IRL",
            "ITA",
            "LVA",
            "LTU",
            "MLT",
            "NLD",
            "POL",
            "PRT",
            "ROU",
            "SVN",
            "ESP",
            "SWE"
           ],
           "name": "",
           "type": "choropleth",
           "z": [
            439,
            29800,
            8663,
            21068.24,
            68345,
            4654,
            1538238,
            113347,
            156458,
            694723.6,
            204089,
            99343.7,
            7101,
            312397,
            304180.85,
            136403,
            78988,
            1074,
            495776,
            217682,
            192120,
            7372,
            1856,
            1063207,
            338539
           ]
          }
         ],
         "name": "2000"
        },
        {
         "data": [
          {
           "coloraxis": "coloraxis",
           "geo": "geo",
           "hovertemplate": "<b>%{hovertext}</b><br><br>Date=2001<br>Country Code=%{location}<br>captured fishes (metric tons)=%{z}<extra></extra>",
           "hovertext": [
            "Austria",
            "Belgium",
            "Bulgaria",
            "Croatia",
            "Cyprus",
            "Czech Republic",
            "Denmark",
            "Estonia",
            "Finland",
            "France",
            "Germany",
            "Greece",
            "Hungary",
            "Ireland",
            "Italy",
            "Latvia",
            "Lithuania",
            "Malta",
            "Netherlands",
            "Poland",
            "Portugal",
            "Romania",
            "Slovenia",
            "Spain",
            "Sweden"
           ],
           "locations": [
            "AUT",
            "BEL",
            "BGR",
            "HRV",
            "CYP",
            "CZE",
            "DNK",
            "EST",
            "FIN",
            "FRA",
            "DEU",
            "GRC",
            "HUN",
            "IRL",
            "ITA",
            "LVA",
            "LTU",
            "MLT",
            "NLD",
            "POL",
            "PRT",
            "ROU",
            "SVN",
            "ESP",
            "SWE"
           ],
           "name": "",
           "type": "choropleth",
           "z": [
            362,
            30209,
            8674,
            18551.12,
            54723,
            4646,
            1514581,
            105492,
            150067,
            672078.7,
            209150,
            94196.4,
            6638,
            392530,
            312408.7,
            128176,
            150831,
            902,
            518163,
            225064,
            194464,
            7609,
            1827,
            1090812.3,
            311820
           ]
          }
         ],
         "name": "2001"
        },
        {
         "data": [
          {
           "coloraxis": "coloraxis",
           "geo": "geo",
           "hovertemplate": "<b>%{hovertext}</b><br><br>Date=2002<br>Country Code=%{location}<br>captured fishes (metric tons)=%{z}<extra></extra>",
           "hovertext": [
            "Austria",
            "Belgium",
            "Bulgaria",
            "Croatia",
            "Cyprus",
            "Czech Republic",
            "Denmark",
            "Estonia",
            "Finland",
            "France",
            "Germany",
            "Greece",
            "Hungary",
            "Ireland",
            "Italy",
            "Latvia",
            "Lithuania",
            "Malta",
            "Netherlands",
            "Poland",
            "Portugal",
            "Romania",
            "Slovenia",
            "Spain",
            "Sweden"
           ],
           "locations": [
            "AUT",
            "BEL",
            "BGR",
            "HRV",
            "CYP",
            "CZE",
            "DNK",
            "EST",
            "FIN",
            "FRA",
            "DEU",
            "GRC",
            "HUN",
            "IRL",
            "ITA",
            "LVA",
            "LTU",
            "MLT",
            "NLD",
            "POL",
            "PRT",
            "ROU",
            "SVN",
            "ESP",
            "SWE"
           ],
           "name": "",
           "type": "choropleth",
           "z": [
            350,
            29028,
            15008,
            21239.54,
            141079,
            4983,
            1442348,
            102365,
            142432,
            702197,
            221780,
            96078.9,
            6750,
            318742,
            271913.1,
            117553,
            150146,
            1085,
            464036,
            223440,
            203418,
            6980,
            1686,
            883740.5,
            294967
           ]
          }
         ],
         "name": "2002"
        },
        {
         "data": [
          {
           "coloraxis": "coloraxis",
           "geo": "geo",
           "hovertemplate": "<b>%{hovertext}</b><br><br>Date=2003<br>Country Code=%{location}<br>captured fishes (metric tons)=%{z}<extra></extra>",
           "hovertext": [
            "Austria",
            "Belgium",
            "Bulgaria",
            "Croatia",
            "Cyprus",
            "Czech Republic",
            "Denmark",
            "Estonia",
            "Finland",
            "France",
            "Germany",
            "Greece",
            "Hungary",
            "Ireland",
            "Italy",
            "Latvia",
            "Lithuania",
            "Malta",
            "Netherlands",
            "Poland",
            "Portugal",
            "Romania",
            "Slovenia",
            "Spain",
            "Sweden"
           ],
           "locations": [
            "AUT",
            "BEL",
            "BGR",
            "HRV",
            "CYP",
            "CZE",
            "DNK",
            "EST",
            "FIN",
            "FRA",
            "DEU",
            "GRC",
            "HUN",
            "IRL",
            "ITA",
            "LVA",
            "LTU",
            "MLT",
            "NLD",
            "POL",
            "PRT",
            "ROU",
            "SVN",
            "ESP",
            "SWE"
           ],
           "name": "",
           "type": "choropleth",
           "z": [
            372,
            26831,
            12035,
            19958.04,
            47740,
            5127,
            1031221,
            80208,
            122107,
            709159.7,
            257657,
            93781.4,
            6536,
            301226,
            297710.8,
            114543,
            157205,
            1138,
            526281,
            180399,
            212821,
            9890,
            1282,
            889683.4,
            286880
           ]
          }
         ],
         "name": "2003"
        },
        {
         "data": [
          {
           "coloraxis": "coloraxis",
           "geo": "geo",
           "hovertemplate": "<b>%{hovertext}</b><br><br>Date=2004<br>Country Code=%{location}<br>captured fishes (metric tons)=%{z}<extra></extra>",
           "hovertext": [
            "Austria",
            "Belgium",
            "Bulgaria",
            "Croatia",
            "Cyprus",
            "Czech Republic",
            "Denmark",
            "Estonia",
            "Finland",
            "France",
            "Germany",
            "Greece",
            "Hungary",
            "Ireland",
            "Italy",
            "Latvia",
            "Lithuania",
            "Malta",
            "Netherlands",
            "Poland",
            "Portugal",
            "Romania",
            "Slovenia",
            "Spain",
            "Sweden"
           ],
           "locations": [
            "AUT",
            "BEL",
            "BGR",
            "HRV",
            "CYP",
            "CZE",
            "DNK",
            "EST",
            "FIN",
            "FRA",
            "DEU",
            "GRC",
            "HUN",
            "IRL",
            "ITA",
            "LVA",
            "LTU",
            "MLT",
            "NLD",
            "POL",
            "PRT",
            "ROU",
            "SVN",
            "ESP",
            "SWE"
           ],
           "name": "",
           "type": "choropleth",
           "z": [
            400,
            26754,
            8252,
            30172.12,
            78724,
            4528,
            1090596,
            88625,
            135713,
            665046.2,
            258348,
            93891.4,
            7242,
            310578,
            288945.8,
            125391,
            161988,
            1138,
            521736,
            192108,
            222563,
            5095,
            1023,
            811999.8,
            269931
           ]
          }
         ],
         "name": "2004"
        },
        {
         "data": [
          {
           "coloraxis": "coloraxis",
           "geo": "geo",
           "hovertemplate": "<b>%{hovertext}</b><br><br>Date=2005<br>Country Code=%{location}<br>captured fishes (metric tons)=%{z}<extra></extra>",
           "hovertext": [
            "Austria",
            "Belgium",
            "Bulgaria",
            "Croatia",
            "Cyprus",
            "Czech Republic",
            "Denmark",
            "Estonia",
            "Finland",
            "France",
            "Germany",
            "Greece",
            "Hungary",
            "Ireland",
            "Italy",
            "Latvia",
            "Lithuania",
            "Malta",
            "Netherlands",
            "Poland",
            "Portugal",
            "Romania",
            "Slovenia",
            "Spain",
            "Sweden"
           ],
           "locations": [
            "AUT",
            "BEL",
            "BGR",
            "HRV",
            "CYP",
            "CZE",
            "DNK",
            "EST",
            "FIN",
            "FRA",
            "DEU",
            "GRC",
            "HUN",
            "IRL",
            "ITA",
            "LVA",
            "LTU",
            "MLT",
            "NLD",
            "POL",
            "PRT",
            "ROU",
            "SVN",
            "ESP",
            "SWE"
           ],
           "name": "",
           "type": "choropleth",
           "z": [
            370,
            24586,
            5434,
            34695.09,
            61313,
            4242,
            910598,
            99581,
            132045,
            598621.8,
            281372,
            92430.5,
            7609,
            297181,
            298606.1,
            150618,
            139785,
            1406,
            555756,
            155247,
            221086,
            6053,
            1227,
            855290.1,
            256359
           ]
          }
         ],
         "name": "2005"
        },
        {
         "data": [
          {
           "coloraxis": "coloraxis",
           "geo": "geo",
           "hovertemplate": "<b>%{hovertext}</b><br><br>Date=2006<br>Country Code=%{location}<br>captured fishes (metric tons)=%{z}<extra></extra>",
           "hovertext": [
            "Austria",
            "Belgium",
            "Bulgaria",
            "Croatia",
            "Cyprus",
            "Czech Republic",
            "Denmark",
            "Estonia",
            "Finland",
            "France",
            "Germany",
            "Greece",
            "Hungary",
            "Ireland",
            "Italy",
            "Latvia",
            "Lithuania",
            "Malta",
            "Netherlands",
            "Poland",
            "Portugal",
            "Romania",
            "Slovenia",
            "Spain",
            "Sweden"
           ],
           "locations": [
            "AUT",
            "BEL",
            "BGR",
            "HRV",
            "CYP",
            "CZE",
            "DNK",
            "EST",
            "FIN",
            "FRA",
            "DEU",
            "GRC",
            "HUN",
            "IRL",
            "ITA",
            "LVA",
            "LTU",
            "MLT",
            "NLD",
            "POL",
            "PRT",
            "ROU",
            "SVN",
            "ESP",
            "SWE"
           ],
           "name": "",
           "type": "choropleth",
           "z": [
            360,
            23048,
            7544,
            37876.13,
            29940,
            4646,
            867721,
            86884,
            149603,
            595229.9,
            293046,
            98239.7,
            7543,
            241288,
            317853.7,
            140389,
            154548,
            1332,
            513331,
            145479,
            229838,
            6663,
            1133.17,
            962054.1,
            269253
           ]
          }
         ],
         "name": "2006"
        },
        {
         "data": [
          {
           "coloraxis": "coloraxis",
           "geo": "geo",
           "hovertemplate": "<b>%{hovertext}</b><br><br>Date=2007<br>Country Code=%{location}<br>captured fishes (metric tons)=%{z}<extra></extra>",
           "hovertext": [
            "Austria",
            "Belgium",
            "Bulgaria",
            "Croatia",
            "Cyprus",
            "Czech Republic",
            "Denmark",
            "Estonia",
            "Finland",
            "France",
            "Germany",
            "Greece",
            "Hungary",
            "Ireland",
            "Italy",
            "Latvia",
            "Lithuania",
            "Malta",
            "Netherlands",
            "Poland",
            "Portugal",
            "Romania",
            "Slovenia",
            "Spain",
            "Sweden"
           ],
           "locations": [
            "AUT",
            "BEL",
            "BGR",
            "HRV",
            "CYP",
            "CZE",
            "DNK",
            "EST",
            "FIN",
            "FRA",
            "DEU",
            "GRC",
            "HUN",
            "IRL",
            "ITA",
            "LVA",
            "LTU",
            "MLT",
            "NLD",
            "POL",
            "PRT",
            "ROU",
            "SVN",
            "ESP",
            "SWE"
           ],
           "name": "",
           "type": "choropleth",
           "z": [
            350,
            24541,
            8903,
            40228.63,
            2446,
            4276,
            653053,
            99444,
            164895,
            553733.7,
            290538,
            96095.8,
            7024,
            244370,
            289486.45,
            155276,
            187513,
            1235,
            487765,
            151820,
            256683,
            6183,
            1112.45,
            820313.1,
            238256
           ]
          }
         ],
         "name": "2007"
        },
        {
         "data": [
          {
           "coloraxis": "coloraxis",
           "geo": "geo",
           "hovertemplate": "<b>%{hovertext}</b><br><br>Date=2008<br>Country Code=%{location}<br>captured fishes (metric tons)=%{z}<extra></extra>",
           "hovertext": [
            "Austria",
            "Belgium",
            "Bulgaria",
            "Croatia",
            "Cyprus",
            "Czech Republic",
            "Denmark",
            "Estonia",
            "Finland",
            "France",
            "Germany",
            "Greece",
            "Hungary",
            "Ireland",
            "Italy",
            "Latvia",
            "Lithuania",
            "Malta",
            "Netherlands",
            "Poland",
            "Portugal",
            "Romania",
            "Slovenia",
            "Spain",
            "Sweden"
           ],
           "locations": [
            "AUT",
            "BEL",
            "BGR",
            "HRV",
            "CYP",
            "CZE",
            "DNK",
            "EST",
            "FIN",
            "FRA",
            "DEU",
            "GRC",
            "HUN",
            "IRL",
            "ITA",
            "LVA",
            "LTU",
            "MLT",
            "NLD",
            "POL",
            "PRT",
            "ROU",
            "SVN",
            "ESP",
            "SWE"
           ],
           "name": "",
           "type": "choropleth",
           "z": [
            350,
            22609,
            8864,
            49068.08,
            1996,
            4164,
            690584,
            102580,
            149026,
            500203.8,
            274289,
            85885.3,
            7394,
            234819,
            237628.5,
            157934,
            182760,
            1391,
            440291,
            142496,
            224481,
            5410,
            881.71,
            923454.9,
            231337
           ]
          }
         ],
         "name": "2008"
        },
        {
         "data": [
          {
           "coloraxis": "coloraxis",
           "geo": "geo",
           "hovertemplate": "<b>%{hovertext}</b><br><br>Date=2009<br>Country Code=%{location}<br>captured fishes (metric tons)=%{z}<extra></extra>",
           "hovertext": [
            "Austria",
            "Belgium",
            "Bulgaria",
            "Croatia",
            "Cyprus",
            "Czech Republic",
            "Denmark",
            "Estonia",
            "Finland",
            "France",
            "Germany",
            "Greece",
            "Hungary",
            "Ireland",
            "Italy",
            "Latvia",
            "Lithuania",
            "Malta",
            "Netherlands",
            "Poland",
            "Portugal",
            "Romania",
            "Slovenia",
            "Spain",
            "Sweden"
           ],
           "locations": [
            "AUT",
            "BEL",
            "BGR",
            "HRV",
            "CYP",
            "CZE",
            "DNK",
            "EST",
            "FIN",
            "FRA",
            "DEU",
            "GRC",
            "HUN",
            "IRL",
            "ITA",
            "LVA",
            "LTU",
            "MLT",
            "NLD",
            "POL",
            "PRT",
            "ROU",
            "SVN",
            "ESP",
            "SWE"
           ],
           "name": "",
           "type": "choropleth",
           "z": [
            350,
            21737,
            8978,
            55790.5,
            1409,
            4112,
            777752,
            98504,
            155101,
            440359.3,
            244055,
            83181.8,
            6366,
            298584,
            254520,
            163213,
            172692,
            1641,
            386942,
            223893,
            199165,
            4020,
            1035.26,
            932443.3,
            203416
           ]
          }
         ],
         "name": "2009"
        },
        {
         "data": [
          {
           "coloraxis": "coloraxis",
           "geo": "geo",
           "hovertemplate": "<b>%{hovertext}</b><br><br>Date=2010<br>Country Code=%{location}<br>captured fishes (metric tons)=%{z}<extra></extra>",
           "hovertext": [
            "Austria",
            "Belgium",
            "Bulgaria",
            "Croatia",
            "Cyprus",
            "Czech Republic",
            "Denmark",
            "Estonia",
            "Finland",
            "France",
            "Germany",
            "Greece",
            "Hungary",
            "Ireland",
            "Italy",
            "Latvia",
            "Lithuania",
            "Malta",
            "Netherlands",
            "Poland",
            "Portugal",
            "Romania",
            "Slovenia",
            "Spain",
            "Sweden"
           ],
           "locations": [
            "AUT",
            "BEL",
            "BGR",
            "HRV",
            "CYP",
            "CZE",
            "DNK",
            "EST",
            "FIN",
            "FRA",
            "DEU",
            "GRC",
            "HUN",
            "IRL",
            "ITA",
            "LVA",
            "LTU",
            "MLT",
            "NLD",
            "POL",
            "PRT",
            "ROU",
            "SVN",
            "ESP",
            "SWE"
           ],
           "name": "",
           "type": "choropleth",
           "z": [
            350,
            22418,
            10769,
            52867.3,
            1395,
            3990,
            828089,
            95731,
            156447,
            452253.5,
            243150,
            70179.8,
            6216,
            348441,
            234963.5,
            164819,
            149851,
            1836,
            434457,
            189722,
            223546,
            2688,
            941,
            975413.6,
            212035
           ]
          }
         ],
         "name": "2010"
        },
        {
         "data": [
          {
           "coloraxis": "coloraxis",
           "geo": "geo",
           "hovertemplate": "<b>%{hovertext}</b><br><br>Date=2011<br>Country Code=%{location}<br>captured fishes (metric tons)=%{z}<extra></extra>",
           "hovertext": [
            "Austria",
            "Belgium",
            "Bulgaria",
            "Croatia",
            "Cyprus",
            "Czech Republic",
            "Denmark",
            "Estonia",
            "Finland",
            "France",
            "Germany",
            "Greece",
            "Hungary",
            "Ireland",
            "Italy",
            "Latvia",
            "Lithuania",
            "Malta",
            "Netherlands",
            "Poland",
            "Portugal",
            "Romania",
            "Slovenia",
            "Spain",
            "Sweden"
           ],
           "locations": [
            "AUT",
            "BEL",
            "BGR",
            "HRV",
            "CYP",
            "CZE",
            "DNK",
            "EST",
            "FIN",
            "FRA",
            "DEU",
            "GRC",
            "HUN",
            "IRL",
            "ITA",
            "LVA",
            "LTU",
            "MLT",
            "NLD",
            "POL",
            "PRT",
            "ROU",
            "SVN",
            "ESP",
            "SWE"
           ],
           "name": "",
           "type": "choropleth",
           "z": [
            350,
            22477,
            9623.26,
            71396.06,
            1188,
            3859,
            716387,
            81580,
            154000,
            502158.02,
            233888,
            63246.49,
            7048,
            243466.95,
            217841.71,
            154310,
            138557,
            1920,
            370089.07,
            198308,
            216159,
            3254,
            890.61,
            1011433.2,
            181321
           ]
          }
         ],
         "name": "2011"
        },
        {
         "data": [
          {
           "coloraxis": "coloraxis",
           "geo": "geo",
           "hovertemplate": "<b>%{hovertext}</b><br><br>Date=2012<br>Country Code=%{location}<br>captured fishes (metric tons)=%{z}<extra></extra>",
           "hovertext": [
            "Austria",
            "Belgium",
            "Bulgaria",
            "Croatia",
            "Cyprus",
            "Czech Republic",
            "Denmark",
            "Estonia",
            "Finland",
            "France",
            "Germany",
            "Greece",
            "Hungary",
            "Ireland",
            "Italy",
            "Latvia",
            "Lithuania",
            "Malta",
            "Netherlands",
            "Poland",
            "Portugal",
            "Romania",
            "Slovenia",
            "Spain",
            "Sweden"
           ],
           "locations": [
            "AUT",
            "BEL",
            "BGR",
            "HRV",
            "CYP",
            "CZE",
            "DNK",
            "EST",
            "FIN",
            "FRA",
            "DEU",
            "GRC",
            "HUN",
            "IRL",
            "ITA",
            "LVA",
            "LTU",
            "MLT",
            "NLD",
            "POL",
            "PRT",
            "ROU",
            "SVN",
            "ESP",
            "SWE"
           ],
           "name": "",
           "type": "choropleth",
           "z": [
            300,
            24674,
            9581.1,
            64389.18,
            1323,
            4033,
            502790,
            66613,
            162498,
            473308.79,
            214408,
            61044.2,
            6717,
            305427.85,
            202444.39,
            94404,
            66970,
            2200.11,
            347264.93,
            198385,
            198738,
            3960,
            485.19,
            931427.16,
            151609
           ]
          }
         ],
         "name": "2012"
        },
        {
         "data": [
          {
           "coloraxis": "coloraxis",
           "geo": "geo",
           "hovertemplate": "<b>%{hovertext}</b><br><br>Date=2013<br>Country Code=%{location}<br>captured fishes (metric tons)=%{z}<extra></extra>",
           "hovertext": [
            "Austria",
            "Belgium",
            "Bulgaria",
            "Croatia",
            "Cyprus",
            "Czech Republic",
            "Denmark",
            "Estonia",
            "Finland",
            "France",
            "Germany",
            "Greece",
            "Hungary",
            "Ireland",
            "Italy",
            "Latvia",
            "Lithuania",
            "Malta",
            "Netherlands",
            "Poland",
            "Portugal",
            "Romania",
            "Slovenia",
            "Spain",
            "Sweden"
           ],
           "locations": [
            "AUT",
            "BEL",
            "BGR",
            "HRV",
            "CYP",
            "CZE",
            "DNK",
            "EST",
            "FIN",
            "FRA",
            "DEU",
            "GRC",
            "HUN",
            "IRL",
            "ITA",
            "LVA",
            "LTU",
            "MLT",
            "NLD",
            "POL",
            "PRT",
            "ROU",
            "SVN",
            "ESP",
            "SWE"
           ],
           "name": "",
           "type": "choropleth",
           "z": [
            350,
            25679,
            9669.93,
            75832.34,
            1183,
            3761,
            668480,
            69454,
            167915,
            540522.92,
            235116,
            64169.77,
            6472,
            275949.83,
            177915.51,
            116029,
            90871,
            2355.99,
            327437,
            214170,
            196558,
            5218,
            400.22,
            990362.52,
            188951
           ]
          }
         ],
         "name": "2013"
        },
        {
         "data": [
          {
           "coloraxis": "coloraxis",
           "geo": "geo",
           "hovertemplate": "<b>%{hovertext}</b><br><br>Date=2014<br>Country Code=%{location}<br>captured fishes (metric tons)=%{z}<extra></extra>",
           "hovertext": [
            "Austria",
            "Belgium",
            "Bulgaria",
            "Croatia",
            "Cyprus",
            "Czech Republic",
            "Denmark",
            "Estonia",
            "Finland",
            "France",
            "Germany",
            "Greece",
            "Hungary",
            "Ireland",
            "Italy",
            "Latvia",
            "Lithuania",
            "Malta",
            "Netherlands",
            "Poland",
            "Portugal",
            "Romania",
            "Slovenia",
            "Spain",
            "Sweden"
           ],
           "locations": [
            "AUT",
            "BEL",
            "BGR",
            "HRV",
            "CYP",
            "CZE",
            "DNK",
            "EST",
            "FIN",
            "FRA",
            "DEU",
            "GRC",
            "HUN",
            "IRL",
            "ITA",
            "LVA",
            "LTU",
            "MLT",
            "NLD",
            "POL",
            "PRT",
            "ROU",
            "SVN",
            "ESP",
            "SWE"
           ],
           "name": "",
           "type": "choropleth",
           "z": [
            350,
            26793,
            8687.39,
            80369.89,
            1268,
            3812,
            745146,
            68883,
            183147,
            558431.73,
            242743,
            60173.29,
            7463,
            306423.74,
            183451.41,
            119536,
            150067,
            2405.6,
            371315,
            191598,
            183664,
            6248,
            410.5,
            1064822.62,
            181574
           ]
          }
         ],
         "name": "2014"
        },
        {
         "data": [
          {
           "coloraxis": "coloraxis",
           "geo": "geo",
           "hovertemplate": "<b>%{hovertext}</b><br><br>Date=2015<br>Country Code=%{location}<br>captured fishes (metric tons)=%{z}<extra></extra>",
           "hovertext": [
            "Austria",
            "Belgium",
            "Bulgaria",
            "Croatia",
            "Cyprus",
            "Czech Republic",
            "Denmark",
            "Estonia",
            "Finland",
            "France",
            "Germany",
            "Greece",
            "Hungary",
            "Ireland",
            "Italy",
            "Latvia",
            "Lithuania",
            "Malta",
            "Netherlands",
            "Poland",
            "Portugal",
            "Romania",
            "Slovenia",
            "Spain",
            "Sweden"
           ],
           "locations": [
            "AUT",
            "BEL",
            "BGR",
            "HRV",
            "CYP",
            "CZE",
            "DNK",
            "EST",
            "FIN",
            "FRA",
            "DEU",
            "GRC",
            "HUN",
            "IRL",
            "ITA",
            "LVA",
            "LTU",
            "MLT",
            "NLD",
            "POL",
            "PRT",
            "ROU",
            "SVN",
            "ESP",
            "SWE"
           ],
           "name": "",
           "type": "choropleth",
           "z": [
            350,
            24721,
            8828.73,
            73947.99,
            1488,
            3841,
            869013,
            73195,
            183037,
            508727.24,
            261744,
            65426.6,
            5926,
            264370.53,
            198768.91,
            81340,
            85144,
            2563.07,
            384465,
            205428,
            190100,
            9307,
            343.39,
            978062.95,
            211963
           ]
          }
         ],
         "name": "2015"
        },
        {
         "data": [
          {
           "coloraxis": "coloraxis",
           "geo": "geo",
           "hovertemplate": "<b>%{hovertext}</b><br><br>Date=2016<br>Country Code=%{location}<br>captured fishes (metric tons)=%{z}<extra></extra>",
           "hovertext": [
            "Austria",
            "Belgium",
            "Bulgaria",
            "Croatia",
            "Cyprus",
            "Czech Republic",
            "Denmark",
            "Estonia",
            "Finland",
            "France",
            "Germany",
            "Greece",
            "Hungary",
            "Ireland",
            "Italy",
            "Latvia",
            "Lithuania",
            "Malta",
            "Netherlands",
            "Poland",
            "Portugal",
            "Romania",
            "Slovenia",
            "Spain",
            "Sweden"
           ],
           "locations": [
            "AUT",
            "BEL",
            "BGR",
            "HRV",
            "CYP",
            "CZE",
            "DNK",
            "EST",
            "FIN",
            "FRA",
            "DEU",
            "GRC",
            "HUN",
            "IRL",
            "ITA",
            "LVA",
            "LTU",
            "MLT",
            "NLD",
            "POL",
            "PRT",
            "ROU",
            "SVN",
            "ESP",
            "SWE"
           ],
           "name": "",
           "type": "choropleth",
           "z": [
            350,
            26970,
            8614.22,
            73305.74,
            1494,
            3507,
            670328,
            75656,
            193153,
            562495.37,
            271200,
            76570.3,
            5048,
            257518.44,
            197090.67,
            114278,
            106945,
            3562.27,
            370125,
            218115,
            186545,
            12728,
            310.52,
            917206.16,
            205465
           ]
          }
         ],
         "name": "2016"
        },
        {
         "data": [
          {
           "coloraxis": "coloraxis",
           "geo": "geo",
           "hovertemplate": "<b>%{hovertext}</b><br><br>Date=2017<br>Country Code=%{location}<br>captured fishes (metric tons)=%{z}<extra></extra>",
           "hovertext": [
            "Austria",
            "Belgium",
            "Bulgaria",
            "Croatia",
            "Cyprus",
            "Czech Republic",
            "Denmark",
            "Estonia",
            "Finland",
            "France",
            "Germany",
            "Greece",
            "Hungary",
            "Ireland",
            "Italy",
            "Latvia",
            "Lithuania",
            "Malta",
            "Netherlands",
            "Poland",
            "Portugal",
            "Romania",
            "Slovenia",
            "Spain",
            "Sweden"
           ],
           "locations": [
            "AUT",
            "BEL",
            "BGR",
            "HRV",
            "CYP",
            "CZE",
            "DNK",
            "EST",
            "FIN",
            "FRA",
            "DEU",
            "GRC",
            "HUN",
            "IRL",
            "ITA",
            "LVA",
            "LTU",
            "MLT",
            "NLD",
            "POL",
            "PRT",
            "ROU",
            "SVN",
            "ESP",
            "SWE"
           ],
           "name": "",
           "type": "choropleth",
           "z": [
            350,
            24649,
            8559.04,
            69946.39,
            1756,
            3557,
            904572,
            82820,
            191059,
            540753.3,
            248237,
            78183,
            5607,
            276329.84,
            197389.39,
            118140.39,
            89770,
            2163.62,
            500115,
            226396,
            182615,
            14998,
            280.07,
            953764.22,
            228726
           ]
          }
         ],
         "name": "2017"
        },
        {
         "data": [
          {
           "coloraxis": "coloraxis",
           "geo": "geo",
           "hovertemplate": "<b>%{hovertext}</b><br><br>Date=2018<br>Country Code=%{location}<br>captured fishes (metric tons)=%{z}<extra></extra>",
           "hovertext": [
            "Austria",
            "Belgium",
            "Bulgaria",
            "Croatia",
            "Cyprus",
            "Czech Republic",
            "Denmark",
            "Estonia",
            "Finland",
            "France",
            "Germany",
            "Greece",
            "Hungary",
            "Ireland",
            "Italy",
            "Latvia",
            "Lithuania",
            "Malta",
            "Netherlands",
            "Poland",
            "Portugal",
            "Romania",
            "Slovenia",
            "Spain",
            "Sweden"
           ],
           "locations": [
            "AUT",
            "BEL",
            "BGR",
            "HRV",
            "CYP",
            "CZE",
            "DNK",
            "EST",
            "FIN",
            "FRA",
            "DEU",
            "GRC",
            "HUN",
            "IRL",
            "ITA",
            "LVA",
            "LTU",
            "MLT",
            "NLD",
            "POL",
            "PRT",
            "ROU",
            "SVN",
            "ESP",
            "SWE"
           ],
           "name": "",
           "type": "choropleth",
           "z": [
            350,
            23005,
            8598.91,
            70558,
            1490,
            3650,
            789283,
            87051,
            175623.39,
            607466.48,
            279213,
            77236.95,
            5234,
            251240.96,
            206936.7,
            135467.96,
            75019.25,
            2731.85,
            411686,
            222704,
            178270,
            11179,
            263.74,
            939484.94,
            221662
           ]
          }
         ],
         "name": "2018"
        },
        {
         "data": [
          {
           "coloraxis": "coloraxis",
           "geo": "geo",
           "hovertemplate": "<b>%{hovertext}</b><br><br>Date=2019<br>Country Code=%{location}<br>captured fishes (metric tons)=%{z}<extra></extra>",
           "hovertext": [
            "Austria",
            "Belgium",
            "Bulgaria",
            "Croatia",
            "Cyprus",
            "Czech Republic",
            "Denmark",
            "Estonia",
            "Finland",
            "France",
            "Germany",
            "Greece",
            "Hungary",
            "Ireland",
            "Italy",
            "Latvia",
            "Lithuania",
            "Malta",
            "Netherlands",
            "Poland",
            "Portugal",
            "Romania",
            "Slovenia",
            "Spain",
            "Sweden"
           ],
           "locations": [
            "AUT",
            "BEL",
            "BGR",
            "HRV",
            "CYP",
            "CZE",
            "DNK",
            "EST",
            "FIN",
            "FRA",
            "DEU",
            "GRC",
            "HUN",
            "IRL",
            "ITA",
            "LVA",
            "LTU",
            "MLT",
            "NLD",
            "POL",
            "PRT",
            "ROU",
            "SVN",
            "ESP",
            "SWE"
           ],
           "name": "",
           "type": "choropleth",
           "z": [
            350,
            21350,
            10329.65,
            64582.41,
            1500.14,
            3721,
            628907,
            86755,
            164498.17,
            530844.16,
            224408.8,
            83172.22,
            4816,
            238443.64,
            187504.5,
            110898.85,
            102219.91,
            2488.64,
            320280,
            211443,
            185049.08,
            10927.4,
            281.36,
            884741.85,
            184337
           ]
          }
         ],
         "name": "2019"
        },
        {
         "data": [
          {
           "coloraxis": "coloraxis",
           "geo": "geo",
           "hovertemplate": "<b>%{hovertext}</b><br><br>Date=2020<br>Country Code=%{location}<br>captured fishes (metric tons)=%{z}<extra></extra>",
           "hovertext": [
            "Austria",
            "Belgium",
            "Bulgaria",
            "Croatia",
            "Cyprus",
            "Czech Republic",
            "Denmark",
            "Estonia",
            "Finland",
            "France",
            "Germany",
            "Greece",
            "Hungary",
            "Ireland",
            "Italy",
            "Latvia",
            "Lithuania",
            "Malta",
            "Netherlands",
            "Poland",
            "Portugal",
            "Romania",
            "Slovenia",
            "Spain",
            "Sweden"
           ],
           "locations": [
            "AUT",
            "BEL",
            "BGR",
            "HRV",
            "CYP",
            "CZE",
            "DNK",
            "EST",
            "FIN",
            "FRA",
            "DEU",
            "GRC",
            "HUN",
            "IRL",
            "ITA",
            "LVA",
            "LTU",
            "MLT",
            "NLD",
            "POL",
            "PRT",
            "ROU",
            "SVN",
            "ESP",
            "SWE"
           ],
           "name": "",
           "type": "choropleth",
           "z": [
            350,
            19953.8,
            6295.8,
            71625.09,
            1265.81,
            3729,
            732889.62,
            74142.44,
            141704,
            465872.1,
            212110.66,
            71476.18,
            5406.42,
            208502.06,
            141777.46,
            103484,
            91083.37,
            2103.23,
            305093,
            206390.3,
            159947.96,
            7972.88,
            312.02,
            804395.68,
            179642.8
           ]
          }
         ],
         "name": "2020"
        }
       ],
       "layout": {
        "coloraxis": {
         "colorbar": {
          "title": {
           "text": "captured fishes (metric tons)"
          }
         },
         "colorscale": [
          [
           0,
           "#0d0887"
          ],
          [
           0.1111111111111111,
           "#46039f"
          ],
          [
           0.2222222222222222,
           "#7201a8"
          ],
          [
           0.3333333333333333,
           "#9c179e"
          ],
          [
           0.4444444444444444,
           "#bd3786"
          ],
          [
           0.5555555555555556,
           "#d8576b"
          ],
          [
           0.6666666666666666,
           "#ed7953"
          ],
          [
           0.7777777777777778,
           "#fb9f3a"
          ],
          [
           0.8888888888888888,
           "#fdca26"
          ],
          [
           1,
           "#f0f921"
          ]
         ]
        },
        "geo": {
         "center": {},
         "domain": {
          "x": [
           0,
           1
          ],
          "y": [
           0,
           1
          ]
         },
         "scope": "europe"
        },
        "height": 700,
        "legend": {
         "tracegroupgap": 0
        },
        "sliders": [
         {
          "active": 0,
          "currentvalue": {
           "prefix": "Date="
          },
          "len": 0.9,
          "pad": {
           "b": 10,
           "t": 60
          },
          "steps": [
           {
            "args": [
             [
              "1960"
             ],
             {
              "frame": {
               "duration": 0,
               "redraw": true
              },
              "fromcurrent": true,
              "mode": "immediate",
              "transition": {
               "duration": 0,
               "easing": "linear"
              }
             }
            ],
            "label": "1960",
            "method": "animate"
           },
           {
            "args": [
             [
              "1961"
             ],
             {
              "frame": {
               "duration": 0,
               "redraw": true
              },
              "fromcurrent": true,
              "mode": "immediate",
              "transition": {
               "duration": 0,
               "easing": "linear"
              }
             }
            ],
            "label": "1961",
            "method": "animate"
           },
           {
            "args": [
             [
              "1962"
             ],
             {
              "frame": {
               "duration": 0,
               "redraw": true
              },
              "fromcurrent": true,
              "mode": "immediate",
              "transition": {
               "duration": 0,
               "easing": "linear"
              }
             }
            ],
            "label": "1962",
            "method": "animate"
           },
           {
            "args": [
             [
              "1963"
             ],
             {
              "frame": {
               "duration": 0,
               "redraw": true
              },
              "fromcurrent": true,
              "mode": "immediate",
              "transition": {
               "duration": 0,
               "easing": "linear"
              }
             }
            ],
            "label": "1963",
            "method": "animate"
           },
           {
            "args": [
             [
              "1964"
             ],
             {
              "frame": {
               "duration": 0,
               "redraw": true
              },
              "fromcurrent": true,
              "mode": "immediate",
              "transition": {
               "duration": 0,
               "easing": "linear"
              }
             }
            ],
            "label": "1964",
            "method": "animate"
           },
           {
            "args": [
             [
              "1965"
             ],
             {
              "frame": {
               "duration": 0,
               "redraw": true
              },
              "fromcurrent": true,
              "mode": "immediate",
              "transition": {
               "duration": 0,
               "easing": "linear"
              }
             }
            ],
            "label": "1965",
            "method": "animate"
           },
           {
            "args": [
             [
              "1966"
             ],
             {
              "frame": {
               "duration": 0,
               "redraw": true
              },
              "fromcurrent": true,
              "mode": "immediate",
              "transition": {
               "duration": 0,
               "easing": "linear"
              }
             }
            ],
            "label": "1966",
            "method": "animate"
           },
           {
            "args": [
             [
              "1967"
             ],
             {
              "frame": {
               "duration": 0,
               "redraw": true
              },
              "fromcurrent": true,
              "mode": "immediate",
              "transition": {
               "duration": 0,
               "easing": "linear"
              }
             }
            ],
            "label": "1967",
            "method": "animate"
           },
           {
            "args": [
             [
              "1968"
             ],
             {
              "frame": {
               "duration": 0,
               "redraw": true
              },
              "fromcurrent": true,
              "mode": "immediate",
              "transition": {
               "duration": 0,
               "easing": "linear"
              }
             }
            ],
            "label": "1968",
            "method": "animate"
           },
           {
            "args": [
             [
              "1969"
             ],
             {
              "frame": {
               "duration": 0,
               "redraw": true
              },
              "fromcurrent": true,
              "mode": "immediate",
              "transition": {
               "duration": 0,
               "easing": "linear"
              }
             }
            ],
            "label": "1969",
            "method": "animate"
           },
           {
            "args": [
             [
              "1970"
             ],
             {
              "frame": {
               "duration": 0,
               "redraw": true
              },
              "fromcurrent": true,
              "mode": "immediate",
              "transition": {
               "duration": 0,
               "easing": "linear"
              }
             }
            ],
            "label": "1970",
            "method": "animate"
           },
           {
            "args": [
             [
              "1971"
             ],
             {
              "frame": {
               "duration": 0,
               "redraw": true
              },
              "fromcurrent": true,
              "mode": "immediate",
              "transition": {
               "duration": 0,
               "easing": "linear"
              }
             }
            ],
            "label": "1971",
            "method": "animate"
           },
           {
            "args": [
             [
              "1972"
             ],
             {
              "frame": {
               "duration": 0,
               "redraw": true
              },
              "fromcurrent": true,
              "mode": "immediate",
              "transition": {
               "duration": 0,
               "easing": "linear"
              }
             }
            ],
            "label": "1972",
            "method": "animate"
           },
           {
            "args": [
             [
              "1973"
             ],
             {
              "frame": {
               "duration": 0,
               "redraw": true
              },
              "fromcurrent": true,
              "mode": "immediate",
              "transition": {
               "duration": 0,
               "easing": "linear"
              }
             }
            ],
            "label": "1973",
            "method": "animate"
           },
           {
            "args": [
             [
              "1974"
             ],
             {
              "frame": {
               "duration": 0,
               "redraw": true
              },
              "fromcurrent": true,
              "mode": "immediate",
              "transition": {
               "duration": 0,
               "easing": "linear"
              }
             }
            ],
            "label": "1974",
            "method": "animate"
           },
           {
            "args": [
             [
              "1975"
             ],
             {
              "frame": {
               "duration": 0,
               "redraw": true
              },
              "fromcurrent": true,
              "mode": "immediate",
              "transition": {
               "duration": 0,
               "easing": "linear"
              }
             }
            ],
            "label": "1975",
            "method": "animate"
           },
           {
            "args": [
             [
              "1976"
             ],
             {
              "frame": {
               "duration": 0,
               "redraw": true
              },
              "fromcurrent": true,
              "mode": "immediate",
              "transition": {
               "duration": 0,
               "easing": "linear"
              }
             }
            ],
            "label": "1976",
            "method": "animate"
           },
           {
            "args": [
             [
              "1977"
             ],
             {
              "frame": {
               "duration": 0,
               "redraw": true
              },
              "fromcurrent": true,
              "mode": "immediate",
              "transition": {
               "duration": 0,
               "easing": "linear"
              }
             }
            ],
            "label": "1977",
            "method": "animate"
           },
           {
            "args": [
             [
              "1978"
             ],
             {
              "frame": {
               "duration": 0,
               "redraw": true
              },
              "fromcurrent": true,
              "mode": "immediate",
              "transition": {
               "duration": 0,
               "easing": "linear"
              }
             }
            ],
            "label": "1978",
            "method": "animate"
           },
           {
            "args": [
             [
              "1979"
             ],
             {
              "frame": {
               "duration": 0,
               "redraw": true
              },
              "fromcurrent": true,
              "mode": "immediate",
              "transition": {
               "duration": 0,
               "easing": "linear"
              }
             }
            ],
            "label": "1979",
            "method": "animate"
           },
           {
            "args": [
             [
              "1980"
             ],
             {
              "frame": {
               "duration": 0,
               "redraw": true
              },
              "fromcurrent": true,
              "mode": "immediate",
              "transition": {
               "duration": 0,
               "easing": "linear"
              }
             }
            ],
            "label": "1980",
            "method": "animate"
           },
           {
            "args": [
             [
              "1981"
             ],
             {
              "frame": {
               "duration": 0,
               "redraw": true
              },
              "fromcurrent": true,
              "mode": "immediate",
              "transition": {
               "duration": 0,
               "easing": "linear"
              }
             }
            ],
            "label": "1981",
            "method": "animate"
           },
           {
            "args": [
             [
              "1982"
             ],
             {
              "frame": {
               "duration": 0,
               "redraw": true
              },
              "fromcurrent": true,
              "mode": "immediate",
              "transition": {
               "duration": 0,
               "easing": "linear"
              }
             }
            ],
            "label": "1982",
            "method": "animate"
           },
           {
            "args": [
             [
              "1983"
             ],
             {
              "frame": {
               "duration": 0,
               "redraw": true
              },
              "fromcurrent": true,
              "mode": "immediate",
              "transition": {
               "duration": 0,
               "easing": "linear"
              }
             }
            ],
            "label": "1983",
            "method": "animate"
           },
           {
            "args": [
             [
              "1984"
             ],
             {
              "frame": {
               "duration": 0,
               "redraw": true
              },
              "fromcurrent": true,
              "mode": "immediate",
              "transition": {
               "duration": 0,
               "easing": "linear"
              }
             }
            ],
            "label": "1984",
            "method": "animate"
           },
           {
            "args": [
             [
              "1985"
             ],
             {
              "frame": {
               "duration": 0,
               "redraw": true
              },
              "fromcurrent": true,
              "mode": "immediate",
              "transition": {
               "duration": 0,
               "easing": "linear"
              }
             }
            ],
            "label": "1985",
            "method": "animate"
           },
           {
            "args": [
             [
              "1986"
             ],
             {
              "frame": {
               "duration": 0,
               "redraw": true
              },
              "fromcurrent": true,
              "mode": "immediate",
              "transition": {
               "duration": 0,
               "easing": "linear"
              }
             }
            ],
            "label": "1986",
            "method": "animate"
           },
           {
            "args": [
             [
              "1987"
             ],
             {
              "frame": {
               "duration": 0,
               "redraw": true
              },
              "fromcurrent": true,
              "mode": "immediate",
              "transition": {
               "duration": 0,
               "easing": "linear"
              }
             }
            ],
            "label": "1987",
            "method": "animate"
           },
           {
            "args": [
             [
              "1988"
             ],
             {
              "frame": {
               "duration": 0,
               "redraw": true
              },
              "fromcurrent": true,
              "mode": "immediate",
              "transition": {
               "duration": 0,
               "easing": "linear"
              }
             }
            ],
            "label": "1988",
            "method": "animate"
           },
           {
            "args": [
             [
              "1989"
             ],
             {
              "frame": {
               "duration": 0,
               "redraw": true
              },
              "fromcurrent": true,
              "mode": "immediate",
              "transition": {
               "duration": 0,
               "easing": "linear"
              }
             }
            ],
            "label": "1989",
            "method": "animate"
           },
           {
            "args": [
             [
              "1990"
             ],
             {
              "frame": {
               "duration": 0,
               "redraw": true
              },
              "fromcurrent": true,
              "mode": "immediate",
              "transition": {
               "duration": 0,
               "easing": "linear"
              }
             }
            ],
            "label": "1990",
            "method": "animate"
           },
           {
            "args": [
             [
              "1991"
             ],
             {
              "frame": {
               "duration": 0,
               "redraw": true
              },
              "fromcurrent": true,
              "mode": "immediate",
              "transition": {
               "duration": 0,
               "easing": "linear"
              }
             }
            ],
            "label": "1991",
            "method": "animate"
           },
           {
            "args": [
             [
              "1992"
             ],
             {
              "frame": {
               "duration": 0,
               "redraw": true
              },
              "fromcurrent": true,
              "mode": "immediate",
              "transition": {
               "duration": 0,
               "easing": "linear"
              }
             }
            ],
            "label": "1992",
            "method": "animate"
           },
           {
            "args": [
             [
              "1993"
             ],
             {
              "frame": {
               "duration": 0,
               "redraw": true
              },
              "fromcurrent": true,
              "mode": "immediate",
              "transition": {
               "duration": 0,
               "easing": "linear"
              }
             }
            ],
            "label": "1993",
            "method": "animate"
           },
           {
            "args": [
             [
              "1994"
             ],
             {
              "frame": {
               "duration": 0,
               "redraw": true
              },
              "fromcurrent": true,
              "mode": "immediate",
              "transition": {
               "duration": 0,
               "easing": "linear"
              }
             }
            ],
            "label": "1994",
            "method": "animate"
           },
           {
            "args": [
             [
              "1995"
             ],
             {
              "frame": {
               "duration": 0,
               "redraw": true
              },
              "fromcurrent": true,
              "mode": "immediate",
              "transition": {
               "duration": 0,
               "easing": "linear"
              }
             }
            ],
            "label": "1995",
            "method": "animate"
           },
           {
            "args": [
             [
              "1996"
             ],
             {
              "frame": {
               "duration": 0,
               "redraw": true
              },
              "fromcurrent": true,
              "mode": "immediate",
              "transition": {
               "duration": 0,
               "easing": "linear"
              }
             }
            ],
            "label": "1996",
            "method": "animate"
           },
           {
            "args": [
             [
              "1997"
             ],
             {
              "frame": {
               "duration": 0,
               "redraw": true
              },
              "fromcurrent": true,
              "mode": "immediate",
              "transition": {
               "duration": 0,
               "easing": "linear"
              }
             }
            ],
            "label": "1997",
            "method": "animate"
           },
           {
            "args": [
             [
              "1998"
             ],
             {
              "frame": {
               "duration": 0,
               "redraw": true
              },
              "fromcurrent": true,
              "mode": "immediate",
              "transition": {
               "duration": 0,
               "easing": "linear"
              }
             }
            ],
            "label": "1998",
            "method": "animate"
           },
           {
            "args": [
             [
              "1999"
             ],
             {
              "frame": {
               "duration": 0,
               "redraw": true
              },
              "fromcurrent": true,
              "mode": "immediate",
              "transition": {
               "duration": 0,
               "easing": "linear"
              }
             }
            ],
            "label": "1999",
            "method": "animate"
           },
           {
            "args": [
             [
              "2000"
             ],
             {
              "frame": {
               "duration": 0,
               "redraw": true
              },
              "fromcurrent": true,
              "mode": "immediate",
              "transition": {
               "duration": 0,
               "easing": "linear"
              }
             }
            ],
            "label": "2000",
            "method": "animate"
           },
           {
            "args": [
             [
              "2001"
             ],
             {
              "frame": {
               "duration": 0,
               "redraw": true
              },
              "fromcurrent": true,
              "mode": "immediate",
              "transition": {
               "duration": 0,
               "easing": "linear"
              }
             }
            ],
            "label": "2001",
            "method": "animate"
           },
           {
            "args": [
             [
              "2002"
             ],
             {
              "frame": {
               "duration": 0,
               "redraw": true
              },
              "fromcurrent": true,
              "mode": "immediate",
              "transition": {
               "duration": 0,
               "easing": "linear"
              }
             }
            ],
            "label": "2002",
            "method": "animate"
           },
           {
            "args": [
             [
              "2003"
             ],
             {
              "frame": {
               "duration": 0,
               "redraw": true
              },
              "fromcurrent": true,
              "mode": "immediate",
              "transition": {
               "duration": 0,
               "easing": "linear"
              }
             }
            ],
            "label": "2003",
            "method": "animate"
           },
           {
            "args": [
             [
              "2004"
             ],
             {
              "frame": {
               "duration": 0,
               "redraw": true
              },
              "fromcurrent": true,
              "mode": "immediate",
              "transition": {
               "duration": 0,
               "easing": "linear"
              }
             }
            ],
            "label": "2004",
            "method": "animate"
           },
           {
            "args": [
             [
              "2005"
             ],
             {
              "frame": {
               "duration": 0,
               "redraw": true
              },
              "fromcurrent": true,
              "mode": "immediate",
              "transition": {
               "duration": 0,
               "easing": "linear"
              }
             }
            ],
            "label": "2005",
            "method": "animate"
           },
           {
            "args": [
             [
              "2006"
             ],
             {
              "frame": {
               "duration": 0,
               "redraw": true
              },
              "fromcurrent": true,
              "mode": "immediate",
              "transition": {
               "duration": 0,
               "easing": "linear"
              }
             }
            ],
            "label": "2006",
            "method": "animate"
           },
           {
            "args": [
             [
              "2007"
             ],
             {
              "frame": {
               "duration": 0,
               "redraw": true
              },
              "fromcurrent": true,
              "mode": "immediate",
              "transition": {
               "duration": 0,
               "easing": "linear"
              }
             }
            ],
            "label": "2007",
            "method": "animate"
           },
           {
            "args": [
             [
              "2008"
             ],
             {
              "frame": {
               "duration": 0,
               "redraw": true
              },
              "fromcurrent": true,
              "mode": "immediate",
              "transition": {
               "duration": 0,
               "easing": "linear"
              }
             }
            ],
            "label": "2008",
            "method": "animate"
           },
           {
            "args": [
             [
              "2009"
             ],
             {
              "frame": {
               "duration": 0,
               "redraw": true
              },
              "fromcurrent": true,
              "mode": "immediate",
              "transition": {
               "duration": 0,
               "easing": "linear"
              }
             }
            ],
            "label": "2009",
            "method": "animate"
           },
           {
            "args": [
             [
              "2010"
             ],
             {
              "frame": {
               "duration": 0,
               "redraw": true
              },
              "fromcurrent": true,
              "mode": "immediate",
              "transition": {
               "duration": 0,
               "easing": "linear"
              }
             }
            ],
            "label": "2010",
            "method": "animate"
           },
           {
            "args": [
             [
              "2011"
             ],
             {
              "frame": {
               "duration": 0,
               "redraw": true
              },
              "fromcurrent": true,
              "mode": "immediate",
              "transition": {
               "duration": 0,
               "easing": "linear"
              }
             }
            ],
            "label": "2011",
            "method": "animate"
           },
           {
            "args": [
             [
              "2012"
             ],
             {
              "frame": {
               "duration": 0,
               "redraw": true
              },
              "fromcurrent": true,
              "mode": "immediate",
              "transition": {
               "duration": 0,
               "easing": "linear"
              }
             }
            ],
            "label": "2012",
            "method": "animate"
           },
           {
            "args": [
             [
              "2013"
             ],
             {
              "frame": {
               "duration": 0,
               "redraw": true
              },
              "fromcurrent": true,
              "mode": "immediate",
              "transition": {
               "duration": 0,
               "easing": "linear"
              }
             }
            ],
            "label": "2013",
            "method": "animate"
           },
           {
            "args": [
             [
              "2014"
             ],
             {
              "frame": {
               "duration": 0,
               "redraw": true
              },
              "fromcurrent": true,
              "mode": "immediate",
              "transition": {
               "duration": 0,
               "easing": "linear"
              }
             }
            ],
            "label": "2014",
            "method": "animate"
           },
           {
            "args": [
             [
              "2015"
             ],
             {
              "frame": {
               "duration": 0,
               "redraw": true
              },
              "fromcurrent": true,
              "mode": "immediate",
              "transition": {
               "duration": 0,
               "easing": "linear"
              }
             }
            ],
            "label": "2015",
            "method": "animate"
           },
           {
            "args": [
             [
              "2016"
             ],
             {
              "frame": {
               "duration": 0,
               "redraw": true
              },
              "fromcurrent": true,
              "mode": "immediate",
              "transition": {
               "duration": 0,
               "easing": "linear"
              }
             }
            ],
            "label": "2016",
            "method": "animate"
           },
           {
            "args": [
             [
              "2017"
             ],
             {
              "frame": {
               "duration": 0,
               "redraw": true
              },
              "fromcurrent": true,
              "mode": "immediate",
              "transition": {
               "duration": 0,
               "easing": "linear"
              }
             }
            ],
            "label": "2017",
            "method": "animate"
           },
           {
            "args": [
             [
              "2018"
             ],
             {
              "frame": {
               "duration": 0,
               "redraw": true
              },
              "fromcurrent": true,
              "mode": "immediate",
              "transition": {
               "duration": 0,
               "easing": "linear"
              }
             }
            ],
            "label": "2018",
            "method": "animate"
           },
           {
            "args": [
             [
              "2019"
             ],
             {
              "frame": {
               "duration": 0,
               "redraw": true
              },
              "fromcurrent": true,
              "mode": "immediate",
              "transition": {
               "duration": 0,
               "easing": "linear"
              }
             }
            ],
            "label": "2019",
            "method": "animate"
           },
           {
            "args": [
             [
              "2020"
             ],
             {
              "frame": {
               "duration": 0,
               "redraw": true
              },
              "fromcurrent": true,
              "mode": "immediate",
              "transition": {
               "duration": 0,
               "easing": "linear"
              }
             }
            ],
            "label": "2020",
            "method": "animate"
           }
          ],
          "x": 0.1,
          "xanchor": "left",
          "y": 0,
          "yanchor": "top"
         }
        ],
        "template": {
         "data": {
          "bar": [
           {
            "error_x": {
             "color": "#2a3f5f"
            },
            "error_y": {
             "color": "#2a3f5f"
            },
            "marker": {
             "line": {
              "color": "#E5ECF6",
              "width": 0.5
             },
             "pattern": {
              "fillmode": "overlay",
              "size": 10,
              "solidity": 0.2
             }
            },
            "type": "bar"
           }
          ],
          "barpolar": [
           {
            "marker": {
             "line": {
              "color": "#E5ECF6",
              "width": 0.5
             },
             "pattern": {
              "fillmode": "overlay",
              "size": 10,
              "solidity": 0.2
             }
            },
            "type": "barpolar"
           }
          ],
          "carpet": [
           {
            "aaxis": {
             "endlinecolor": "#2a3f5f",
             "gridcolor": "white",
             "linecolor": "white",
             "minorgridcolor": "white",
             "startlinecolor": "#2a3f5f"
            },
            "baxis": {
             "endlinecolor": "#2a3f5f",
             "gridcolor": "white",
             "linecolor": "white",
             "minorgridcolor": "white",
             "startlinecolor": "#2a3f5f"
            },
            "type": "carpet"
           }
          ],
          "choropleth": [
           {
            "colorbar": {
             "outlinewidth": 0,
             "ticks": ""
            },
            "type": "choropleth"
           }
          ],
          "contour": [
           {
            "colorbar": {
             "outlinewidth": 0,
             "ticks": ""
            },
            "colorscale": [
             [
              0,
              "#0d0887"
             ],
             [
              0.1111111111111111,
              "#46039f"
             ],
             [
              0.2222222222222222,
              "#7201a8"
             ],
             [
              0.3333333333333333,
              "#9c179e"
             ],
             [
              0.4444444444444444,
              "#bd3786"
             ],
             [
              0.5555555555555556,
              "#d8576b"
             ],
             [
              0.6666666666666666,
              "#ed7953"
             ],
             [
              0.7777777777777778,
              "#fb9f3a"
             ],
             [
              0.8888888888888888,
              "#fdca26"
             ],
             [
              1,
              "#f0f921"
             ]
            ],
            "type": "contour"
           }
          ],
          "contourcarpet": [
           {
            "colorbar": {
             "outlinewidth": 0,
             "ticks": ""
            },
            "type": "contourcarpet"
           }
          ],
          "heatmap": [
           {
            "colorbar": {
             "outlinewidth": 0,
             "ticks": ""
            },
            "colorscale": [
             [
              0,
              "#0d0887"
             ],
             [
              0.1111111111111111,
              "#46039f"
             ],
             [
              0.2222222222222222,
              "#7201a8"
             ],
             [
              0.3333333333333333,
              "#9c179e"
             ],
             [
              0.4444444444444444,
              "#bd3786"
             ],
             [
              0.5555555555555556,
              "#d8576b"
             ],
             [
              0.6666666666666666,
              "#ed7953"
             ],
             [
              0.7777777777777778,
              "#fb9f3a"
             ],
             [
              0.8888888888888888,
              "#fdca26"
             ],
             [
              1,
              "#f0f921"
             ]
            ],
            "type": "heatmap"
           }
          ],
          "heatmapgl": [
           {
            "colorbar": {
             "outlinewidth": 0,
             "ticks": ""
            },
            "colorscale": [
             [
              0,
              "#0d0887"
             ],
             [
              0.1111111111111111,
              "#46039f"
             ],
             [
              0.2222222222222222,
              "#7201a8"
             ],
             [
              0.3333333333333333,
              "#9c179e"
             ],
             [
              0.4444444444444444,
              "#bd3786"
             ],
             [
              0.5555555555555556,
              "#d8576b"
             ],
             [
              0.6666666666666666,
              "#ed7953"
             ],
             [
              0.7777777777777778,
              "#fb9f3a"
             ],
             [
              0.8888888888888888,
              "#fdca26"
             ],
             [
              1,
              "#f0f921"
             ]
            ],
            "type": "heatmapgl"
           }
          ],
          "histogram": [
           {
            "marker": {
             "pattern": {
              "fillmode": "overlay",
              "size": 10,
              "solidity": 0.2
             }
            },
            "type": "histogram"
           }
          ],
          "histogram2d": [
           {
            "colorbar": {
             "outlinewidth": 0,
             "ticks": ""
            },
            "colorscale": [
             [
              0,
              "#0d0887"
             ],
             [
              0.1111111111111111,
              "#46039f"
             ],
             [
              0.2222222222222222,
              "#7201a8"
             ],
             [
              0.3333333333333333,
              "#9c179e"
             ],
             [
              0.4444444444444444,
              "#bd3786"
             ],
             [
              0.5555555555555556,
              "#d8576b"
             ],
             [
              0.6666666666666666,
              "#ed7953"
             ],
             [
              0.7777777777777778,
              "#fb9f3a"
             ],
             [
              0.8888888888888888,
              "#fdca26"
             ],
             [
              1,
              "#f0f921"
             ]
            ],
            "type": "histogram2d"
           }
          ],
          "histogram2dcontour": [
           {
            "colorbar": {
             "outlinewidth": 0,
             "ticks": ""
            },
            "colorscale": [
             [
              0,
              "#0d0887"
             ],
             [
              0.1111111111111111,
              "#46039f"
             ],
             [
              0.2222222222222222,
              "#7201a8"
             ],
             [
              0.3333333333333333,
              "#9c179e"
             ],
             [
              0.4444444444444444,
              "#bd3786"
             ],
             [
              0.5555555555555556,
              "#d8576b"
             ],
             [
              0.6666666666666666,
              "#ed7953"
             ],
             [
              0.7777777777777778,
              "#fb9f3a"
             ],
             [
              0.8888888888888888,
              "#fdca26"
             ],
             [
              1,
              "#f0f921"
             ]
            ],
            "type": "histogram2dcontour"
           }
          ],
          "mesh3d": [
           {
            "colorbar": {
             "outlinewidth": 0,
             "ticks": ""
            },
            "type": "mesh3d"
           }
          ],
          "parcoords": [
           {
            "line": {
             "colorbar": {
              "outlinewidth": 0,
              "ticks": ""
             }
            },
            "type": "parcoords"
           }
          ],
          "pie": [
           {
            "automargin": true,
            "type": "pie"
           }
          ],
          "scatter": [
           {
            "marker": {
             "colorbar": {
              "outlinewidth": 0,
              "ticks": ""
             }
            },
            "type": "scatter"
           }
          ],
          "scatter3d": [
           {
            "line": {
             "colorbar": {
              "outlinewidth": 0,
              "ticks": ""
             }
            },
            "marker": {
             "colorbar": {
              "outlinewidth": 0,
              "ticks": ""
             }
            },
            "type": "scatter3d"
           }
          ],
          "scattercarpet": [
           {
            "marker": {
             "colorbar": {
              "outlinewidth": 0,
              "ticks": ""
             }
            },
            "type": "scattercarpet"
           }
          ],
          "scattergeo": [
           {
            "marker": {
             "colorbar": {
              "outlinewidth": 0,
              "ticks": ""
             }
            },
            "type": "scattergeo"
           }
          ],
          "scattergl": [
           {
            "marker": {
             "colorbar": {
              "outlinewidth": 0,
              "ticks": ""
             }
            },
            "type": "scattergl"
           }
          ],
          "scattermapbox": [
           {
            "marker": {
             "colorbar": {
              "outlinewidth": 0,
              "ticks": ""
             }
            },
            "type": "scattermapbox"
           }
          ],
          "scatterpolar": [
           {
            "marker": {
             "colorbar": {
              "outlinewidth": 0,
              "ticks": ""
             }
            },
            "type": "scatterpolar"
           }
          ],
          "scatterpolargl": [
           {
            "marker": {
             "colorbar": {
              "outlinewidth": 0,
              "ticks": ""
             }
            },
            "type": "scatterpolargl"
           }
          ],
          "scatterternary": [
           {
            "marker": {
             "colorbar": {
              "outlinewidth": 0,
              "ticks": ""
             }
            },
            "type": "scatterternary"
           }
          ],
          "surface": [
           {
            "colorbar": {
             "outlinewidth": 0,
             "ticks": ""
            },
            "colorscale": [
             [
              0,
              "#0d0887"
             ],
             [
              0.1111111111111111,
              "#46039f"
             ],
             [
              0.2222222222222222,
              "#7201a8"
             ],
             [
              0.3333333333333333,
              "#9c179e"
             ],
             [
              0.4444444444444444,
              "#bd3786"
             ],
             [
              0.5555555555555556,
              "#d8576b"
             ],
             [
              0.6666666666666666,
              "#ed7953"
             ],
             [
              0.7777777777777778,
              "#fb9f3a"
             ],
             [
              0.8888888888888888,
              "#fdca26"
             ],
             [
              1,
              "#f0f921"
             ]
            ],
            "type": "surface"
           }
          ],
          "table": [
           {
            "cells": {
             "fill": {
              "color": "#EBF0F8"
             },
             "line": {
              "color": "white"
             }
            },
            "header": {
             "fill": {
              "color": "#C8D4E3"
             },
             "line": {
              "color": "white"
             }
            },
            "type": "table"
           }
          ]
         },
         "layout": {
          "annotationdefaults": {
           "arrowcolor": "#2a3f5f",
           "arrowhead": 0,
           "arrowwidth": 1
          },
          "autotypenumbers": "strict",
          "coloraxis": {
           "colorbar": {
            "outlinewidth": 0,
            "ticks": ""
           }
          },
          "colorscale": {
           "diverging": [
            [
             0,
             "#8e0152"
            ],
            [
             0.1,
             "#c51b7d"
            ],
            [
             0.2,
             "#de77ae"
            ],
            [
             0.3,
             "#f1b6da"
            ],
            [
             0.4,
             "#fde0ef"
            ],
            [
             0.5,
             "#f7f7f7"
            ],
            [
             0.6,
             "#e6f5d0"
            ],
            [
             0.7,
             "#b8e186"
            ],
            [
             0.8,
             "#7fbc41"
            ],
            [
             0.9,
             "#4d9221"
            ],
            [
             1,
             "#276419"
            ]
           ],
           "sequential": [
            [
             0,
             "#0d0887"
            ],
            [
             0.1111111111111111,
             "#46039f"
            ],
            [
             0.2222222222222222,
             "#7201a8"
            ],
            [
             0.3333333333333333,
             "#9c179e"
            ],
            [
             0.4444444444444444,
             "#bd3786"
            ],
            [
             0.5555555555555556,
             "#d8576b"
            ],
            [
             0.6666666666666666,
             "#ed7953"
            ],
            [
             0.7777777777777778,
             "#fb9f3a"
            ],
            [
             0.8888888888888888,
             "#fdca26"
            ],
            [
             1,
             "#f0f921"
            ]
           ],
           "sequentialminus": [
            [
             0,
             "#0d0887"
            ],
            [
             0.1111111111111111,
             "#46039f"
            ],
            [
             0.2222222222222222,
             "#7201a8"
            ],
            [
             0.3333333333333333,
             "#9c179e"
            ],
            [
             0.4444444444444444,
             "#bd3786"
            ],
            [
             0.5555555555555556,
             "#d8576b"
            ],
            [
             0.6666666666666666,
             "#ed7953"
            ],
            [
             0.7777777777777778,
             "#fb9f3a"
            ],
            [
             0.8888888888888888,
             "#fdca26"
            ],
            [
             1,
             "#f0f921"
            ]
           ]
          },
          "colorway": [
           "#636efa",
           "#EF553B",
           "#00cc96",
           "#ab63fa",
           "#FFA15A",
           "#19d3f3",
           "#FF6692",
           "#B6E880",
           "#FF97FF",
           "#FECB52"
          ],
          "font": {
           "color": "#2a3f5f"
          },
          "geo": {
           "bgcolor": "white",
           "lakecolor": "white",
           "landcolor": "#E5ECF6",
           "showlakes": true,
           "showland": true,
           "subunitcolor": "white"
          },
          "hoverlabel": {
           "align": "left"
          },
          "hovermode": "closest",
          "mapbox": {
           "style": "light"
          },
          "paper_bgcolor": "white",
          "plot_bgcolor": "#E5ECF6",
          "polar": {
           "angularaxis": {
            "gridcolor": "white",
            "linecolor": "white",
            "ticks": ""
           },
           "bgcolor": "#E5ECF6",
           "radialaxis": {
            "gridcolor": "white",
            "linecolor": "white",
            "ticks": ""
           }
          },
          "scene": {
           "xaxis": {
            "backgroundcolor": "#E5ECF6",
            "gridcolor": "white",
            "gridwidth": 2,
            "linecolor": "white",
            "showbackground": true,
            "ticks": "",
            "zerolinecolor": "white"
           },
           "yaxis": {
            "backgroundcolor": "#E5ECF6",
            "gridcolor": "white",
            "gridwidth": 2,
            "linecolor": "white",
            "showbackground": true,
            "ticks": "",
            "zerolinecolor": "white"
           },
           "zaxis": {
            "backgroundcolor": "#E5ECF6",
            "gridcolor": "white",
            "gridwidth": 2,
            "linecolor": "white",
            "showbackground": true,
            "ticks": "",
            "zerolinecolor": "white"
           }
          },
          "shapedefaults": {
           "line": {
            "color": "#2a3f5f"
           }
          },
          "ternary": {
           "aaxis": {
            "gridcolor": "white",
            "linecolor": "white",
            "ticks": ""
           },
           "baxis": {
            "gridcolor": "white",
            "linecolor": "white",
            "ticks": ""
           },
           "bgcolor": "#E5ECF6",
           "caxis": {
            "gridcolor": "white",
            "linecolor": "white",
            "ticks": ""
           }
          },
          "title": {
           "x": 0.05
          },
          "xaxis": {
           "automargin": true,
           "gridcolor": "white",
           "linecolor": "white",
           "ticks": "",
           "title": {
            "standoff": 15
           },
           "zerolinecolor": "white",
           "zerolinewidth": 2
          },
          "yaxis": {
           "automargin": true,
           "gridcolor": "white",
           "linecolor": "white",
           "ticks": "",
           "title": {
            "standoff": 15
           },
           "zerolinecolor": "white",
           "zerolinewidth": 2
          }
         }
        },
        "title": {
         "text": "Fish Catches In E.U Countries"
        },
        "updatemenus": [
         {
          "buttons": [
           {
            "args": [
             null,
             {
              "frame": {
               "duration": 500,
               "redraw": true
              },
              "fromcurrent": true,
              "mode": "immediate",
              "transition": {
               "duration": 500,
               "easing": "linear"
              }
             }
            ],
            "label": "&#9654;",
            "method": "animate"
           },
           {
            "args": [
             [
              null
             ],
             {
              "frame": {
               "duration": 0,
               "redraw": true
              },
              "fromcurrent": true,
              "mode": "immediate",
              "transition": {
               "duration": 0,
               "easing": "linear"
              }
             }
            ],
            "label": "&#9724;",
            "method": "animate"
           }
          ],
          "direction": "left",
          "pad": {
           "r": 10,
           "t": 70
          },
          "showactive": false,
          "type": "buttons",
          "x": 0.1,
          "xanchor": "right",
          "y": 0,
          "yanchor": "top"
         }
        ]
       }
      },
      "text/html": [
       "<div>                            <div id=\"cb15cd05-4577-4c78-8bf4-6b31c131bd79\" class=\"plotly-graph-div\" style=\"height:700px; width:100%;\"></div>            <script type=\"text/javascript\">                require([\"plotly\"], function(Plotly) {                    window.PLOTLYENV=window.PLOTLYENV || {};                                    if (document.getElementById(\"cb15cd05-4577-4c78-8bf4-6b31c131bd79\")) {                    Plotly.newPlot(                        \"cb15cd05-4577-4c78-8bf4-6b31c131bd79\",                        [{\"coloraxis\":\"coloraxis\",\"geo\":\"geo\",\"hovertemplate\":\"<b>%{hovertext}</b><br><br>Date=1960<br>Country Code=%{location}<br>captured fishes (metric tons)=%{z}<extra></extra>\",\"hovertext\":[\"Austria\",\"Belgium\",\"Bulgaria\",\"Cyprus\",\"Czech Republic\",\"Denmark\",\"Finland\",\"France\",\"Germany\",\"Greece\",\"Hungary\",\"Ireland\",\"Italy\",\"Malta\",\"Netherlands\",\"Poland\",\"Portugal\",\"Romania\",\"Spain\",\"Sweden\"],\"locations\":[\"AUT\",\"BEL\",\"BGR\",\"CYP\",\"CZE\",\"DNK\",\"FIN\",\"FRA\",\"DEU\",\"GRC\",\"HUN\",\"IRL\",\"ITA\",\"MLT\",\"NLD\",\"POL\",\"PRT\",\"ROU\",\"ESP\",\"SWE\"],\"name\":\"\",\"z\":[3550.0,63700.0,7800.0,500.0,334.0,568602.0,65500.0,651576.0,768100.0,87100.0,4900.0,40700.0,213960.0,1219.0,227881.0,175911.0,490387.0,24300.0,907298.0,249542.0],\"type\":\"choropleth\"}],                        {\"template\":{\"data\":{\"bar\":[{\"error_x\":{\"color\":\"#2a3f5f\"},\"error_y\":{\"color\":\"#2a3f5f\"},\"marker\":{\"line\":{\"color\":\"#E5ECF6\",\"width\":0.5},\"pattern\":{\"fillmode\":\"overlay\",\"size\":10,\"solidity\":0.2}},\"type\":\"bar\"}],\"barpolar\":[{\"marker\":{\"line\":{\"color\":\"#E5ECF6\",\"width\":0.5},\"pattern\":{\"fillmode\":\"overlay\",\"size\":10,\"solidity\":0.2}},\"type\":\"barpolar\"}],\"carpet\":[{\"aaxis\":{\"endlinecolor\":\"#2a3f5f\",\"gridcolor\":\"white\",\"linecolor\":\"white\",\"minorgridcolor\":\"white\",\"startlinecolor\":\"#2a3f5f\"},\"baxis\":{\"endlinecolor\":\"#2a3f5f\",\"gridcolor\":\"white\",\"linecolor\":\"white\",\"minorgridcolor\":\"white\",\"startlinecolor\":\"#2a3f5f\"},\"type\":\"carpet\"}],\"choropleth\":[{\"colorbar\":{\"outlinewidth\":0,\"ticks\":\"\"},\"type\":\"choropleth\"}],\"contour\":[{\"colorbar\":{\"outlinewidth\":0,\"ticks\":\"\"},\"colorscale\":[[0.0,\"#0d0887\"],[0.1111111111111111,\"#46039f\"],[0.2222222222222222,\"#7201a8\"],[0.3333333333333333,\"#9c179e\"],[0.4444444444444444,\"#bd3786\"],[0.5555555555555556,\"#d8576b\"],[0.6666666666666666,\"#ed7953\"],[0.7777777777777778,\"#fb9f3a\"],[0.8888888888888888,\"#fdca26\"],[1.0,\"#f0f921\"]],\"type\":\"contour\"}],\"contourcarpet\":[{\"colorbar\":{\"outlinewidth\":0,\"ticks\":\"\"},\"type\":\"contourcarpet\"}],\"heatmap\":[{\"colorbar\":{\"outlinewidth\":0,\"ticks\":\"\"},\"colorscale\":[[0.0,\"#0d0887\"],[0.1111111111111111,\"#46039f\"],[0.2222222222222222,\"#7201a8\"],[0.3333333333333333,\"#9c179e\"],[0.4444444444444444,\"#bd3786\"],[0.5555555555555556,\"#d8576b\"],[0.6666666666666666,\"#ed7953\"],[0.7777777777777778,\"#fb9f3a\"],[0.8888888888888888,\"#fdca26\"],[1.0,\"#f0f921\"]],\"type\":\"heatmap\"}],\"heatmapgl\":[{\"colorbar\":{\"outlinewidth\":0,\"ticks\":\"\"},\"colorscale\":[[0.0,\"#0d0887\"],[0.1111111111111111,\"#46039f\"],[0.2222222222222222,\"#7201a8\"],[0.3333333333333333,\"#9c179e\"],[0.4444444444444444,\"#bd3786\"],[0.5555555555555556,\"#d8576b\"],[0.6666666666666666,\"#ed7953\"],[0.7777777777777778,\"#fb9f3a\"],[0.8888888888888888,\"#fdca26\"],[1.0,\"#f0f921\"]],\"type\":\"heatmapgl\"}],\"histogram\":[{\"marker\":{\"pattern\":{\"fillmode\":\"overlay\",\"size\":10,\"solidity\":0.2}},\"type\":\"histogram\"}],\"histogram2d\":[{\"colorbar\":{\"outlinewidth\":0,\"ticks\":\"\"},\"colorscale\":[[0.0,\"#0d0887\"],[0.1111111111111111,\"#46039f\"],[0.2222222222222222,\"#7201a8\"],[0.3333333333333333,\"#9c179e\"],[0.4444444444444444,\"#bd3786\"],[0.5555555555555556,\"#d8576b\"],[0.6666666666666666,\"#ed7953\"],[0.7777777777777778,\"#fb9f3a\"],[0.8888888888888888,\"#fdca26\"],[1.0,\"#f0f921\"]],\"type\":\"histogram2d\"}],\"histogram2dcontour\":[{\"colorbar\":{\"outlinewidth\":0,\"ticks\":\"\"},\"colorscale\":[[0.0,\"#0d0887\"],[0.1111111111111111,\"#46039f\"],[0.2222222222222222,\"#7201a8\"],[0.3333333333333333,\"#9c179e\"],[0.4444444444444444,\"#bd3786\"],[0.5555555555555556,\"#d8576b\"],[0.6666666666666666,\"#ed7953\"],[0.7777777777777778,\"#fb9f3a\"],[0.8888888888888888,\"#fdca26\"],[1.0,\"#f0f921\"]],\"type\":\"histogram2dcontour\"}],\"mesh3d\":[{\"colorbar\":{\"outlinewidth\":0,\"ticks\":\"\"},\"type\":\"mesh3d\"}],\"parcoords\":[{\"line\":{\"colorbar\":{\"outlinewidth\":0,\"ticks\":\"\"}},\"type\":\"parcoords\"}],\"pie\":[{\"automargin\":true,\"type\":\"pie\"}],\"scatter\":[{\"marker\":{\"colorbar\":{\"outlinewidth\":0,\"ticks\":\"\"}},\"type\":\"scatter\"}],\"scatter3d\":[{\"line\":{\"colorbar\":{\"outlinewidth\":0,\"ticks\":\"\"}},\"marker\":{\"colorbar\":{\"outlinewidth\":0,\"ticks\":\"\"}},\"type\":\"scatter3d\"}],\"scattercarpet\":[{\"marker\":{\"colorbar\":{\"outlinewidth\":0,\"ticks\":\"\"}},\"type\":\"scattercarpet\"}],\"scattergeo\":[{\"marker\":{\"colorbar\":{\"outlinewidth\":0,\"ticks\":\"\"}},\"type\":\"scattergeo\"}],\"scattergl\":[{\"marker\":{\"colorbar\":{\"outlinewidth\":0,\"ticks\":\"\"}},\"type\":\"scattergl\"}],\"scattermapbox\":[{\"marker\":{\"colorbar\":{\"outlinewidth\":0,\"ticks\":\"\"}},\"type\":\"scattermapbox\"}],\"scatterpolar\":[{\"marker\":{\"colorbar\":{\"outlinewidth\":0,\"ticks\":\"\"}},\"type\":\"scatterpolar\"}],\"scatterpolargl\":[{\"marker\":{\"colorbar\":{\"outlinewidth\":0,\"ticks\":\"\"}},\"type\":\"scatterpolargl\"}],\"scatterternary\":[{\"marker\":{\"colorbar\":{\"outlinewidth\":0,\"ticks\":\"\"}},\"type\":\"scatterternary\"}],\"surface\":[{\"colorbar\":{\"outlinewidth\":0,\"ticks\":\"\"},\"colorscale\":[[0.0,\"#0d0887\"],[0.1111111111111111,\"#46039f\"],[0.2222222222222222,\"#7201a8\"],[0.3333333333333333,\"#9c179e\"],[0.4444444444444444,\"#bd3786\"],[0.5555555555555556,\"#d8576b\"],[0.6666666666666666,\"#ed7953\"],[0.7777777777777778,\"#fb9f3a\"],[0.8888888888888888,\"#fdca26\"],[1.0,\"#f0f921\"]],\"type\":\"surface\"}],\"table\":[{\"cells\":{\"fill\":{\"color\":\"#EBF0F8\"},\"line\":{\"color\":\"white\"}},\"header\":{\"fill\":{\"color\":\"#C8D4E3\"},\"line\":{\"color\":\"white\"}},\"type\":\"table\"}]},\"layout\":{\"annotationdefaults\":{\"arrowcolor\":\"#2a3f5f\",\"arrowhead\":0,\"arrowwidth\":1},\"autotypenumbers\":\"strict\",\"coloraxis\":{\"colorbar\":{\"outlinewidth\":0,\"ticks\":\"\"}},\"colorscale\":{\"diverging\":[[0,\"#8e0152\"],[0.1,\"#c51b7d\"],[0.2,\"#de77ae\"],[0.3,\"#f1b6da\"],[0.4,\"#fde0ef\"],[0.5,\"#f7f7f7\"],[0.6,\"#e6f5d0\"],[0.7,\"#b8e186\"],[0.8,\"#7fbc41\"],[0.9,\"#4d9221\"],[1,\"#276419\"]],\"sequential\":[[0.0,\"#0d0887\"],[0.1111111111111111,\"#46039f\"],[0.2222222222222222,\"#7201a8\"],[0.3333333333333333,\"#9c179e\"],[0.4444444444444444,\"#bd3786\"],[0.5555555555555556,\"#d8576b\"],[0.6666666666666666,\"#ed7953\"],[0.7777777777777778,\"#fb9f3a\"],[0.8888888888888888,\"#fdca26\"],[1.0,\"#f0f921\"]],\"sequentialminus\":[[0.0,\"#0d0887\"],[0.1111111111111111,\"#46039f\"],[0.2222222222222222,\"#7201a8\"],[0.3333333333333333,\"#9c179e\"],[0.4444444444444444,\"#bd3786\"],[0.5555555555555556,\"#d8576b\"],[0.6666666666666666,\"#ed7953\"],[0.7777777777777778,\"#fb9f3a\"],[0.8888888888888888,\"#fdca26\"],[1.0,\"#f0f921\"]]},\"colorway\":[\"#636efa\",\"#EF553B\",\"#00cc96\",\"#ab63fa\",\"#FFA15A\",\"#19d3f3\",\"#FF6692\",\"#B6E880\",\"#FF97FF\",\"#FECB52\"],\"font\":{\"color\":\"#2a3f5f\"},\"geo\":{\"bgcolor\":\"white\",\"lakecolor\":\"white\",\"landcolor\":\"#E5ECF6\",\"showlakes\":true,\"showland\":true,\"subunitcolor\":\"white\"},\"hoverlabel\":{\"align\":\"left\"},\"hovermode\":\"closest\",\"mapbox\":{\"style\":\"light\"},\"paper_bgcolor\":\"white\",\"plot_bgcolor\":\"#E5ECF6\",\"polar\":{\"angularaxis\":{\"gridcolor\":\"white\",\"linecolor\":\"white\",\"ticks\":\"\"},\"bgcolor\":\"#E5ECF6\",\"radialaxis\":{\"gridcolor\":\"white\",\"linecolor\":\"white\",\"ticks\":\"\"}},\"scene\":{\"xaxis\":{\"backgroundcolor\":\"#E5ECF6\",\"gridcolor\":\"white\",\"gridwidth\":2,\"linecolor\":\"white\",\"showbackground\":true,\"ticks\":\"\",\"zerolinecolor\":\"white\"},\"yaxis\":{\"backgroundcolor\":\"#E5ECF6\",\"gridcolor\":\"white\",\"gridwidth\":2,\"linecolor\":\"white\",\"showbackground\":true,\"ticks\":\"\",\"zerolinecolor\":\"white\"},\"zaxis\":{\"backgroundcolor\":\"#E5ECF6\",\"gridcolor\":\"white\",\"gridwidth\":2,\"linecolor\":\"white\",\"showbackground\":true,\"ticks\":\"\",\"zerolinecolor\":\"white\"}},\"shapedefaults\":{\"line\":{\"color\":\"#2a3f5f\"}},\"ternary\":{\"aaxis\":{\"gridcolor\":\"white\",\"linecolor\":\"white\",\"ticks\":\"\"},\"baxis\":{\"gridcolor\":\"white\",\"linecolor\":\"white\",\"ticks\":\"\"},\"bgcolor\":\"#E5ECF6\",\"caxis\":{\"gridcolor\":\"white\",\"linecolor\":\"white\",\"ticks\":\"\"}},\"title\":{\"x\":0.05},\"xaxis\":{\"automargin\":true,\"gridcolor\":\"white\",\"linecolor\":\"white\",\"ticks\":\"\",\"title\":{\"standoff\":15},\"zerolinecolor\":\"white\",\"zerolinewidth\":2},\"yaxis\":{\"automargin\":true,\"gridcolor\":\"white\",\"linecolor\":\"white\",\"ticks\":\"\",\"title\":{\"standoff\":15},\"zerolinecolor\":\"white\",\"zerolinewidth\":2}}},\"geo\":{\"domain\":{\"x\":[0.0,1.0],\"y\":[0.0,1.0]},\"center\":{},\"scope\":\"europe\"},\"coloraxis\":{\"colorbar\":{\"title\":{\"text\":\"captured fishes (metric tons)\"}},\"colorscale\":[[0.0,\"#0d0887\"],[0.1111111111111111,\"#46039f\"],[0.2222222222222222,\"#7201a8\"],[0.3333333333333333,\"#9c179e\"],[0.4444444444444444,\"#bd3786\"],[0.5555555555555556,\"#d8576b\"],[0.6666666666666666,\"#ed7953\"],[0.7777777777777778,\"#fb9f3a\"],[0.8888888888888888,\"#fdca26\"],[1.0,\"#f0f921\"]]},\"legend\":{\"tracegroupgap\":0},\"title\":{\"text\":\"Fish Catches In E.U Countries\"},\"height\":700,\"updatemenus\":[{\"buttons\":[{\"args\":[null,{\"frame\":{\"duration\":500,\"redraw\":true},\"mode\":\"immediate\",\"fromcurrent\":true,\"transition\":{\"duration\":500,\"easing\":\"linear\"}}],\"label\":\"&#9654;\",\"method\":\"animate\"},{\"args\":[[null],{\"frame\":{\"duration\":0,\"redraw\":true},\"mode\":\"immediate\",\"fromcurrent\":true,\"transition\":{\"duration\":0,\"easing\":\"linear\"}}],\"label\":\"&#9724;\",\"method\":\"animate\"}],\"direction\":\"left\",\"pad\":{\"r\":10,\"t\":70},\"showactive\":false,\"type\":\"buttons\",\"x\":0.1,\"xanchor\":\"right\",\"y\":0,\"yanchor\":\"top\"}],\"sliders\":[{\"active\":0,\"currentvalue\":{\"prefix\":\"Date=\"},\"len\":0.9,\"pad\":{\"b\":10,\"t\":60},\"steps\":[{\"args\":[[\"1960\"],{\"frame\":{\"duration\":0,\"redraw\":true},\"mode\":\"immediate\",\"fromcurrent\":true,\"transition\":{\"duration\":0,\"easing\":\"linear\"}}],\"label\":\"1960\",\"method\":\"animate\"},{\"args\":[[\"1961\"],{\"frame\":{\"duration\":0,\"redraw\":true},\"mode\":\"immediate\",\"fromcurrent\":true,\"transition\":{\"duration\":0,\"easing\":\"linear\"}}],\"label\":\"1961\",\"method\":\"animate\"},{\"args\":[[\"1962\"],{\"frame\":{\"duration\":0,\"redraw\":true},\"mode\":\"immediate\",\"fromcurrent\":true,\"transition\":{\"duration\":0,\"easing\":\"linear\"}}],\"label\":\"1962\",\"method\":\"animate\"},{\"args\":[[\"1963\"],{\"frame\":{\"duration\":0,\"redraw\":true},\"mode\":\"immediate\",\"fromcurrent\":true,\"transition\":{\"duration\":0,\"easing\":\"linear\"}}],\"label\":\"1963\",\"method\":\"animate\"},{\"args\":[[\"1964\"],{\"frame\":{\"duration\":0,\"redraw\":true},\"mode\":\"immediate\",\"fromcurrent\":true,\"transition\":{\"duration\":0,\"easing\":\"linear\"}}],\"label\":\"1964\",\"method\":\"animate\"},{\"args\":[[\"1965\"],{\"frame\":{\"duration\":0,\"redraw\":true},\"mode\":\"immediate\",\"fromcurrent\":true,\"transition\":{\"duration\":0,\"easing\":\"linear\"}}],\"label\":\"1965\",\"method\":\"animate\"},{\"args\":[[\"1966\"],{\"frame\":{\"duration\":0,\"redraw\":true},\"mode\":\"immediate\",\"fromcurrent\":true,\"transition\":{\"duration\":0,\"easing\":\"linear\"}}],\"label\":\"1966\",\"method\":\"animate\"},{\"args\":[[\"1967\"],{\"frame\":{\"duration\":0,\"redraw\":true},\"mode\":\"immediate\",\"fromcurrent\":true,\"transition\":{\"duration\":0,\"easing\":\"linear\"}}],\"label\":\"1967\",\"method\":\"animate\"},{\"args\":[[\"1968\"],{\"frame\":{\"duration\":0,\"redraw\":true},\"mode\":\"immediate\",\"fromcurrent\":true,\"transition\":{\"duration\":0,\"easing\":\"linear\"}}],\"label\":\"1968\",\"method\":\"animate\"},{\"args\":[[\"1969\"],{\"frame\":{\"duration\":0,\"redraw\":true},\"mode\":\"immediate\",\"fromcurrent\":true,\"transition\":{\"duration\":0,\"easing\":\"linear\"}}],\"label\":\"1969\",\"method\":\"animate\"},{\"args\":[[\"1970\"],{\"frame\":{\"duration\":0,\"redraw\":true},\"mode\":\"immediate\",\"fromcurrent\":true,\"transition\":{\"duration\":0,\"easing\":\"linear\"}}],\"label\":\"1970\",\"method\":\"animate\"},{\"args\":[[\"1971\"],{\"frame\":{\"duration\":0,\"redraw\":true},\"mode\":\"immediate\",\"fromcurrent\":true,\"transition\":{\"duration\":0,\"easing\":\"linear\"}}],\"label\":\"1971\",\"method\":\"animate\"},{\"args\":[[\"1972\"],{\"frame\":{\"duration\":0,\"redraw\":true},\"mode\":\"immediate\",\"fromcurrent\":true,\"transition\":{\"duration\":0,\"easing\":\"linear\"}}],\"label\":\"1972\",\"method\":\"animate\"},{\"args\":[[\"1973\"],{\"frame\":{\"duration\":0,\"redraw\":true},\"mode\":\"immediate\",\"fromcurrent\":true,\"transition\":{\"duration\":0,\"easing\":\"linear\"}}],\"label\":\"1973\",\"method\":\"animate\"},{\"args\":[[\"1974\"],{\"frame\":{\"duration\":0,\"redraw\":true},\"mode\":\"immediate\",\"fromcurrent\":true,\"transition\":{\"duration\":0,\"easing\":\"linear\"}}],\"label\":\"1974\",\"method\":\"animate\"},{\"args\":[[\"1975\"],{\"frame\":{\"duration\":0,\"redraw\":true},\"mode\":\"immediate\",\"fromcurrent\":true,\"transition\":{\"duration\":0,\"easing\":\"linear\"}}],\"label\":\"1975\",\"method\":\"animate\"},{\"args\":[[\"1976\"],{\"frame\":{\"duration\":0,\"redraw\":true},\"mode\":\"immediate\",\"fromcurrent\":true,\"transition\":{\"duration\":0,\"easing\":\"linear\"}}],\"label\":\"1976\",\"method\":\"animate\"},{\"args\":[[\"1977\"],{\"frame\":{\"duration\":0,\"redraw\":true},\"mode\":\"immediate\",\"fromcurrent\":true,\"transition\":{\"duration\":0,\"easing\":\"linear\"}}],\"label\":\"1977\",\"method\":\"animate\"},{\"args\":[[\"1978\"],{\"frame\":{\"duration\":0,\"redraw\":true},\"mode\":\"immediate\",\"fromcurrent\":true,\"transition\":{\"duration\":0,\"easing\":\"linear\"}}],\"label\":\"1978\",\"method\":\"animate\"},{\"args\":[[\"1979\"],{\"frame\":{\"duration\":0,\"redraw\":true},\"mode\":\"immediate\",\"fromcurrent\":true,\"transition\":{\"duration\":0,\"easing\":\"linear\"}}],\"label\":\"1979\",\"method\":\"animate\"},{\"args\":[[\"1980\"],{\"frame\":{\"duration\":0,\"redraw\":true},\"mode\":\"immediate\",\"fromcurrent\":true,\"transition\":{\"duration\":0,\"easing\":\"linear\"}}],\"label\":\"1980\",\"method\":\"animate\"},{\"args\":[[\"1981\"],{\"frame\":{\"duration\":0,\"redraw\":true},\"mode\":\"immediate\",\"fromcurrent\":true,\"transition\":{\"duration\":0,\"easing\":\"linear\"}}],\"label\":\"1981\",\"method\":\"animate\"},{\"args\":[[\"1982\"],{\"frame\":{\"duration\":0,\"redraw\":true},\"mode\":\"immediate\",\"fromcurrent\":true,\"transition\":{\"duration\":0,\"easing\":\"linear\"}}],\"label\":\"1982\",\"method\":\"animate\"},{\"args\":[[\"1983\"],{\"frame\":{\"duration\":0,\"redraw\":true},\"mode\":\"immediate\",\"fromcurrent\":true,\"transition\":{\"duration\":0,\"easing\":\"linear\"}}],\"label\":\"1983\",\"method\":\"animate\"},{\"args\":[[\"1984\"],{\"frame\":{\"duration\":0,\"redraw\":true},\"mode\":\"immediate\",\"fromcurrent\":true,\"transition\":{\"duration\":0,\"easing\":\"linear\"}}],\"label\":\"1984\",\"method\":\"animate\"},{\"args\":[[\"1985\"],{\"frame\":{\"duration\":0,\"redraw\":true},\"mode\":\"immediate\",\"fromcurrent\":true,\"transition\":{\"duration\":0,\"easing\":\"linear\"}}],\"label\":\"1985\",\"method\":\"animate\"},{\"args\":[[\"1986\"],{\"frame\":{\"duration\":0,\"redraw\":true},\"mode\":\"immediate\",\"fromcurrent\":true,\"transition\":{\"duration\":0,\"easing\":\"linear\"}}],\"label\":\"1986\",\"method\":\"animate\"},{\"args\":[[\"1987\"],{\"frame\":{\"duration\":0,\"redraw\":true},\"mode\":\"immediate\",\"fromcurrent\":true,\"transition\":{\"duration\":0,\"easing\":\"linear\"}}],\"label\":\"1987\",\"method\":\"animate\"},{\"args\":[[\"1988\"],{\"frame\":{\"duration\":0,\"redraw\":true},\"mode\":\"immediate\",\"fromcurrent\":true,\"transition\":{\"duration\":0,\"easing\":\"linear\"}}],\"label\":\"1988\",\"method\":\"animate\"},{\"args\":[[\"1989\"],{\"frame\":{\"duration\":0,\"redraw\":true},\"mode\":\"immediate\",\"fromcurrent\":true,\"transition\":{\"duration\":0,\"easing\":\"linear\"}}],\"label\":\"1989\",\"method\":\"animate\"},{\"args\":[[\"1990\"],{\"frame\":{\"duration\":0,\"redraw\":true},\"mode\":\"immediate\",\"fromcurrent\":true,\"transition\":{\"duration\":0,\"easing\":\"linear\"}}],\"label\":\"1990\",\"method\":\"animate\"},{\"args\":[[\"1991\"],{\"frame\":{\"duration\":0,\"redraw\":true},\"mode\":\"immediate\",\"fromcurrent\":true,\"transition\":{\"duration\":0,\"easing\":\"linear\"}}],\"label\":\"1991\",\"method\":\"animate\"},{\"args\":[[\"1992\"],{\"frame\":{\"duration\":0,\"redraw\":true},\"mode\":\"immediate\",\"fromcurrent\":true,\"transition\":{\"duration\":0,\"easing\":\"linear\"}}],\"label\":\"1992\",\"method\":\"animate\"},{\"args\":[[\"1993\"],{\"frame\":{\"duration\":0,\"redraw\":true},\"mode\":\"immediate\",\"fromcurrent\":true,\"transition\":{\"duration\":0,\"easing\":\"linear\"}}],\"label\":\"1993\",\"method\":\"animate\"},{\"args\":[[\"1994\"],{\"frame\":{\"duration\":0,\"redraw\":true},\"mode\":\"immediate\",\"fromcurrent\":true,\"transition\":{\"duration\":0,\"easing\":\"linear\"}}],\"label\":\"1994\",\"method\":\"animate\"},{\"args\":[[\"1995\"],{\"frame\":{\"duration\":0,\"redraw\":true},\"mode\":\"immediate\",\"fromcurrent\":true,\"transition\":{\"duration\":0,\"easing\":\"linear\"}}],\"label\":\"1995\",\"method\":\"animate\"},{\"args\":[[\"1996\"],{\"frame\":{\"duration\":0,\"redraw\":true},\"mode\":\"immediate\",\"fromcurrent\":true,\"transition\":{\"duration\":0,\"easing\":\"linear\"}}],\"label\":\"1996\",\"method\":\"animate\"},{\"args\":[[\"1997\"],{\"frame\":{\"duration\":0,\"redraw\":true},\"mode\":\"immediate\",\"fromcurrent\":true,\"transition\":{\"duration\":0,\"easing\":\"linear\"}}],\"label\":\"1997\",\"method\":\"animate\"},{\"args\":[[\"1998\"],{\"frame\":{\"duration\":0,\"redraw\":true},\"mode\":\"immediate\",\"fromcurrent\":true,\"transition\":{\"duration\":0,\"easing\":\"linear\"}}],\"label\":\"1998\",\"method\":\"animate\"},{\"args\":[[\"1999\"],{\"frame\":{\"duration\":0,\"redraw\":true},\"mode\":\"immediate\",\"fromcurrent\":true,\"transition\":{\"duration\":0,\"easing\":\"linear\"}}],\"label\":\"1999\",\"method\":\"animate\"},{\"args\":[[\"2000\"],{\"frame\":{\"duration\":0,\"redraw\":true},\"mode\":\"immediate\",\"fromcurrent\":true,\"transition\":{\"duration\":0,\"easing\":\"linear\"}}],\"label\":\"2000\",\"method\":\"animate\"},{\"args\":[[\"2001\"],{\"frame\":{\"duration\":0,\"redraw\":true},\"mode\":\"immediate\",\"fromcurrent\":true,\"transition\":{\"duration\":0,\"easing\":\"linear\"}}],\"label\":\"2001\",\"method\":\"animate\"},{\"args\":[[\"2002\"],{\"frame\":{\"duration\":0,\"redraw\":true},\"mode\":\"immediate\",\"fromcurrent\":true,\"transition\":{\"duration\":0,\"easing\":\"linear\"}}],\"label\":\"2002\",\"method\":\"animate\"},{\"args\":[[\"2003\"],{\"frame\":{\"duration\":0,\"redraw\":true},\"mode\":\"immediate\",\"fromcurrent\":true,\"transition\":{\"duration\":0,\"easing\":\"linear\"}}],\"label\":\"2003\",\"method\":\"animate\"},{\"args\":[[\"2004\"],{\"frame\":{\"duration\":0,\"redraw\":true},\"mode\":\"immediate\",\"fromcurrent\":true,\"transition\":{\"duration\":0,\"easing\":\"linear\"}}],\"label\":\"2004\",\"method\":\"animate\"},{\"args\":[[\"2005\"],{\"frame\":{\"duration\":0,\"redraw\":true},\"mode\":\"immediate\",\"fromcurrent\":true,\"transition\":{\"duration\":0,\"easing\":\"linear\"}}],\"label\":\"2005\",\"method\":\"animate\"},{\"args\":[[\"2006\"],{\"frame\":{\"duration\":0,\"redraw\":true},\"mode\":\"immediate\",\"fromcurrent\":true,\"transition\":{\"duration\":0,\"easing\":\"linear\"}}],\"label\":\"2006\",\"method\":\"animate\"},{\"args\":[[\"2007\"],{\"frame\":{\"duration\":0,\"redraw\":true},\"mode\":\"immediate\",\"fromcurrent\":true,\"transition\":{\"duration\":0,\"easing\":\"linear\"}}],\"label\":\"2007\",\"method\":\"animate\"},{\"args\":[[\"2008\"],{\"frame\":{\"duration\":0,\"redraw\":true},\"mode\":\"immediate\",\"fromcurrent\":true,\"transition\":{\"duration\":0,\"easing\":\"linear\"}}],\"label\":\"2008\",\"method\":\"animate\"},{\"args\":[[\"2009\"],{\"frame\":{\"duration\":0,\"redraw\":true},\"mode\":\"immediate\",\"fromcurrent\":true,\"transition\":{\"duration\":0,\"easing\":\"linear\"}}],\"label\":\"2009\",\"method\":\"animate\"},{\"args\":[[\"2010\"],{\"frame\":{\"duration\":0,\"redraw\":true},\"mode\":\"immediate\",\"fromcurrent\":true,\"transition\":{\"duration\":0,\"easing\":\"linear\"}}],\"label\":\"2010\",\"method\":\"animate\"},{\"args\":[[\"2011\"],{\"frame\":{\"duration\":0,\"redraw\":true},\"mode\":\"immediate\",\"fromcurrent\":true,\"transition\":{\"duration\":0,\"easing\":\"linear\"}}],\"label\":\"2011\",\"method\":\"animate\"},{\"args\":[[\"2012\"],{\"frame\":{\"duration\":0,\"redraw\":true},\"mode\":\"immediate\",\"fromcurrent\":true,\"transition\":{\"duration\":0,\"easing\":\"linear\"}}],\"label\":\"2012\",\"method\":\"animate\"},{\"args\":[[\"2013\"],{\"frame\":{\"duration\":0,\"redraw\":true},\"mode\":\"immediate\",\"fromcurrent\":true,\"transition\":{\"duration\":0,\"easing\":\"linear\"}}],\"label\":\"2013\",\"method\":\"animate\"},{\"args\":[[\"2014\"],{\"frame\":{\"duration\":0,\"redraw\":true},\"mode\":\"immediate\",\"fromcurrent\":true,\"transition\":{\"duration\":0,\"easing\":\"linear\"}}],\"label\":\"2014\",\"method\":\"animate\"},{\"args\":[[\"2015\"],{\"frame\":{\"duration\":0,\"redraw\":true},\"mode\":\"immediate\",\"fromcurrent\":true,\"transition\":{\"duration\":0,\"easing\":\"linear\"}}],\"label\":\"2015\",\"method\":\"animate\"},{\"args\":[[\"2016\"],{\"frame\":{\"duration\":0,\"redraw\":true},\"mode\":\"immediate\",\"fromcurrent\":true,\"transition\":{\"duration\":0,\"easing\":\"linear\"}}],\"label\":\"2016\",\"method\":\"animate\"},{\"args\":[[\"2017\"],{\"frame\":{\"duration\":0,\"redraw\":true},\"mode\":\"immediate\",\"fromcurrent\":true,\"transition\":{\"duration\":0,\"easing\":\"linear\"}}],\"label\":\"2017\",\"method\":\"animate\"},{\"args\":[[\"2018\"],{\"frame\":{\"duration\":0,\"redraw\":true},\"mode\":\"immediate\",\"fromcurrent\":true,\"transition\":{\"duration\":0,\"easing\":\"linear\"}}],\"label\":\"2018\",\"method\":\"animate\"},{\"args\":[[\"2019\"],{\"frame\":{\"duration\":0,\"redraw\":true},\"mode\":\"immediate\",\"fromcurrent\":true,\"transition\":{\"duration\":0,\"easing\":\"linear\"}}],\"label\":\"2019\",\"method\":\"animate\"},{\"args\":[[\"2020\"],{\"frame\":{\"duration\":0,\"redraw\":true},\"mode\":\"immediate\",\"fromcurrent\":true,\"transition\":{\"duration\":0,\"easing\":\"linear\"}}],\"label\":\"2020\",\"method\":\"animate\"}],\"x\":0.1,\"xanchor\":\"left\",\"y\":0,\"yanchor\":\"top\"}]},                        {\"responsive\": true}                    ).then(function(){\n",
       "                            Plotly.addFrames('cb15cd05-4577-4c78-8bf4-6b31c131bd79', [{\"data\":[{\"coloraxis\":\"coloraxis\",\"geo\":\"geo\",\"hovertemplate\":\"<b>%{hovertext}</b><br><br>Date=1960<br>Country Code=%{location}<br>captured fishes (metric tons)=%{z}<extra></extra>\",\"hovertext\":[\"Austria\",\"Belgium\",\"Bulgaria\",\"Cyprus\",\"Czech Republic\",\"Denmark\",\"Finland\",\"France\",\"Germany\",\"Greece\",\"Hungary\",\"Ireland\",\"Italy\",\"Malta\",\"Netherlands\",\"Poland\",\"Portugal\",\"Romania\",\"Spain\",\"Sweden\"],\"locations\":[\"AUT\",\"BEL\",\"BGR\",\"CYP\",\"CZE\",\"DNK\",\"FIN\",\"FRA\",\"DEU\",\"GRC\",\"HUN\",\"IRL\",\"ITA\",\"MLT\",\"NLD\",\"POL\",\"PRT\",\"ROU\",\"ESP\",\"SWE\"],\"name\":\"\",\"z\":[3550.0,63700.0,7800.0,500.0,334.0,568602.0,65500.0,651576.0,768100.0,87100.0,4900.0,40700.0,213960.0,1219.0,227881.0,175911.0,490387.0,24300.0,907298.0,249542.0],\"type\":\"choropleth\"}],\"name\":\"1960\"},{\"data\":[{\"coloraxis\":\"coloraxis\",\"geo\":\"geo\",\"hovertemplate\":\"<b>%{hovertext}</b><br><br>Date=1961<br>Country Code=%{location}<br>captured fishes (metric tons)=%{z}<extra></extra>\",\"hovertext\":[\"Austria\",\"Belgium\",\"Bulgaria\",\"Cyprus\",\"Czech Republic\",\"Denmark\",\"Finland\",\"France\",\"Germany\",\"Greece\",\"Hungary\",\"Ireland\",\"Italy\",\"Malta\",\"Netherlands\",\"Poland\",\"Portugal\",\"Romania\",\"Spain\",\"Sweden\"],\"locations\":[\"AUT\",\"BEL\",\"BGR\",\"CYP\",\"CZE\",\"DNK\",\"FIN\",\"FRA\",\"DEU\",\"GRC\",\"HUN\",\"IRL\",\"ITA\",\"MLT\",\"NLD\",\"POL\",\"PRT\",\"ROU\",\"ESP\",\"SWE\"],\"name\":\"\",\"z\":[3540.0,61600.0,7200.0,400.0,497.0,629954.0,67000.0,674920.0,732000.0,85100.0,6800.0,31200.0,240430.0,1325.0,262912.0,176822.0,517910.0,24400.0,971112.0,268413.0],\"type\":\"choropleth\"}],\"name\":\"1961\"},{\"data\":[{\"coloraxis\":\"coloraxis\",\"geo\":\"geo\",\"hovertemplate\":\"<b>%{hovertext}</b><br><br>Date=1962<br>Country Code=%{location}<br>captured fishes (metric tons)=%{z}<extra></extra>\",\"hovertext\":[\"Austria\",\"Belgium\",\"Bulgaria\",\"Cyprus\",\"Czech Republic\",\"Denmark\",\"Finland\",\"France\",\"Germany\",\"Greece\",\"Hungary\",\"Ireland\",\"Italy\",\"Malta\",\"Netherlands\",\"Poland\",\"Portugal\",\"Romania\",\"Spain\",\"Sweden\"],\"locations\":[\"AUT\",\"BEL\",\"BGR\",\"CYP\",\"CZE\",\"DNK\",\"FIN\",\"FRA\",\"DEU\",\"GRC\",\"HUN\",\"IRL\",\"ITA\",\"MLT\",\"NLD\",\"POL\",\"PRT\",\"ROU\",\"ESP\",\"SWE\"],\"name\":\"\",\"z\":[3830.0,59900.0,8600.0,600.0,486.0,777402.0,64900.0,654311.0,769900.0,80100.0,7250.0,28500.0,217082.0,1322.0,226328.0,173016.0,533968.0,19700.0,993604.0,293900.0],\"type\":\"choropleth\"}],\"name\":\"1962\"},{\"data\":[{\"coloraxis\":\"coloraxis\",\"geo\":\"geo\",\"hovertemplate\":\"<b>%{hovertext}</b><br><br>Date=1963<br>Country Code=%{location}<br>captured fishes (metric tons)=%{z}<extra></extra>\",\"hovertext\":[\"Austria\",\"Belgium\",\"Bulgaria\",\"Cyprus\",\"Czech Republic\",\"Denmark\",\"Finland\",\"France\",\"Germany\",\"Greece\",\"Hungary\",\"Ireland\",\"Italy\",\"Malta\",\"Netherlands\",\"Poland\",\"Portugal\",\"Romania\",\"Spain\",\"Sweden\"],\"locations\":[\"AUT\",\"BEL\",\"BGR\",\"CYP\",\"CZE\",\"DNK\",\"FIN\",\"FRA\",\"DEU\",\"GRC\",\"HUN\",\"IRL\",\"ITA\",\"MLT\",\"NLD\",\"POL\",\"PRT\",\"ROU\",\"ESP\",\"SWE\"],\"name\":\"\",\"z\":[4000.0,62000.0,6700.0,600.0,414.0,840080.0,80500.0,689299.0,824900.0,80100.0,6850.0,26500.0,226952.0,1634.0,272601.0,217937.0,559026.0,22600.0,993581.1,341800.0],\"type\":\"choropleth\"}],\"name\":\"1963\"},{\"data\":[{\"coloraxis\":\"coloraxis\",\"geo\":\"geo\",\"hovertemplate\":\"<b>%{hovertext}</b><br><br>Date=1964<br>Country Code=%{location}<br>captured fishes (metric tons)=%{z}<extra></extra>\",\"hovertext\":[\"Austria\",\"Belgium\",\"Bulgaria\",\"Cyprus\",\"Czech Republic\",\"Denmark\",\"Finland\",\"France\",\"Germany\",\"Greece\",\"Hungary\",\"Ireland\",\"Italy\",\"Malta\",\"Netherlands\",\"Poland\",\"Portugal\",\"Romania\",\"Spain\",\"Sweden\"],\"locations\":[\"AUT\",\"BEL\",\"BGR\",\"CYP\",\"CZE\",\"DNK\",\"FIN\",\"FRA\",\"DEU\",\"GRC\",\"HUN\",\"IRL\",\"ITA\",\"MLT\",\"NLD\",\"POL\",\"PRT\",\"ROU\",\"ESP\",\"SWE\"],\"name\":\"\",\"z\":[4220.0,59500.0,9600.0,600.0,433.0,862798.0,62900.0,709330.0,836200.0,83600.0,6600.0,30900.0,317196.0,1420.0,273482.0,254341.0,602540.0,19990.0,1068328.1,377298.0],\"type\":\"choropleth\"}],\"name\":\"1964\"},{\"data\":[{\"coloraxis\":\"coloraxis\",\"geo\":\"geo\",\"hovertemplate\":\"<b>%{hovertext}</b><br><br>Date=1965<br>Country Code=%{location}<br>captured fishes (metric tons)=%{z}<extra></extra>\",\"hovertext\":[\"Austria\",\"Belgium\",\"Bulgaria\",\"Cyprus\",\"Czech Republic\",\"Denmark\",\"Finland\",\"France\",\"Germany\",\"Greece\",\"Hungary\",\"Ireland\",\"Italy\",\"Malta\",\"Netherlands\",\"Poland\",\"Portugal\",\"Romania\",\"Spain\",\"Sweden\"],\"locations\":[\"AUT\",\"BEL\",\"BGR\",\"CYP\",\"CZE\",\"DNK\",\"FIN\",\"FRA\",\"DEU\",\"GRC\",\"HUN\",\"IRL\",\"ITA\",\"MLT\",\"NLD\",\"POL\",\"PRT\",\"ROU\",\"ESP\",\"SWE\"],\"name\":\"\",\"z\":[4370.0,59700.0,16083.0,1006.0,675.0,830021.0,73200.0,745249.0,850200.0,89700.0,7520.0,34600.0,344541.0,1228.0,266700.0,287757.0,566672.0,23731.0,1188740.4,370056.0],\"type\":\"choropleth\"}],\"name\":\"1965\"},{\"data\":[{\"coloraxis\":\"coloraxis\",\"geo\":\"geo\",\"hovertemplate\":\"<b>%{hovertext}</b><br><br>Date=1966<br>Country Code=%{location}<br>captured fishes (metric tons)=%{z}<extra></extra>\",\"hovertext\":[\"Austria\",\"Belgium\",\"Bulgaria\",\"Cyprus\",\"Czech Republic\",\"Denmark\",\"Finland\",\"France\",\"Germany\",\"Greece\",\"Hungary\",\"Ireland\",\"Italy\",\"Malta\",\"Netherlands\",\"Poland\",\"Portugal\",\"Romania\",\"Spain\",\"Sweden\"],\"locations\":[\"AUT\",\"BEL\",\"BGR\",\"CYP\",\"CZE\",\"DNK\",\"FIN\",\"FRA\",\"DEU\",\"GRC\",\"HUN\",\"IRL\",\"ITA\",\"MLT\",\"NLD\",\"POL\",\"PRT\",\"ROU\",\"ESP\",\"SWE\"],\"name\":\"\",\"z\":[4150.0,62800.0,22975.0,1009.0,696.0,840667.0,70800.0,799698.0,861700.0,91000.0,8010.0,38800.0,358591.0,1312.0,260600.0,324613.0,523273.0,22633.0,1204516.8,319790.0],\"type\":\"choropleth\"}],\"name\":\"1966\"},{\"data\":[{\"coloraxis\":\"coloraxis\",\"geo\":\"geo\",\"hovertemplate\":\"<b>%{hovertext}</b><br><br>Date=1967<br>Country Code=%{location}<br>captured fishes (metric tons)=%{z}<extra></extra>\",\"hovertext\":[\"Austria\",\"Belgium\",\"Bulgaria\",\"Cyprus\",\"Czech Republic\",\"Denmark\",\"Finland\",\"France\",\"Germany\",\"Greece\",\"Hungary\",\"Ireland\",\"Italy\",\"Malta\",\"Netherlands\",\"Poland\",\"Portugal\",\"Romania\",\"Spain\",\"Sweden\"],\"locations\":[\"AUT\",\"BEL\",\"BGR\",\"CYP\",\"CZE\",\"DNK\",\"FIN\",\"FRA\",\"DEU\",\"GRC\",\"HUN\",\"IRL\",\"ITA\",\"MLT\",\"NLD\",\"POL\",\"PRT\",\"ROU\",\"ESP\",\"SWE\"],\"name\":\"\",\"z\":[3410.0,63800.0,38081.0,1014.0,691.0,1059777.0,73700.0,810052.0,930900.0,93200.0,8970.0,48900.0,358836.0,1414.0,228900.0,328215.0,583548.0,30666.0,1308681.0,341168.0],\"type\":\"choropleth\"}],\"name\":\"1967\"},{\"data\":[{\"coloraxis\":\"coloraxis\",\"geo\":\"geo\",\"hovertemplate\":\"<b>%{hovertext}</b><br><br>Date=1968<br>Country Code=%{location}<br>captured fishes (metric tons)=%{z}<extra></extra>\",\"hovertext\":[\"Austria\",\"Belgium\",\"Bulgaria\",\"Cyprus\",\"Czech Republic\",\"Denmark\",\"Finland\",\"France\",\"Germany\",\"Greece\",\"Hungary\",\"Ireland\",\"Italy\",\"Malta\",\"Netherlands\",\"Poland\",\"Portugal\",\"Romania\",\"Spain\",\"Sweden\"],\"locations\":[\"AUT\",\"BEL\",\"BGR\",\"CYP\",\"CZE\",\"DNK\",\"FIN\",\"FRA\",\"DEU\",\"GRC\",\"HUN\",\"IRL\",\"ITA\",\"MLT\",\"NLD\",\"POL\",\"PRT\",\"ROU\",\"ESP\",\"SWE\"],\"name\":\"\",\"z\":[3260.0,68200.0,55584.0,1412.0,571.0,1454630.0,92200.0,829986.0,964500.0,99900.0,10100.0,50500.0,346140.0,1228.0,209700.0,394282.0,527698.0,26492.0,1455161.0,318460.0],\"type\":\"choropleth\"}],\"name\":\"1968\"},{\"data\":[{\"coloraxis\":\"coloraxis\",\"geo\":\"geo\",\"hovertemplate\":\"<b>%{hovertext}</b><br><br>Date=1969<br>Country Code=%{location}<br>captured fishes (metric tons)=%{z}<extra></extra>\",\"hovertext\":[\"Austria\",\"Belgium\",\"Bulgaria\",\"Cyprus\",\"Czech Republic\",\"Denmark\",\"Finland\",\"France\",\"Germany\",\"Greece\",\"Hungary\",\"Ireland\",\"Italy\",\"Malta\",\"Netherlands\",\"Poland\",\"Portugal\",\"Romania\",\"Spain\",\"Sweden\"],\"locations\":[\"AUT\",\"BEL\",\"BGR\",\"CYP\",\"CZE\",\"DNK\",\"FIN\",\"FRA\",\"DEU\",\"GRC\",\"HUN\",\"IRL\",\"ITA\",\"MLT\",\"NLD\",\"POL\",\"PRT\",\"ROU\",\"ESP\",\"SWE\"],\"name\":\"\",\"z\":[2700.0,58700.0,78673.0,1409.0,636.0,1264254.0,86500.0,750969.0,950900.0,94200.0,7500.0,63500.0,349879.0,1135.0,217300.0,394942.0,480566.0,30597.0,1386415.0,269358.0],\"type\":\"choropleth\"}],\"name\":\"1969\"},{\"data\":[{\"coloraxis\":\"coloraxis\",\"geo\":\"geo\",\"hovertemplate\":\"<b>%{hovertext}</b><br><br>Date=1970<br>Country Code=%{location}<br>captured fishes (metric tons)=%{z}<extra></extra>\",\"hovertext\":[\"Austria\",\"Belgium\",\"Bulgaria\",\"Cyprus\",\"Czech Republic\",\"Denmark\",\"Finland\",\"France\",\"Germany\",\"Greece\",\"Hungary\",\"Ireland\",\"Italy\",\"Malta\",\"Netherlands\",\"Poland\",\"Portugal\",\"Romania\",\"Spain\",\"Sweden\"],\"locations\":[\"AUT\",\"BEL\",\"BGR\",\"CYP\",\"CZE\",\"DNK\",\"FIN\",\"FRA\",\"DEU\",\"GRC\",\"HUN\",\"IRL\",\"ITA\",\"MLT\",\"NLD\",\"POL\",\"PRT\",\"ROU\",\"ESP\",\"SWE\"],\"name\":\"\",\"z\":[2330.0,53000.0,88601.0,1363.0,629.0,1217228.0,80700.0,752458.0,916021.0,85099.0,6500.0,75200.0,389117.0,1212.0,214800.0,459628.0,477830.0,43959.0,1426479.0,285669.0],\"type\":\"choropleth\"}],\"name\":\"1970\"},{\"data\":[{\"coloraxis\":\"coloraxis\",\"geo\":\"geo\",\"hovertemplate\":\"<b>%{hovertext}</b><br><br>Date=1971<br>Country Code=%{location}<br>captured fishes (metric tons)=%{z}<extra></extra>\",\"hovertext\":[\"Austria\",\"Belgium\",\"Bulgaria\",\"Cyprus\",\"Czech Republic\",\"Denmark\",\"Finland\",\"France\",\"Germany\",\"Greece\",\"Hungary\",\"Ireland\",\"Italy\",\"Malta\",\"Netherlands\",\"Poland\",\"Portugal\",\"Romania\",\"Spain\",\"Sweden\"],\"locations\":[\"AUT\",\"BEL\",\"BGR\",\"CYP\",\"CZE\",\"DNK\",\"FIN\",\"FRA\",\"DEU\",\"GRC\",\"HUN\",\"IRL\",\"ITA\",\"MLT\",\"NLD\",\"POL\",\"PRT\",\"ROU\",\"ESP\",\"SWE\"],\"name\":\"\",\"z\":[1940.0,60200.0,95404.0,1255.0,959.0,1388991.0,90200.0,761294.0,825676.0,94164.0,6800.0,69200.0,390997.0,1247.0,225500.0,507249.0,454014.0,50252.0,1374699.0,229386.0],\"type\":\"choropleth\"}],\"name\":\"1971\"},{\"data\":[{\"coloraxis\":\"coloraxis\",\"geo\":\"geo\",\"hovertemplate\":\"<b>%{hovertext}</b><br><br>Date=1972<br>Country Code=%{location}<br>captured fishes (metric tons)=%{z}<extra></extra>\",\"hovertext\":[\"Austria\",\"Belgium\",\"Bulgaria\",\"Cyprus\",\"Czech Republic\",\"Denmark\",\"Finland\",\"France\",\"Germany\",\"Greece\",\"Hungary\",\"Ireland\",\"Italy\",\"Malta\",\"Netherlands\",\"Poland\",\"Portugal\",\"Romania\",\"Spain\",\"Sweden\"],\"locations\":[\"AUT\",\"BEL\",\"BGR\",\"CYP\",\"CZE\",\"DNK\",\"FIN\",\"FRA\",\"DEU\",\"GRC\",\"HUN\",\"IRL\",\"ITA\",\"MLT\",\"NLD\",\"POL\",\"PRT\",\"ROU\",\"ESP\",\"SWE\"],\"name\":\"\",\"z\":[1520.0,59000.0,106417.0,1340.0,1210.0,1429007.0,87600.0,725937.0,736404.0,92049.0,6300.0,86600.0,407839.0,1247.0,232100.0,531014.0,458690.0,55579.0,1405810.0,218105.0],\"type\":\"choropleth\"}],\"name\":\"1972\"},{\"data\":[{\"coloraxis\":\"coloraxis\",\"geo\":\"geo\",\"hovertemplate\":\"<b>%{hovertext}</b><br><br>Date=1973<br>Country Code=%{location}<br>captured fishes (metric tons)=%{z}<extra></extra>\",\"hovertext\":[\"Austria\",\"Belgium\",\"Bulgaria\",\"Cyprus\",\"Czech Republic\",\"Denmark\",\"Finland\",\"France\",\"Germany\",\"Greece\",\"Hungary\",\"Ireland\",\"Italy\",\"Malta\",\"Netherlands\",\"Poland\",\"Portugal\",\"Romania\",\"Spain\",\"Sweden\"],\"locations\":[\"AUT\",\"BEL\",\"BGR\",\"CYP\",\"CZE\",\"DNK\",\"FIN\",\"FRA\",\"DEU\",\"GRC\",\"HUN\",\"IRL\",\"ITA\",\"MLT\",\"NLD\",\"POL\",\"PRT\",\"ROU\",\"ESP\",\"SWE\"],\"name\":\"\",\"z\":[900.0,53300.0,97110.0,1459.0,962.0,1430486.0,98800.0,764694.0,821784.0,103346.0,7474.0,87391.0,395315.0,1644.0,230736.0,565133.0,492539.0,74218.0,1431405.0,220184.0],\"type\":\"choropleth\"}],\"name\":\"1973\"},{\"data\":[{\"coloraxis\":\"coloraxis\",\"geo\":\"geo\",\"hovertemplate\":\"<b>%{hovertext}</b><br><br>Date=1974<br>Country Code=%{location}<br>captured fishes (metric tons)=%{z}<extra></extra>\",\"hovertext\":[\"Austria\",\"Belgium\",\"Bulgaria\",\"Cyprus\",\"Czech Republic\",\"Denmark\",\"Finland\",\"France\",\"Germany\",\"Greece\",\"Hungary\",\"Ireland\",\"Italy\",\"Malta\",\"Netherlands\",\"Poland\",\"Portugal\",\"Romania\",\"Spain\",\"Sweden\"],\"locations\":[\"AUT\",\"BEL\",\"BGR\",\"CYP\",\"CZE\",\"DNK\",\"FIN\",\"FRA\",\"DEU\",\"GRC\",\"HUN\",\"IRL\",\"ITA\",\"MLT\",\"NLD\",\"POL\",\"PRT\",\"ROU\",\"ESP\",\"SWE\"],\"name\":\"\",\"z\":[850.0,46820.0,112759.0,1180.0,945.0,1823180.0,110650.0,747194.0,861817.0,92278.0,8368.0,85782.0,426700.0,1546.0,227142.0,665636.0,442676.0,95909.0,1430038.0,205148.0],\"type\":\"choropleth\"}],\"name\":\"1974\"},{\"data\":[{\"coloraxis\":\"coloraxis\",\"geo\":\"geo\",\"hovertemplate\":\"<b>%{hovertext}</b><br><br>Date=1975<br>Country Code=%{location}<br>captured fishes (metric tons)=%{z}<extra></extra>\",\"hovertext\":[\"Austria\",\"Belgium\",\"Bulgaria\",\"Cyprus\",\"Czech Republic\",\"Denmark\",\"Finland\",\"France\",\"Germany\",\"Greece\",\"Hungary\",\"Ireland\",\"Italy\",\"Malta\",\"Netherlands\",\"Poland\",\"Portugal\",\"Romania\",\"Spain\",\"Sweden\"],\"locations\":[\"AUT\",\"BEL\",\"BGR\",\"CYP\",\"CZE\",\"DNK\",\"FIN\",\"FRA\",\"DEU\",\"GRC\",\"HUN\",\"IRL\",\"ITA\",\"MLT\",\"NLD\",\"POL\",\"PRT\",\"ROU\",\"ESP\",\"SWE\"],\"name\":\"\",\"z\":[840.0,49027.0,151933.0,919.0,1113.0,1751851.0,109997.0,714393.0,788675.0,94936.0,8838.0,84165.0,399103.0,1529.0,238422.0,786442.0,387972.0,104308.0,1436580.0,206862.0],\"type\":\"choropleth\"}],\"name\":\"1975\"},{\"data\":[{\"coloraxis\":\"coloraxis\",\"geo\":\"geo\",\"hovertemplate\":\"<b>%{hovertext}</b><br><br>Date=1976<br>Country Code=%{location}<br>captured fishes (metric tons)=%{z}<extra></extra>\",\"hovertext\":[\"Austria\",\"Belgium\",\"Bulgaria\",\"Cyprus\",\"Czech Republic\",\"Denmark\",\"Finland\",\"France\",\"Germany\",\"Greece\",\"Hungary\",\"Ireland\",\"Italy\",\"Malta\",\"Netherlands\",\"Poland\",\"Portugal\",\"Romania\",\"Spain\",\"Sweden\"],\"locations\":[\"AUT\",\"BEL\",\"BGR\",\"CYP\",\"CZE\",\"DNK\",\"FIN\",\"FRA\",\"DEU\",\"GRC\",\"HUN\",\"IRL\",\"ITA\",\"MLT\",\"NLD\",\"POL\",\"PRT\",\"ROU\",\"ESP\",\"SWE\"],\"name\":\"\",\"z\":[970.0,44496.0,160894.0,1052.0,1061.0,1905048.0,117559.0,713101.0,700436.0,105962.0,9932.0,90019.0,414847.0,1571.0,211669.0,736485.0,352558.0,89824.0,1418869.0,204810.0],\"type\":\"choropleth\"}],\"name\":\"1976\"},{\"data\":[{\"coloraxis\":\"coloraxis\",\"geo\":\"geo\",\"hovertemplate\":\"<b>%{hovertext}</b><br><br>Date=1977<br>Country Code=%{location}<br>captured fishes (metric tons)=%{z}<extra></extra>\",\"hovertext\":[\"Austria\",\"Belgium\",\"Bulgaria\",\"Cyprus\",\"Czech Republic\",\"Denmark\",\"Finland\",\"France\",\"Germany\",\"Greece\",\"Hungary\",\"Ireland\",\"Italy\",\"Malta\",\"Netherlands\",\"Poland\",\"Portugal\",\"Romania\",\"Spain\",\"Sweden\"],\"locations\":[\"AUT\",\"BEL\",\"BGR\",\"CYP\",\"CZE\",\"DNK\",\"FIN\",\"FRA\",\"DEU\",\"GRC\",\"HUN\",\"IRL\",\"ITA\",\"MLT\",\"NLD\",\"POL\",\"PRT\",\"ROU\",\"ESP\",\"SWE\"],\"name\":\"\",\"z\":[870.0,45360.0,129863.0,1189.0,1053.0,1792979.0,115331.0,656550.0,619318.0,106867.0,12772.0,89222.0,363244.0,1483.0,203716.0,646861.0,313846.0,115559.0,1337950.0,182316.0],\"type\":\"choropleth\"}],\"name\":\"1977\"},{\"data\":[{\"coloraxis\":\"coloraxis\",\"geo\":\"geo\",\"hovertemplate\":\"<b>%{hovertext}</b><br><br>Date=1978<br>Country Code=%{location}<br>captured fishes (metric tons)=%{z}<extra></extra>\",\"hovertext\":[\"Austria\",\"Belgium\",\"Bulgaria\",\"Cyprus\",\"Czech Republic\",\"Denmark\",\"Finland\",\"France\",\"Germany\",\"Greece\",\"Hungary\",\"Ireland\",\"Italy\",\"Malta\",\"Netherlands\",\"Poland\",\"Portugal\",\"Romania\",\"Spain\",\"Sweden\"],\"locations\":[\"AUT\",\"BEL\",\"BGR\",\"CYP\",\"CZE\",\"DNK\",\"FIN\",\"FRA\",\"DEU\",\"GRC\",\"HUN\",\"IRL\",\"ITA\",\"MLT\",\"NLD\",\"POL\",\"PRT\",\"ROU\",\"ESP\",\"SWE\"],\"name\":\"\",\"z\":[800.0,50577.0,91261.0,1245.0,948.0,1734709.0,135711.0,696895.3,589193.0,100871.0,10802.0,100237.0,387029.4,1079.0,205951.0,569398.0,259685.0,102346.0,1314012.4,184937.0],\"type\":\"choropleth\"}],\"name\":\"1978\"},{\"data\":[{\"coloraxis\":\"coloraxis\",\"geo\":\"geo\",\"hovertemplate\":\"<b>%{hovertext}</b><br><br>Date=1979<br>Country Code=%{location}<br>captured fishes (metric tons)=%{z}<extra></extra>\",\"hovertext\":[\"Austria\",\"Belgium\",\"Bulgaria\",\"Cyprus\",\"Czech Republic\",\"Denmark\",\"Finland\",\"France\",\"Germany\",\"Greece\",\"Hungary\",\"Ireland\",\"Italy\",\"Malta\",\"Netherlands\",\"Poland\",\"Portugal\",\"Romania\",\"Spain\",\"Sweden\"],\"locations\":[\"AUT\",\"BEL\",\"BGR\",\"CYP\",\"CZE\",\"DNK\",\"FIN\",\"FRA\",\"DEU\",\"GRC\",\"HUN\",\"IRL\",\"ITA\",\"MLT\",\"NLD\",\"POL\",\"PRT\",\"ROU\",\"ESP\",\"SWE\"],\"name\":\"\",\"z\":[700.0,47125.0,76065.0,1283.0,851.0,1724138.0,130697.0,649366.3,565071.0,103282.0,11219.0,89552.0,412114.4,1322.0,226279.0,589349.0,250939.0,144536.0,1153818.0,197481.0],\"type\":\"choropleth\"}],\"name\":\"1979\"},{\"data\":[{\"coloraxis\":\"coloraxis\",\"geo\":\"geo\",\"hovertemplate\":\"<b>%{hovertext}</b><br><br>Date=1980<br>Country Code=%{location}<br>captured fishes (metric tons)=%{z}<extra></extra>\",\"hovertext\":[\"Austria\",\"Belgium\",\"Bulgaria\",\"Cyprus\",\"Czech Republic\",\"Denmark\",\"Finland\",\"France\",\"Germany\",\"Greece\",\"Hungary\",\"Ireland\",\"Italy\",\"Malta\",\"Netherlands\",\"Poland\",\"Portugal\",\"Romania\",\"Spain\",\"Sweden\"],\"locations\":[\"AUT\",\"BEL\",\"BGR\",\"CYP\",\"CZE\",\"DNK\",\"FIN\",\"FRA\",\"DEU\",\"GRC\",\"HUN\",\"IRL\",\"ITA\",\"MLT\",\"NLD\",\"POL\",\"PRT\",\"ROU\",\"ESP\",\"SWE\"],\"name\":\"\",\"z\":[1100.0,45615.0,113687.0,1308.0,853.0,2013518.0,160579.0,652110.9,523777.0,105651.0,11163.0,144391.0,430265.5,1078.0,263460.0,630783.0,275852.0,138930.0,1170237.5,232694.0],\"type\":\"choropleth\"}],\"name\":\"1980\"},{\"data\":[{\"coloraxis\":\"coloraxis\",\"geo\":\"geo\",\"hovertemplate\":\"<b>%{hovertext}</b><br><br>Date=1981<br>Country Code=%{location}<br>captured fishes (metric tons)=%{z}<extra></extra>\",\"hovertext\":[\"Austria\",\"Belgium\",\"Bulgaria\",\"Cyprus\",\"Czech Republic\",\"Denmark\",\"Finland\",\"France\",\"Germany\",\"Greece\",\"Hungary\",\"Ireland\",\"Italy\",\"Malta\",\"Netherlands\",\"Poland\",\"Portugal\",\"Romania\",\"Spain\",\"Sweden\"],\"locations\":[\"AUT\",\"BEL\",\"BGR\",\"CYP\",\"CZE\",\"DNK\",\"FIN\",\"FRA\",\"DEU\",\"GRC\",\"HUN\",\"IRL\",\"ITA\",\"MLT\",\"NLD\",\"POL\",\"PRT\",\"ROU\",\"ESP\",\"SWE\"],\"name\":\"\",\"z\":[1200.0,49279.0,93953.0,1426.0,1168.0,1838243.0,149696.0,673271.88,549483.0,101460.18,12989.0,185429.0,430152.09,942.0,370224.0,608898.0,269038.0,152997.0,1181649.5,254718.0],\"type\":\"choropleth\"}],\"name\":\"1981\"},{\"data\":[{\"coloraxis\":\"coloraxis\",\"geo\":\"geo\",\"hovertemplate\":\"<b>%{hovertext}</b><br><br>Date=1982<br>Country Code=%{location}<br>captured fishes (metric tons)=%{z}<extra></extra>\",\"hovertext\":[\"Austria\",\"Belgium\",\"Bulgaria\",\"Cyprus\",\"Czech Republic\",\"Denmark\",\"Finland\",\"France\",\"Germany\",\"Greece\",\"Hungary\",\"Ireland\",\"Italy\",\"Malta\",\"Netherlands\",\"Poland\",\"Portugal\",\"Romania\",\"Spain\",\"Sweden\"],\"locations\":[\"AUT\",\"BEL\",\"BGR\",\"CYP\",\"CZE\",\"DNK\",\"FIN\",\"FRA\",\"DEU\",\"GRC\",\"HUN\",\"IRL\",\"ITA\",\"MLT\",\"NLD\",\"POL\",\"PRT\",\"ROU\",\"ESP\",\"SWE\"],\"name\":\"\",\"z\":[1400.0,47841.0,100982.0,1545.0,1043.0,1909718.0,157818.0,668109.64,499021.0,104637.8,15972.0,205954.0,449270.66,1216.0,414496.0,596400.0,259194.0,191992.0,1239745.0,251842.0],\"type\":\"choropleth\"}],\"name\":\"1982\"},{\"data\":[{\"coloraxis\":\"coloraxis\",\"geo\":\"geo\",\"hovertemplate\":\"<b>%{hovertext}</b><br><br>Date=1983<br>Country Code=%{location}<br>captured fishes (metric tons)=%{z}<extra></extra>\",\"hovertext\":[\"Austria\",\"Belgium\",\"Bulgaria\",\"Cyprus\",\"Czech Republic\",\"Denmark\",\"Finland\",\"France\",\"Germany\",\"Greece\",\"Hungary\",\"Ireland\",\"Italy\",\"Malta\",\"Netherlands\",\"Poland\",\"Portugal\",\"Romania\",\"Spain\",\"Sweden\"],\"locations\":[\"AUT\",\"BEL\",\"BGR\",\"CYP\",\"CZE\",\"DNK\",\"FIN\",\"FRA\",\"DEU\",\"GRC\",\"HUN\",\"IRL\",\"ITA\",\"MLT\",\"NLD\",\"POL\",\"PRT\",\"ROU\",\"ESP\",\"SWE\"],\"name\":\"\",\"z\":[1100.0,48580.0,108207.0,1938.77,961.0,1845546.0,167647.0,690911.47,473786.0,99847.4,16247.0,197088.0,454107.48,999.0,442196.0,722833.0,253356.0,210427.0,1179025.5,258490.0],\"type\":\"choropleth\"}],\"name\":\"1983\"},{\"data\":[{\"coloraxis\":\"coloraxis\",\"geo\":\"geo\",\"hovertemplate\":\"<b>%{hovertext}</b><br><br>Date=1984<br>Country Code=%{location}<br>captured fishes (metric tons)=%{z}<extra></extra>\",\"hovertext\":[\"Austria\",\"Belgium\",\"Bulgaria\",\"Cyprus\",\"Czech Republic\",\"Denmark\",\"Finland\",\"France\",\"Germany\",\"Greece\",\"Hungary\",\"Ireland\",\"Italy\",\"Malta\",\"Netherlands\",\"Poland\",\"Portugal\",\"Romania\",\"Spain\",\"Sweden\"],\"locations\":[\"AUT\",\"BEL\",\"BGR\",\"CYP\",\"CZE\",\"DNK\",\"FIN\",\"FRA\",\"DEU\",\"GRC\",\"HUN\",\"IRL\",\"ITA\",\"MLT\",\"NLD\",\"POL\",\"PRT\",\"ROU\",\"ESP\",\"SWE\"],\"name\":\"\",\"z\":[700.0,47871.0,100996.0,2206.0,3700.0,1827875.0,169408.0,677803.54,455971.0,105998.8,22704.0,224827.0,484030.73,1226.0,435742.0,700369.0,305309.0,187333.0,1194527.5,271353.0],\"type\":\"choropleth\"}],\"name\":\"1984\"},{\"data\":[{\"coloraxis\":\"coloraxis\",\"geo\":\"geo\",\"hovertemplate\":\"<b>%{hovertext}</b><br><br>Date=1985<br>Country Code=%{location}<br>captured fishes (metric tons)=%{z}<extra></extra>\",\"hovertext\":[\"Austria\",\"Belgium\",\"Bulgaria\",\"Cyprus\",\"Czech Republic\",\"Denmark\",\"Finland\",\"France\",\"Germany\",\"Greece\",\"Hungary\",\"Ireland\",\"Italy\",\"Malta\",\"Netherlands\",\"Poland\",\"Portugal\",\"Romania\",\"Spain\",\"Sweden\"],\"locations\":[\"AUT\",\"BEL\",\"BGR\",\"CYP\",\"CZE\",\"DNK\",\"FIN\",\"FRA\",\"DEU\",\"GRC\",\"HUN\",\"IRL\",\"ITA\",\"MLT\",\"NLD\",\"POL\",\"PRT\",\"ROU\",\"ESP\",\"SWE\"],\"name\":\"\",\"z\":[700.0,45115.0,89663.0,2382.0,4000.0,1772745.0,169122.0,695289.4,365323.0,112584.9,18612.0,248827.0,482302.23,2585.0,438364.0,658198.0,321517.0,195223.0,1222954.8,236666.0],\"type\":\"choropleth\"}],\"name\":\"1985\"},{\"data\":[{\"coloraxis\":\"coloraxis\",\"geo\":\"geo\",\"hovertemplate\":\"<b>%{hovertext}</b><br><br>Date=1986<br>Country Code=%{location}<br>captured fishes (metric tons)=%{z}<extra></extra>\",\"hovertext\":[\"Austria\",\"Belgium\",\"Bulgaria\",\"Cyprus\",\"Czech Republic\",\"Denmark\",\"Finland\",\"France\",\"Germany\",\"Greece\",\"Hungary\",\"Ireland\",\"Italy\",\"Malta\",\"Netherlands\",\"Poland\",\"Portugal\",\"Romania\",\"Spain\",\"Sweden\"],\"locations\":[\"AUT\",\"BEL\",\"BGR\",\"CYP\",\"CZE\",\"DNK\",\"FIN\",\"FRA\",\"DEU\",\"GRC\",\"HUN\",\"IRL\",\"ITA\",\"MLT\",\"NLD\",\"POL\",\"PRT\",\"ROU\",\"ESP\",\"SWE\"],\"name\":\"\",\"z\":[640.0,39466.0,97314.0,2541.39,4300.0,1825356.0,156544.0,716702.58,345153.0,122552.0,19065.0,248878.0,457244.43,1168.0,416381.0,626401.0,402853.0,223582.0,1233945.6,210982.0],\"type\":\"choropleth\"}],\"name\":\"1986\"},{\"data\":[{\"coloraxis\":\"coloraxis\",\"geo\":\"geo\",\"hovertemplate\":\"<b>%{hovertext}</b><br><br>Date=1987<br>Country Code=%{location}<br>captured fishes (metric tons)=%{z}<extra></extra>\",\"hovertext\":[\"Austria\",\"Belgium\",\"Bulgaria\",\"Cyprus\",\"Czech Republic\",\"Denmark\",\"Finland\",\"France\",\"Germany\",\"Greece\",\"Hungary\",\"Ireland\",\"Italy\",\"Malta\",\"Netherlands\",\"Poland\",\"Portugal\",\"Romania\",\"Spain\",\"Sweden\"],\"locations\":[\"AUT\",\"BEL\",\"BGR\",\"CYP\",\"CZE\",\"DNK\",\"FIN\",\"FRA\",\"DEU\",\"GRC\",\"HUN\",\"IRL\",\"ITA\",\"MLT\",\"NLD\",\"POL\",\"PRT\",\"ROU\",\"ESP\",\"SWE\"],\"name\":\"\",\"z\":[600.0,40231.0,99005.0,2543.0,4517.0,1681965.0,153675.0,694899.48,332906.0,132002.4,18811.0,263767.0,443729.68,1052.0,412213.0,651648.0,386701.0,224188.0,1269198.6,207141.0],\"type\":\"choropleth\"}],\"name\":\"1987\"},{\"data\":[{\"coloraxis\":\"coloraxis\",\"geo\":\"geo\",\"hovertemplate\":\"<b>%{hovertext}</b><br><br>Date=1988<br>Country Code=%{location}<br>captured fishes (metric tons)=%{z}<extra></extra>\",\"hovertext\":[\"Austria\",\"Belgium\",\"Bulgaria\",\"Cyprus\",\"Czech Republic\",\"Denmark\",\"Estonia\",\"Finland\",\"France\",\"Germany\",\"Greece\",\"Hungary\",\"Ireland\",\"Italy\",\"Latvia\",\"Lithuania\",\"Malta\",\"Netherlands\",\"Poland\",\"Portugal\",\"Romania\",\"Spain\",\"Sweden\"],\"locations\":[\"AUT\",\"BEL\",\"BGR\",\"CYP\",\"CZE\",\"DNK\",\"EST\",\"FIN\",\"FRA\",\"DEU\",\"GRC\",\"HUN\",\"IRL\",\"ITA\",\"LVA\",\"LTU\",\"MLT\",\"NLD\",\"POL\",\"PRT\",\"ROU\",\"ESP\",\"SWE\"],\"name\":\"\",\"z\":[600.0,41541.0,105877.0,2505.0,4390.0,1945755.0,397381.0,159624.0,741153.08,321107.0,119599.3,20324.0,273824.0,439227.38,541212.0,411535.0,896.0,397246.0,628026.0,343260.0,216938.0,1327483.0,242711.0],\"type\":\"choropleth\"}],\"name\":\"1988\"},{\"data\":[{\"coloraxis\":\"coloraxis\",\"geo\":\"geo\",\"hovertemplate\":\"<b>%{hovertext}</b><br><br>Date=1989<br>Country Code=%{location}<br>captured fishes (metric tons)=%{z}<extra></extra>\",\"hovertext\":[\"Austria\",\"Belgium\",\"Bulgaria\",\"Cyprus\",\"Czech Republic\",\"Denmark\",\"Estonia\",\"Finland\",\"France\",\"Germany\",\"Greece\",\"Hungary\",\"Ireland\",\"Italy\",\"Latvia\",\"Lithuania\",\"Malta\",\"Netherlands\",\"Poland\",\"Portugal\",\"Romania\",\"Spain\",\"Sweden\"],\"locations\":[\"AUT\",\"BEL\",\"BGR\",\"CYP\",\"CZE\",\"DNK\",\"EST\",\"FIN\",\"FRA\",\"DEU\",\"GRC\",\"HUN\",\"IRL\",\"ITA\",\"LVA\",\"LTU\",\"MLT\",\"NLD\",\"POL\",\"PRT\",\"ROU\",\"ESP\",\"SWE\"],\"name\":\"\",\"z\":[550.0,39633.0,91351.0,2542.0,3966.0,1896338.0,374222.0,146622.0,719648.4,346038.0,131797.5,14969.0,219849.0,415807.3,535435.0,411812.0,941.0,421351.0,539444.0,331481.0,177550.0,1308066.7,249844.0],\"type\":\"choropleth\"}],\"name\":\"1989\"},{\"data\":[{\"coloraxis\":\"coloraxis\",\"geo\":\"geo\",\"hovertemplate\":\"<b>%{hovertext}</b><br><br>Date=1990<br>Country Code=%{location}<br>captured fishes (metric tons)=%{z}<extra></extra>\",\"hovertext\":[\"Austria\",\"Belgium\",\"Bulgaria\",\"Cyprus\",\"Czech Republic\",\"Denmark\",\"Estonia\",\"Finland\",\"France\",\"Germany\",\"Greece\",\"Hungary\",\"Ireland\",\"Italy\",\"Latvia\",\"Lithuania\",\"Malta\",\"Netherlands\",\"Poland\",\"Portugal\",\"Romania\",\"Spain\",\"Sweden\"],\"locations\":[\"AUT\",\"BEL\",\"BGR\",\"CYP\",\"CZE\",\"DNK\",\"EST\",\"FIN\",\"FRA\",\"DEU\",\"GRC\",\"HUN\",\"IRL\",\"ITA\",\"LVA\",\"LTU\",\"MLT\",\"NLD\",\"POL\",\"PRT\",\"ROU\",\"ESP\",\"SWE\"],\"name\":\"\",\"z\":[533.0,41460.0,49254.0,2584.0,4304.0,1475700.0,345147.0,133020.0,699246.8,326325.0,132381.0,16234.0,248374.0,376932.17,457598.0,334414.0,796.0,406244.0,448293.0,332692.0,92784.0,1131229.2,251094.0],\"type\":\"choropleth\"}],\"name\":\"1990\"},{\"data\":[{\"coloraxis\":\"coloraxis\",\"geo\":\"geo\",\"hovertemplate\":\"<b>%{hovertext}</b><br><br>Date=1991<br>Country Code=%{location}<br>captured fishes (metric tons)=%{z}<extra></extra>\",\"hovertext\":[\"Austria\",\"Belgium\",\"Bulgaria\",\"Cyprus\",\"Czech Republic\",\"Denmark\",\"Estonia\",\"Finland\",\"France\",\"Germany\",\"Greece\",\"Hungary\",\"Ireland\",\"Italy\",\"Latvia\",\"Lithuania\",\"Malta\",\"Netherlands\",\"Poland\",\"Portugal\",\"Romania\",\"Spain\",\"Sweden\"],\"locations\":[\"AUT\",\"BEL\",\"BGR\",\"CYP\",\"CZE\",\"DNK\",\"EST\",\"FIN\",\"FRA\",\"DEU\",\"GRC\",\"HUN\",\"IRL\",\"ITA\",\"LVA\",\"LTU\",\"MLT\",\"NLD\",\"POL\",\"PRT\",\"ROU\",\"ESP\",\"SWE\"],\"name\":\"\",\"z\":[500.0,39891.0,50056.0,2921.0,4300.0,1751238.0,327876.0,119372.0,657306.5,235931.0,138644.9,8445.0,265510.0,411327.15,409957.0,468022.0,773.0,407166.0,428627.0,330855.0,95473.0,1078644.3,237072.0],\"type\":\"choropleth\"}],\"name\":\"1991\"},{\"data\":[{\"coloraxis\":\"coloraxis\",\"geo\":\"geo\",\"hovertemplate\":\"<b>%{hovertext}</b><br><br>Date=1992<br>Country Code=%{location}<br>captured fishes (metric tons)=%{z}<extra></extra>\",\"hovertext\":[\"Austria\",\"Belgium\",\"Bulgaria\",\"Croatia\",\"Cyprus\",\"Czech Republic\",\"Denmark\",\"Estonia\",\"Finland\",\"France\",\"Germany\",\"Greece\",\"Hungary\",\"Ireland\",\"Italy\",\"Latvia\",\"Lithuania\",\"Malta\",\"Netherlands\",\"Poland\",\"Portugal\",\"Romania\",\"Slovenia\",\"Spain\",\"Sweden\"],\"locations\":[\"AUT\",\"BEL\",\"BGR\",\"HRV\",\"CYP\",\"CZE\",\"DNK\",\"EST\",\"FIN\",\"FRA\",\"DEU\",\"GRC\",\"HUN\",\"IRL\",\"ITA\",\"LVA\",\"LTU\",\"MLT\",\"NLD\",\"POL\",\"PRT\",\"ROU\",\"SVN\",\"ESP\",\"SWE\"],\"name\":\"\",\"z\":[479.0,37120.0,24016.0,26732.08,9336.0,4350.0,1953946.0,128996.0,151795.0,668774.5,216899.0,152611.8,8678.0,279887.0,396467.5,156747.0,188467.0,579.0,433066.0,481775.0,300482.0,70761.0,3905.0,1091922.4,307545.0],\"type\":\"choropleth\"}],\"name\":\"1992\"},{\"data\":[{\"coloraxis\":\"coloraxis\",\"geo\":\"geo\",\"hovertemplate\":\"<b>%{hovertext}</b><br><br>Date=1993<br>Country Code=%{location}<br>captured fishes (metric tons)=%{z}<extra></extra>\",\"hovertext\":[\"Austria\",\"Belgium\",\"Bulgaria\",\"Croatia\",\"Cyprus\",\"Czech Republic\",\"Denmark\",\"Estonia\",\"Finland\",\"France\",\"Germany\",\"Greece\",\"Hungary\",\"Ireland\",\"Italy\",\"Latvia\",\"Lithuania\",\"Malta\",\"Netherlands\",\"Poland\",\"Portugal\",\"Romania\",\"Slovenia\",\"Spain\",\"Sweden\"],\"locations\":[\"AUT\",\"BEL\",\"BGR\",\"HRV\",\"CYP\",\"CZE\",\"DNK\",\"EST\",\"FIN\",\"FRA\",\"DEU\",\"GRC\",\"HUN\",\"IRL\",\"ITA\",\"LVA\",\"LTU\",\"MLT\",\"NLD\",\"POL\",\"PRT\",\"ROU\",\"SVN\",\"ESP\",\"SWE\"],\"name\":\"\",\"z\":[420.0,36089.0,13658.0,26630.27,10016.0,3185.0,1618738.0,147185.0,156336.0,681951.5,253022.0,159100.5,7886.0,310322.0,397542.4,141974.0,117171.0,845.0,461777.0,395406.0,295781.0,13819.0,2284.0,1099902.6,341897.0],\"type\":\"choropleth\"}],\"name\":\"1993\"},{\"data\":[{\"coloraxis\":\"coloraxis\",\"geo\":\"geo\",\"hovertemplate\":\"<b>%{hovertext}</b><br><br>Date=1994<br>Country Code=%{location}<br>captured fishes (metric tons)=%{z}<extra></extra>\",\"hovertext\":[\"Austria\",\"Belgium\",\"Bulgaria\",\"Croatia\",\"Cyprus\",\"Czech Republic\",\"Denmark\",\"Estonia\",\"Finland\",\"France\",\"Germany\",\"Greece\",\"Hungary\",\"Ireland\",\"Italy\",\"Latvia\",\"Lithuania\",\"Malta\",\"Netherlands\",\"Poland\",\"Portugal\",\"Romania\",\"Slovenia\",\"Spain\",\"Sweden\"],\"locations\":[\"AUT\",\"BEL\",\"BGR\",\"HRV\",\"CYP\",\"CZE\",\"DNK\",\"EST\",\"FIN\",\"FRA\",\"DEU\",\"GRC\",\"HUN\",\"IRL\",\"ITA\",\"LVA\",\"LTU\",\"MLT\",\"NLD\",\"POL\",\"PRT\",\"ROU\",\"SVN\",\"ESP\",\"SWE\"],\"name\":\"\",\"z\":[388.0,34254.0,6585.0,17481.01,9427.0,3955.0,1877765.0,124091.0,164269.0,703979.6,230179.0,181124.9,8307.0,327371.0,399338.8,138105.0,49162.0,2365.0,420170.0,438032.0,270130.0,22251.0,2346.0,1108855.3,386839.0],\"type\":\"choropleth\"}],\"name\":\"1994\"},{\"data\":[{\"coloraxis\":\"coloraxis\",\"geo\":\"geo\",\"hovertemplate\":\"<b>%{hovertext}</b><br><br>Date=1995<br>Country Code=%{location}<br>captured fishes (metric tons)=%{z}<extra></extra>\",\"hovertext\":[\"Austria\",\"Belgium\",\"Bulgaria\",\"Croatia\",\"Cyprus\",\"Czech Republic\",\"Denmark\",\"Estonia\",\"Finland\",\"France\",\"Germany\",\"Greece\",\"Hungary\",\"Ireland\",\"Italy\",\"Latvia\",\"Lithuania\",\"Malta\",\"Netherlands\",\"Poland\",\"Portugal\",\"Romania\",\"Slovenia\",\"Spain\",\"Sweden\"],\"locations\":[\"AUT\",\"BEL\",\"BGR\",\"HRV\",\"CYP\",\"CZE\",\"DNK\",\"EST\",\"FIN\",\"FRA\",\"DEU\",\"GRC\",\"HUN\",\"IRL\",\"ITA\",\"LVA\",\"LTU\",\"MLT\",\"NLD\",\"POL\",\"PRT\",\"ROU\",\"SVN\",\"ESP\",\"SWE\"],\"name\":\"\",\"z\":[404.0,35599.0,8012.0,16268.05,9320.0,3929.0,2006033.0,132576.0,167485.0,688478.3,239897.0,151716.5,7314.0,423560.0,397882.1,149194.0,57368.0,4636.0,438104.0,429372.0,267814.0,49275.0,2167.0,1195727.1,404626.0],\"type\":\"choropleth\"}],\"name\":\"1995\"},{\"data\":[{\"coloraxis\":\"coloraxis\",\"geo\":\"geo\",\"hovertemplate\":\"<b>%{hovertext}</b><br><br>Date=1996<br>Country Code=%{location}<br>captured fishes (metric tons)=%{z}<extra></extra>\",\"hovertext\":[\"Austria\",\"Belgium\",\"Bulgaria\",\"Croatia\",\"Cyprus\",\"Czech Republic\",\"Denmark\",\"Estonia\",\"Finland\",\"France\",\"Germany\",\"Greece\",\"Hungary\",\"Ireland\",\"Italy\",\"Latvia\",\"Lithuania\",\"Malta\",\"Netherlands\",\"Poland\",\"Portugal\",\"Romania\",\"Slovenia\",\"Spain\",\"Sweden\"],\"locations\":[\"AUT\",\"BEL\",\"BGR\",\"HRV\",\"CYP\",\"CZE\",\"DNK\",\"EST\",\"FIN\",\"FRA\",\"DEU\",\"GRC\",\"HUN\",\"IRL\",\"ITA\",\"LVA\",\"LTU\",\"MLT\",\"NLD\",\"POL\",\"PRT\",\"ROU\",\"SVN\",\"ESP\",\"SWE\"],\"name\":\"\",\"z\":[450.0,30823.0,8854.0,18237.0,12526.0,3524.0,1681518.0,108720.0,179079.0,643249.9,236425.0,151051.2,7606.0,365942.0,367754.5,142644.0,88514.0,9199.0,410846.0,342793.0,265434.0,18259.0,2367.0,1189566.0,371022.0],\"type\":\"choropleth\"}],\"name\":\"1996\"},{\"data\":[{\"coloraxis\":\"coloraxis\",\"geo\":\"geo\",\"hovertemplate\":\"<b>%{hovertext}</b><br><br>Date=1997<br>Country Code=%{location}<br>captured fishes (metric tons)=%{z}<extra></extra>\",\"hovertext\":[\"Austria\",\"Belgium\",\"Bulgaria\",\"Croatia\",\"Cyprus\",\"Czech Republic\",\"Denmark\",\"Estonia\",\"Finland\",\"France\",\"Germany\",\"Greece\",\"Hungary\",\"Ireland\",\"Italy\",\"Latvia\",\"Lithuania\",\"Malta\",\"Netherlands\",\"Poland\",\"Portugal\",\"Romania\",\"Slovenia\",\"Spain\",\"Sweden\"],\"locations\":[\"AUT\",\"BEL\",\"BGR\",\"HRV\",\"CYP\",\"CZE\",\"DNK\",\"EST\",\"FIN\",\"FRA\",\"DEU\",\"GRC\",\"HUN\",\"IRL\",\"ITA\",\"LVA\",\"LTU\",\"MLT\",\"NLD\",\"POL\",\"PRT\",\"ROU\",\"SVN\",\"ESP\",\"SWE\"],\"name\":\"\",\"z\":[465.0,30500.0,11237.0,17041.49,24819.0,3321.0,1826852.0,126057.0,180100.0,642803.5,259356.0,156978.1,7406.0,328050.0,345649.6,105682.0,44002.0,1040.0,451848.0,348913.0,227807.0,8446.0,2367.0,1220302.2,357391.0],\"type\":\"choropleth\"}],\"name\":\"1997\"},{\"data\":[{\"coloraxis\":\"coloraxis\",\"geo\":\"geo\",\"hovertemplate\":\"<b>%{hovertext}</b><br><br>Date=1998<br>Country Code=%{location}<br>captured fishes (metric tons)=%{z}<extra></extra>\",\"hovertext\":[\"Austria\",\"Belgium\",\"Bulgaria\",\"Croatia\",\"Cyprus\",\"Czech Republic\",\"Denmark\",\"Estonia\",\"Finland\",\"France\",\"Germany\",\"Greece\",\"Hungary\",\"Ireland\",\"Italy\",\"Latvia\",\"Lithuania\",\"Malta\",\"Netherlands\",\"Poland\",\"Portugal\",\"Romania\",\"Slovenia\",\"Spain\",\"Sweden\"],\"locations\":[\"AUT\",\"BEL\",\"BGR\",\"HRV\",\"CYP\",\"CZE\",\"DNK\",\"EST\",\"FIN\",\"FRA\",\"DEU\",\"GRC\",\"HUN\",\"IRL\",\"ITA\",\"LVA\",\"LTU\",\"MLT\",\"NLD\",\"POL\",\"PRT\",\"ROU\",\"SVN\",\"ESP\",\"SWE\"],\"name\":\"\",\"z\":[451.0,30835.0,18946.0,21946.08,19304.0,3952.0,1562541.0,121594.0,171693.0,610466.5,266092.0,110146.4,7265.0,360646.0,308484.7,102331.0,66578.0,1180.0,536658.0,242010.0,228792.0,9061.0,2228.0,1256879.3,410901.0],\"type\":\"choropleth\"}],\"name\":\"1998\"},{\"data\":[{\"coloraxis\":\"coloraxis\",\"geo\":\"geo\",\"hovertemplate\":\"<b>%{hovertext}</b><br><br>Date=1999<br>Country Code=%{location}<br>captured fishes (metric tons)=%{z}<extra></extra>\",\"hovertext\":[\"Austria\",\"Belgium\",\"Bulgaria\",\"Croatia\",\"Cyprus\",\"Czech Republic\",\"Denmark\",\"Estonia\",\"Finland\",\"France\",\"Germany\",\"Greece\",\"Hungary\",\"Ireland\",\"Italy\",\"Latvia\",\"Lithuania\",\"Malta\",\"Netherlands\",\"Poland\",\"Portugal\",\"Romania\",\"Slovenia\",\"Spain\",\"Sweden\"],\"locations\":[\"AUT\",\"BEL\",\"BGR\",\"HRV\",\"CYP\",\"CZE\",\"DNK\",\"EST\",\"FIN\",\"FRA\",\"DEU\",\"GRC\",\"HUN\",\"IRL\",\"ITA\",\"LVA\",\"LTU\",\"MLT\",\"NLD\",\"POL\",\"PRT\",\"ROU\",\"SVN\",\"ESP\",\"SWE\"],\"name\":\"\",\"z\":[432.0,29876.0,10556.0,18909.19,39638.0,4190.0,1409227.0,113112.0,160598.0,657231.8,237857.0,120591.75,7514.0,319543.0,284841.35,125389.0,72962.0,1247.0,514611.0,235724.0,212607.0,7843.0,2027.0,1191051.6,351258.0],\"type\":\"choropleth\"}],\"name\":\"1999\"},{\"data\":[{\"coloraxis\":\"coloraxis\",\"geo\":\"geo\",\"hovertemplate\":\"<b>%{hovertext}</b><br><br>Date=2000<br>Country Code=%{location}<br>captured fishes (metric tons)=%{z}<extra></extra>\",\"hovertext\":[\"Austria\",\"Belgium\",\"Bulgaria\",\"Croatia\",\"Cyprus\",\"Czech Republic\",\"Denmark\",\"Estonia\",\"Finland\",\"France\",\"Germany\",\"Greece\",\"Hungary\",\"Ireland\",\"Italy\",\"Latvia\",\"Lithuania\",\"Malta\",\"Netherlands\",\"Poland\",\"Portugal\",\"Romania\",\"Slovenia\",\"Spain\",\"Sweden\"],\"locations\":[\"AUT\",\"BEL\",\"BGR\",\"HRV\",\"CYP\",\"CZE\",\"DNK\",\"EST\",\"FIN\",\"FRA\",\"DEU\",\"GRC\",\"HUN\",\"IRL\",\"ITA\",\"LVA\",\"LTU\",\"MLT\",\"NLD\",\"POL\",\"PRT\",\"ROU\",\"SVN\",\"ESP\",\"SWE\"],\"name\":\"\",\"z\":[439.0,29800.0,8663.0,21068.24,68345.0,4654.0,1538238.0,113347.0,156458.0,694723.6,204089.0,99343.7,7101.0,312397.0,304180.85,136403.0,78988.0,1074.0,495776.0,217682.0,192120.0,7372.0,1856.0,1063207.0,338539.0],\"type\":\"choropleth\"}],\"name\":\"2000\"},{\"data\":[{\"coloraxis\":\"coloraxis\",\"geo\":\"geo\",\"hovertemplate\":\"<b>%{hovertext}</b><br><br>Date=2001<br>Country Code=%{location}<br>captured fishes (metric tons)=%{z}<extra></extra>\",\"hovertext\":[\"Austria\",\"Belgium\",\"Bulgaria\",\"Croatia\",\"Cyprus\",\"Czech Republic\",\"Denmark\",\"Estonia\",\"Finland\",\"France\",\"Germany\",\"Greece\",\"Hungary\",\"Ireland\",\"Italy\",\"Latvia\",\"Lithuania\",\"Malta\",\"Netherlands\",\"Poland\",\"Portugal\",\"Romania\",\"Slovenia\",\"Spain\",\"Sweden\"],\"locations\":[\"AUT\",\"BEL\",\"BGR\",\"HRV\",\"CYP\",\"CZE\",\"DNK\",\"EST\",\"FIN\",\"FRA\",\"DEU\",\"GRC\",\"HUN\",\"IRL\",\"ITA\",\"LVA\",\"LTU\",\"MLT\",\"NLD\",\"POL\",\"PRT\",\"ROU\",\"SVN\",\"ESP\",\"SWE\"],\"name\":\"\",\"z\":[362.0,30209.0,8674.0,18551.12,54723.0,4646.0,1514581.0,105492.0,150067.0,672078.7,209150.0,94196.4,6638.0,392530.0,312408.7,128176.0,150831.0,902.0,518163.0,225064.0,194464.0,7609.0,1827.0,1090812.3,311820.0],\"type\":\"choropleth\"}],\"name\":\"2001\"},{\"data\":[{\"coloraxis\":\"coloraxis\",\"geo\":\"geo\",\"hovertemplate\":\"<b>%{hovertext}</b><br><br>Date=2002<br>Country Code=%{location}<br>captured fishes (metric tons)=%{z}<extra></extra>\",\"hovertext\":[\"Austria\",\"Belgium\",\"Bulgaria\",\"Croatia\",\"Cyprus\",\"Czech Republic\",\"Denmark\",\"Estonia\",\"Finland\",\"France\",\"Germany\",\"Greece\",\"Hungary\",\"Ireland\",\"Italy\",\"Latvia\",\"Lithuania\",\"Malta\",\"Netherlands\",\"Poland\",\"Portugal\",\"Romania\",\"Slovenia\",\"Spain\",\"Sweden\"],\"locations\":[\"AUT\",\"BEL\",\"BGR\",\"HRV\",\"CYP\",\"CZE\",\"DNK\",\"EST\",\"FIN\",\"FRA\",\"DEU\",\"GRC\",\"HUN\",\"IRL\",\"ITA\",\"LVA\",\"LTU\",\"MLT\",\"NLD\",\"POL\",\"PRT\",\"ROU\",\"SVN\",\"ESP\",\"SWE\"],\"name\":\"\",\"z\":[350.0,29028.0,15008.0,21239.54,141079.0,4983.0,1442348.0,102365.0,142432.0,702197.0,221780.0,96078.9,6750.0,318742.0,271913.1,117553.0,150146.0,1085.0,464036.0,223440.0,203418.0,6980.0,1686.0,883740.5,294967.0],\"type\":\"choropleth\"}],\"name\":\"2002\"},{\"data\":[{\"coloraxis\":\"coloraxis\",\"geo\":\"geo\",\"hovertemplate\":\"<b>%{hovertext}</b><br><br>Date=2003<br>Country Code=%{location}<br>captured fishes (metric tons)=%{z}<extra></extra>\",\"hovertext\":[\"Austria\",\"Belgium\",\"Bulgaria\",\"Croatia\",\"Cyprus\",\"Czech Republic\",\"Denmark\",\"Estonia\",\"Finland\",\"France\",\"Germany\",\"Greece\",\"Hungary\",\"Ireland\",\"Italy\",\"Latvia\",\"Lithuania\",\"Malta\",\"Netherlands\",\"Poland\",\"Portugal\",\"Romania\",\"Slovenia\",\"Spain\",\"Sweden\"],\"locations\":[\"AUT\",\"BEL\",\"BGR\",\"HRV\",\"CYP\",\"CZE\",\"DNK\",\"EST\",\"FIN\",\"FRA\",\"DEU\",\"GRC\",\"HUN\",\"IRL\",\"ITA\",\"LVA\",\"LTU\",\"MLT\",\"NLD\",\"POL\",\"PRT\",\"ROU\",\"SVN\",\"ESP\",\"SWE\"],\"name\":\"\",\"z\":[372.0,26831.0,12035.0,19958.04,47740.0,5127.0,1031221.0,80208.0,122107.0,709159.7,257657.0,93781.4,6536.0,301226.0,297710.8,114543.0,157205.0,1138.0,526281.0,180399.0,212821.0,9890.0,1282.0,889683.4,286880.0],\"type\":\"choropleth\"}],\"name\":\"2003\"},{\"data\":[{\"coloraxis\":\"coloraxis\",\"geo\":\"geo\",\"hovertemplate\":\"<b>%{hovertext}</b><br><br>Date=2004<br>Country Code=%{location}<br>captured fishes (metric tons)=%{z}<extra></extra>\",\"hovertext\":[\"Austria\",\"Belgium\",\"Bulgaria\",\"Croatia\",\"Cyprus\",\"Czech Republic\",\"Denmark\",\"Estonia\",\"Finland\",\"France\",\"Germany\",\"Greece\",\"Hungary\",\"Ireland\",\"Italy\",\"Latvia\",\"Lithuania\",\"Malta\",\"Netherlands\",\"Poland\",\"Portugal\",\"Romania\",\"Slovenia\",\"Spain\",\"Sweden\"],\"locations\":[\"AUT\",\"BEL\",\"BGR\",\"HRV\",\"CYP\",\"CZE\",\"DNK\",\"EST\",\"FIN\",\"FRA\",\"DEU\",\"GRC\",\"HUN\",\"IRL\",\"ITA\",\"LVA\",\"LTU\",\"MLT\",\"NLD\",\"POL\",\"PRT\",\"ROU\",\"SVN\",\"ESP\",\"SWE\"],\"name\":\"\",\"z\":[400.0,26754.0,8252.0,30172.12,78724.0,4528.0,1090596.0,88625.0,135713.0,665046.2,258348.0,93891.4,7242.0,310578.0,288945.8,125391.0,161988.0,1138.0,521736.0,192108.0,222563.0,5095.0,1023.0,811999.8,269931.0],\"type\":\"choropleth\"}],\"name\":\"2004\"},{\"data\":[{\"coloraxis\":\"coloraxis\",\"geo\":\"geo\",\"hovertemplate\":\"<b>%{hovertext}</b><br><br>Date=2005<br>Country Code=%{location}<br>captured fishes (metric tons)=%{z}<extra></extra>\",\"hovertext\":[\"Austria\",\"Belgium\",\"Bulgaria\",\"Croatia\",\"Cyprus\",\"Czech Republic\",\"Denmark\",\"Estonia\",\"Finland\",\"France\",\"Germany\",\"Greece\",\"Hungary\",\"Ireland\",\"Italy\",\"Latvia\",\"Lithuania\",\"Malta\",\"Netherlands\",\"Poland\",\"Portugal\",\"Romania\",\"Slovenia\",\"Spain\",\"Sweden\"],\"locations\":[\"AUT\",\"BEL\",\"BGR\",\"HRV\",\"CYP\",\"CZE\",\"DNK\",\"EST\",\"FIN\",\"FRA\",\"DEU\",\"GRC\",\"HUN\",\"IRL\",\"ITA\",\"LVA\",\"LTU\",\"MLT\",\"NLD\",\"POL\",\"PRT\",\"ROU\",\"SVN\",\"ESP\",\"SWE\"],\"name\":\"\",\"z\":[370.0,24586.0,5434.0,34695.09,61313.0,4242.0,910598.0,99581.0,132045.0,598621.8,281372.0,92430.5,7609.0,297181.0,298606.1,150618.0,139785.0,1406.0,555756.0,155247.0,221086.0,6053.0,1227.0,855290.1,256359.0],\"type\":\"choropleth\"}],\"name\":\"2005\"},{\"data\":[{\"coloraxis\":\"coloraxis\",\"geo\":\"geo\",\"hovertemplate\":\"<b>%{hovertext}</b><br><br>Date=2006<br>Country Code=%{location}<br>captured fishes (metric tons)=%{z}<extra></extra>\",\"hovertext\":[\"Austria\",\"Belgium\",\"Bulgaria\",\"Croatia\",\"Cyprus\",\"Czech Republic\",\"Denmark\",\"Estonia\",\"Finland\",\"France\",\"Germany\",\"Greece\",\"Hungary\",\"Ireland\",\"Italy\",\"Latvia\",\"Lithuania\",\"Malta\",\"Netherlands\",\"Poland\",\"Portugal\",\"Romania\",\"Slovenia\",\"Spain\",\"Sweden\"],\"locations\":[\"AUT\",\"BEL\",\"BGR\",\"HRV\",\"CYP\",\"CZE\",\"DNK\",\"EST\",\"FIN\",\"FRA\",\"DEU\",\"GRC\",\"HUN\",\"IRL\",\"ITA\",\"LVA\",\"LTU\",\"MLT\",\"NLD\",\"POL\",\"PRT\",\"ROU\",\"SVN\",\"ESP\",\"SWE\"],\"name\":\"\",\"z\":[360.0,23048.0,7544.0,37876.13,29940.0,4646.0,867721.0,86884.0,149603.0,595229.9,293046.0,98239.7,7543.0,241288.0,317853.7,140389.0,154548.0,1332.0,513331.0,145479.0,229838.0,6663.0,1133.17,962054.1,269253.0],\"type\":\"choropleth\"}],\"name\":\"2006\"},{\"data\":[{\"coloraxis\":\"coloraxis\",\"geo\":\"geo\",\"hovertemplate\":\"<b>%{hovertext}</b><br><br>Date=2007<br>Country Code=%{location}<br>captured fishes (metric tons)=%{z}<extra></extra>\",\"hovertext\":[\"Austria\",\"Belgium\",\"Bulgaria\",\"Croatia\",\"Cyprus\",\"Czech Republic\",\"Denmark\",\"Estonia\",\"Finland\",\"France\",\"Germany\",\"Greece\",\"Hungary\",\"Ireland\",\"Italy\",\"Latvia\",\"Lithuania\",\"Malta\",\"Netherlands\",\"Poland\",\"Portugal\",\"Romania\",\"Slovenia\",\"Spain\",\"Sweden\"],\"locations\":[\"AUT\",\"BEL\",\"BGR\",\"HRV\",\"CYP\",\"CZE\",\"DNK\",\"EST\",\"FIN\",\"FRA\",\"DEU\",\"GRC\",\"HUN\",\"IRL\",\"ITA\",\"LVA\",\"LTU\",\"MLT\",\"NLD\",\"POL\",\"PRT\",\"ROU\",\"SVN\",\"ESP\",\"SWE\"],\"name\":\"\",\"z\":[350.0,24541.0,8903.0,40228.63,2446.0,4276.0,653053.0,99444.0,164895.0,553733.7,290538.0,96095.8,7024.0,244370.0,289486.45,155276.0,187513.0,1235.0,487765.0,151820.0,256683.0,6183.0,1112.45,820313.1,238256.0],\"type\":\"choropleth\"}],\"name\":\"2007\"},{\"data\":[{\"coloraxis\":\"coloraxis\",\"geo\":\"geo\",\"hovertemplate\":\"<b>%{hovertext}</b><br><br>Date=2008<br>Country Code=%{location}<br>captured fishes (metric tons)=%{z}<extra></extra>\",\"hovertext\":[\"Austria\",\"Belgium\",\"Bulgaria\",\"Croatia\",\"Cyprus\",\"Czech Republic\",\"Denmark\",\"Estonia\",\"Finland\",\"France\",\"Germany\",\"Greece\",\"Hungary\",\"Ireland\",\"Italy\",\"Latvia\",\"Lithuania\",\"Malta\",\"Netherlands\",\"Poland\",\"Portugal\",\"Romania\",\"Slovenia\",\"Spain\",\"Sweden\"],\"locations\":[\"AUT\",\"BEL\",\"BGR\",\"HRV\",\"CYP\",\"CZE\",\"DNK\",\"EST\",\"FIN\",\"FRA\",\"DEU\",\"GRC\",\"HUN\",\"IRL\",\"ITA\",\"LVA\",\"LTU\",\"MLT\",\"NLD\",\"POL\",\"PRT\",\"ROU\",\"SVN\",\"ESP\",\"SWE\"],\"name\":\"\",\"z\":[350.0,22609.0,8864.0,49068.08,1996.0,4164.0,690584.0,102580.0,149026.0,500203.8,274289.0,85885.3,7394.0,234819.0,237628.5,157934.0,182760.0,1391.0,440291.0,142496.0,224481.0,5410.0,881.71,923454.9,231337.0],\"type\":\"choropleth\"}],\"name\":\"2008\"},{\"data\":[{\"coloraxis\":\"coloraxis\",\"geo\":\"geo\",\"hovertemplate\":\"<b>%{hovertext}</b><br><br>Date=2009<br>Country Code=%{location}<br>captured fishes (metric tons)=%{z}<extra></extra>\",\"hovertext\":[\"Austria\",\"Belgium\",\"Bulgaria\",\"Croatia\",\"Cyprus\",\"Czech Republic\",\"Denmark\",\"Estonia\",\"Finland\",\"France\",\"Germany\",\"Greece\",\"Hungary\",\"Ireland\",\"Italy\",\"Latvia\",\"Lithuania\",\"Malta\",\"Netherlands\",\"Poland\",\"Portugal\",\"Romania\",\"Slovenia\",\"Spain\",\"Sweden\"],\"locations\":[\"AUT\",\"BEL\",\"BGR\",\"HRV\",\"CYP\",\"CZE\",\"DNK\",\"EST\",\"FIN\",\"FRA\",\"DEU\",\"GRC\",\"HUN\",\"IRL\",\"ITA\",\"LVA\",\"LTU\",\"MLT\",\"NLD\",\"POL\",\"PRT\",\"ROU\",\"SVN\",\"ESP\",\"SWE\"],\"name\":\"\",\"z\":[350.0,21737.0,8978.0,55790.5,1409.0,4112.0,777752.0,98504.0,155101.0,440359.3,244055.0,83181.8,6366.0,298584.0,254520.0,163213.0,172692.0,1641.0,386942.0,223893.0,199165.0,4020.0,1035.26,932443.3,203416.0],\"type\":\"choropleth\"}],\"name\":\"2009\"},{\"data\":[{\"coloraxis\":\"coloraxis\",\"geo\":\"geo\",\"hovertemplate\":\"<b>%{hovertext}</b><br><br>Date=2010<br>Country Code=%{location}<br>captured fishes (metric tons)=%{z}<extra></extra>\",\"hovertext\":[\"Austria\",\"Belgium\",\"Bulgaria\",\"Croatia\",\"Cyprus\",\"Czech Republic\",\"Denmark\",\"Estonia\",\"Finland\",\"France\",\"Germany\",\"Greece\",\"Hungary\",\"Ireland\",\"Italy\",\"Latvia\",\"Lithuania\",\"Malta\",\"Netherlands\",\"Poland\",\"Portugal\",\"Romania\",\"Slovenia\",\"Spain\",\"Sweden\"],\"locations\":[\"AUT\",\"BEL\",\"BGR\",\"HRV\",\"CYP\",\"CZE\",\"DNK\",\"EST\",\"FIN\",\"FRA\",\"DEU\",\"GRC\",\"HUN\",\"IRL\",\"ITA\",\"LVA\",\"LTU\",\"MLT\",\"NLD\",\"POL\",\"PRT\",\"ROU\",\"SVN\",\"ESP\",\"SWE\"],\"name\":\"\",\"z\":[350.0,22418.0,10769.0,52867.3,1395.0,3990.0,828089.0,95731.0,156447.0,452253.5,243150.0,70179.8,6216.0,348441.0,234963.5,164819.0,149851.0,1836.0,434457.0,189722.0,223546.0,2688.0,941.0,975413.6,212035.0],\"type\":\"choropleth\"}],\"name\":\"2010\"},{\"data\":[{\"coloraxis\":\"coloraxis\",\"geo\":\"geo\",\"hovertemplate\":\"<b>%{hovertext}</b><br><br>Date=2011<br>Country Code=%{location}<br>captured fishes (metric tons)=%{z}<extra></extra>\",\"hovertext\":[\"Austria\",\"Belgium\",\"Bulgaria\",\"Croatia\",\"Cyprus\",\"Czech Republic\",\"Denmark\",\"Estonia\",\"Finland\",\"France\",\"Germany\",\"Greece\",\"Hungary\",\"Ireland\",\"Italy\",\"Latvia\",\"Lithuania\",\"Malta\",\"Netherlands\",\"Poland\",\"Portugal\",\"Romania\",\"Slovenia\",\"Spain\",\"Sweden\"],\"locations\":[\"AUT\",\"BEL\",\"BGR\",\"HRV\",\"CYP\",\"CZE\",\"DNK\",\"EST\",\"FIN\",\"FRA\",\"DEU\",\"GRC\",\"HUN\",\"IRL\",\"ITA\",\"LVA\",\"LTU\",\"MLT\",\"NLD\",\"POL\",\"PRT\",\"ROU\",\"SVN\",\"ESP\",\"SWE\"],\"name\":\"\",\"z\":[350.0,22477.0,9623.26,71396.06,1188.0,3859.0,716387.0,81580.0,154000.0,502158.02,233888.0,63246.49,7048.0,243466.95,217841.71,154310.0,138557.0,1920.0,370089.07,198308.0,216159.0,3254.0,890.61,1011433.2,181321.0],\"type\":\"choropleth\"}],\"name\":\"2011\"},{\"data\":[{\"coloraxis\":\"coloraxis\",\"geo\":\"geo\",\"hovertemplate\":\"<b>%{hovertext}</b><br><br>Date=2012<br>Country Code=%{location}<br>captured fishes (metric tons)=%{z}<extra></extra>\",\"hovertext\":[\"Austria\",\"Belgium\",\"Bulgaria\",\"Croatia\",\"Cyprus\",\"Czech Republic\",\"Denmark\",\"Estonia\",\"Finland\",\"France\",\"Germany\",\"Greece\",\"Hungary\",\"Ireland\",\"Italy\",\"Latvia\",\"Lithuania\",\"Malta\",\"Netherlands\",\"Poland\",\"Portugal\",\"Romania\",\"Slovenia\",\"Spain\",\"Sweden\"],\"locations\":[\"AUT\",\"BEL\",\"BGR\",\"HRV\",\"CYP\",\"CZE\",\"DNK\",\"EST\",\"FIN\",\"FRA\",\"DEU\",\"GRC\",\"HUN\",\"IRL\",\"ITA\",\"LVA\",\"LTU\",\"MLT\",\"NLD\",\"POL\",\"PRT\",\"ROU\",\"SVN\",\"ESP\",\"SWE\"],\"name\":\"\",\"z\":[300.0,24674.0,9581.1,64389.18,1323.0,4033.0,502790.0,66613.0,162498.0,473308.79,214408.0,61044.2,6717.0,305427.85,202444.39,94404.0,66970.0,2200.11,347264.93,198385.0,198738.0,3960.0,485.19,931427.16,151609.0],\"type\":\"choropleth\"}],\"name\":\"2012\"},{\"data\":[{\"coloraxis\":\"coloraxis\",\"geo\":\"geo\",\"hovertemplate\":\"<b>%{hovertext}</b><br><br>Date=2013<br>Country Code=%{location}<br>captured fishes (metric tons)=%{z}<extra></extra>\",\"hovertext\":[\"Austria\",\"Belgium\",\"Bulgaria\",\"Croatia\",\"Cyprus\",\"Czech Republic\",\"Denmark\",\"Estonia\",\"Finland\",\"France\",\"Germany\",\"Greece\",\"Hungary\",\"Ireland\",\"Italy\",\"Latvia\",\"Lithuania\",\"Malta\",\"Netherlands\",\"Poland\",\"Portugal\",\"Romania\",\"Slovenia\",\"Spain\",\"Sweden\"],\"locations\":[\"AUT\",\"BEL\",\"BGR\",\"HRV\",\"CYP\",\"CZE\",\"DNK\",\"EST\",\"FIN\",\"FRA\",\"DEU\",\"GRC\",\"HUN\",\"IRL\",\"ITA\",\"LVA\",\"LTU\",\"MLT\",\"NLD\",\"POL\",\"PRT\",\"ROU\",\"SVN\",\"ESP\",\"SWE\"],\"name\":\"\",\"z\":[350.0,25679.0,9669.93,75832.34,1183.0,3761.0,668480.0,69454.0,167915.0,540522.92,235116.0,64169.77,6472.0,275949.83,177915.51,116029.0,90871.0,2355.99,327437.0,214170.0,196558.0,5218.0,400.22,990362.52,188951.0],\"type\":\"choropleth\"}],\"name\":\"2013\"},{\"data\":[{\"coloraxis\":\"coloraxis\",\"geo\":\"geo\",\"hovertemplate\":\"<b>%{hovertext}</b><br><br>Date=2014<br>Country Code=%{location}<br>captured fishes (metric tons)=%{z}<extra></extra>\",\"hovertext\":[\"Austria\",\"Belgium\",\"Bulgaria\",\"Croatia\",\"Cyprus\",\"Czech Republic\",\"Denmark\",\"Estonia\",\"Finland\",\"France\",\"Germany\",\"Greece\",\"Hungary\",\"Ireland\",\"Italy\",\"Latvia\",\"Lithuania\",\"Malta\",\"Netherlands\",\"Poland\",\"Portugal\",\"Romania\",\"Slovenia\",\"Spain\",\"Sweden\"],\"locations\":[\"AUT\",\"BEL\",\"BGR\",\"HRV\",\"CYP\",\"CZE\",\"DNK\",\"EST\",\"FIN\",\"FRA\",\"DEU\",\"GRC\",\"HUN\",\"IRL\",\"ITA\",\"LVA\",\"LTU\",\"MLT\",\"NLD\",\"POL\",\"PRT\",\"ROU\",\"SVN\",\"ESP\",\"SWE\"],\"name\":\"\",\"z\":[350.0,26793.0,8687.39,80369.89,1268.0,3812.0,745146.0,68883.0,183147.0,558431.73,242743.0,60173.29,7463.0,306423.74,183451.41,119536.0,150067.0,2405.6,371315.0,191598.0,183664.0,6248.0,410.5,1064822.62,181574.0],\"type\":\"choropleth\"}],\"name\":\"2014\"},{\"data\":[{\"coloraxis\":\"coloraxis\",\"geo\":\"geo\",\"hovertemplate\":\"<b>%{hovertext}</b><br><br>Date=2015<br>Country Code=%{location}<br>captured fishes (metric tons)=%{z}<extra></extra>\",\"hovertext\":[\"Austria\",\"Belgium\",\"Bulgaria\",\"Croatia\",\"Cyprus\",\"Czech Republic\",\"Denmark\",\"Estonia\",\"Finland\",\"France\",\"Germany\",\"Greece\",\"Hungary\",\"Ireland\",\"Italy\",\"Latvia\",\"Lithuania\",\"Malta\",\"Netherlands\",\"Poland\",\"Portugal\",\"Romania\",\"Slovenia\",\"Spain\",\"Sweden\"],\"locations\":[\"AUT\",\"BEL\",\"BGR\",\"HRV\",\"CYP\",\"CZE\",\"DNK\",\"EST\",\"FIN\",\"FRA\",\"DEU\",\"GRC\",\"HUN\",\"IRL\",\"ITA\",\"LVA\",\"LTU\",\"MLT\",\"NLD\",\"POL\",\"PRT\",\"ROU\",\"SVN\",\"ESP\",\"SWE\"],\"name\":\"\",\"z\":[350.0,24721.0,8828.73,73947.99,1488.0,3841.0,869013.0,73195.0,183037.0,508727.24,261744.0,65426.6,5926.0,264370.53,198768.91,81340.0,85144.0,2563.07,384465.0,205428.0,190100.0,9307.0,343.39,978062.95,211963.0],\"type\":\"choropleth\"}],\"name\":\"2015\"},{\"data\":[{\"coloraxis\":\"coloraxis\",\"geo\":\"geo\",\"hovertemplate\":\"<b>%{hovertext}</b><br><br>Date=2016<br>Country Code=%{location}<br>captured fishes (metric tons)=%{z}<extra></extra>\",\"hovertext\":[\"Austria\",\"Belgium\",\"Bulgaria\",\"Croatia\",\"Cyprus\",\"Czech Republic\",\"Denmark\",\"Estonia\",\"Finland\",\"France\",\"Germany\",\"Greece\",\"Hungary\",\"Ireland\",\"Italy\",\"Latvia\",\"Lithuania\",\"Malta\",\"Netherlands\",\"Poland\",\"Portugal\",\"Romania\",\"Slovenia\",\"Spain\",\"Sweden\"],\"locations\":[\"AUT\",\"BEL\",\"BGR\",\"HRV\",\"CYP\",\"CZE\",\"DNK\",\"EST\",\"FIN\",\"FRA\",\"DEU\",\"GRC\",\"HUN\",\"IRL\",\"ITA\",\"LVA\",\"LTU\",\"MLT\",\"NLD\",\"POL\",\"PRT\",\"ROU\",\"SVN\",\"ESP\",\"SWE\"],\"name\":\"\",\"z\":[350.0,26970.0,8614.22,73305.74,1494.0,3507.0,670328.0,75656.0,193153.0,562495.37,271200.0,76570.3,5048.0,257518.44,197090.67,114278.0,106945.0,3562.27,370125.0,218115.0,186545.0,12728.0,310.52,917206.16,205465.0],\"type\":\"choropleth\"}],\"name\":\"2016\"},{\"data\":[{\"coloraxis\":\"coloraxis\",\"geo\":\"geo\",\"hovertemplate\":\"<b>%{hovertext}</b><br><br>Date=2017<br>Country Code=%{location}<br>captured fishes (metric tons)=%{z}<extra></extra>\",\"hovertext\":[\"Austria\",\"Belgium\",\"Bulgaria\",\"Croatia\",\"Cyprus\",\"Czech Republic\",\"Denmark\",\"Estonia\",\"Finland\",\"France\",\"Germany\",\"Greece\",\"Hungary\",\"Ireland\",\"Italy\",\"Latvia\",\"Lithuania\",\"Malta\",\"Netherlands\",\"Poland\",\"Portugal\",\"Romania\",\"Slovenia\",\"Spain\",\"Sweden\"],\"locations\":[\"AUT\",\"BEL\",\"BGR\",\"HRV\",\"CYP\",\"CZE\",\"DNK\",\"EST\",\"FIN\",\"FRA\",\"DEU\",\"GRC\",\"HUN\",\"IRL\",\"ITA\",\"LVA\",\"LTU\",\"MLT\",\"NLD\",\"POL\",\"PRT\",\"ROU\",\"SVN\",\"ESP\",\"SWE\"],\"name\":\"\",\"z\":[350.0,24649.0,8559.04,69946.39,1756.0,3557.0,904572.0,82820.0,191059.0,540753.3,248237.0,78183.0,5607.0,276329.84,197389.39,118140.39,89770.0,2163.62,500115.0,226396.0,182615.0,14998.0,280.07,953764.22,228726.0],\"type\":\"choropleth\"}],\"name\":\"2017\"},{\"data\":[{\"coloraxis\":\"coloraxis\",\"geo\":\"geo\",\"hovertemplate\":\"<b>%{hovertext}</b><br><br>Date=2018<br>Country Code=%{location}<br>captured fishes (metric tons)=%{z}<extra></extra>\",\"hovertext\":[\"Austria\",\"Belgium\",\"Bulgaria\",\"Croatia\",\"Cyprus\",\"Czech Republic\",\"Denmark\",\"Estonia\",\"Finland\",\"France\",\"Germany\",\"Greece\",\"Hungary\",\"Ireland\",\"Italy\",\"Latvia\",\"Lithuania\",\"Malta\",\"Netherlands\",\"Poland\",\"Portugal\",\"Romania\",\"Slovenia\",\"Spain\",\"Sweden\"],\"locations\":[\"AUT\",\"BEL\",\"BGR\",\"HRV\",\"CYP\",\"CZE\",\"DNK\",\"EST\",\"FIN\",\"FRA\",\"DEU\",\"GRC\",\"HUN\",\"IRL\",\"ITA\",\"LVA\",\"LTU\",\"MLT\",\"NLD\",\"POL\",\"PRT\",\"ROU\",\"SVN\",\"ESP\",\"SWE\"],\"name\":\"\",\"z\":[350.0,23005.0,8598.91,70558.0,1490.0,3650.0,789283.0,87051.0,175623.39,607466.48,279213.0,77236.95,5234.0,251240.96,206936.7,135467.96,75019.25,2731.85,411686.0,222704.0,178270.0,11179.0,263.74,939484.94,221662.0],\"type\":\"choropleth\"}],\"name\":\"2018\"},{\"data\":[{\"coloraxis\":\"coloraxis\",\"geo\":\"geo\",\"hovertemplate\":\"<b>%{hovertext}</b><br><br>Date=2019<br>Country Code=%{location}<br>captured fishes (metric tons)=%{z}<extra></extra>\",\"hovertext\":[\"Austria\",\"Belgium\",\"Bulgaria\",\"Croatia\",\"Cyprus\",\"Czech Republic\",\"Denmark\",\"Estonia\",\"Finland\",\"France\",\"Germany\",\"Greece\",\"Hungary\",\"Ireland\",\"Italy\",\"Latvia\",\"Lithuania\",\"Malta\",\"Netherlands\",\"Poland\",\"Portugal\",\"Romania\",\"Slovenia\",\"Spain\",\"Sweden\"],\"locations\":[\"AUT\",\"BEL\",\"BGR\",\"HRV\",\"CYP\",\"CZE\",\"DNK\",\"EST\",\"FIN\",\"FRA\",\"DEU\",\"GRC\",\"HUN\",\"IRL\",\"ITA\",\"LVA\",\"LTU\",\"MLT\",\"NLD\",\"POL\",\"PRT\",\"ROU\",\"SVN\",\"ESP\",\"SWE\"],\"name\":\"\",\"z\":[350.0,21350.0,10329.65,64582.41,1500.14,3721.0,628907.0,86755.0,164498.17,530844.16,224408.8,83172.22,4816.0,238443.64,187504.5,110898.85,102219.91,2488.64,320280.0,211443.0,185049.08,10927.4,281.36,884741.85,184337.0],\"type\":\"choropleth\"}],\"name\":\"2019\"},{\"data\":[{\"coloraxis\":\"coloraxis\",\"geo\":\"geo\",\"hovertemplate\":\"<b>%{hovertext}</b><br><br>Date=2020<br>Country Code=%{location}<br>captured fishes (metric tons)=%{z}<extra></extra>\",\"hovertext\":[\"Austria\",\"Belgium\",\"Bulgaria\",\"Croatia\",\"Cyprus\",\"Czech Republic\",\"Denmark\",\"Estonia\",\"Finland\",\"France\",\"Germany\",\"Greece\",\"Hungary\",\"Ireland\",\"Italy\",\"Latvia\",\"Lithuania\",\"Malta\",\"Netherlands\",\"Poland\",\"Portugal\",\"Romania\",\"Slovenia\",\"Spain\",\"Sweden\"],\"locations\":[\"AUT\",\"BEL\",\"BGR\",\"HRV\",\"CYP\",\"CZE\",\"DNK\",\"EST\",\"FIN\",\"FRA\",\"DEU\",\"GRC\",\"HUN\",\"IRL\",\"ITA\",\"LVA\",\"LTU\",\"MLT\",\"NLD\",\"POL\",\"PRT\",\"ROU\",\"SVN\",\"ESP\",\"SWE\"],\"name\":\"\",\"z\":[350.0,19953.8,6295.8,71625.09,1265.81,3729.0,732889.62,74142.44,141704.0,465872.1,212110.66,71476.18,5406.42,208502.06,141777.46,103484.0,91083.37,2103.23,305093.0,206390.3,159947.96,7972.88,312.02,804395.68,179642.8],\"type\":\"choropleth\"}],\"name\":\"2020\"}]);\n",
       "                        }).then(function(){\n",
       "                            \n",
       "var gd = document.getElementById('cb15cd05-4577-4c78-8bf4-6b31c131bd79');\n",
       "var x = new MutationObserver(function (mutations, observer) {{\n",
       "        var display = window.getComputedStyle(gd).display;\n",
       "        if (!display || display === 'none') {{\n",
       "            console.log([gd, 'removed!']);\n",
       "            Plotly.purge(gd);\n",
       "            observer.disconnect();\n",
       "        }}\n",
       "}});\n",
       "\n",
       "// Listen for the removal of the full notebook cells\n",
       "var notebookContainer = gd.closest('#notebook-container');\n",
       "if (notebookContainer) {{\n",
       "    x.observe(notebookContainer, {childList: true});\n",
       "}}\n",
       "\n",
       "// Listen for the clearing of the current output cell\n",
       "var outputEl = gd.closest('.output');\n",
       "if (outputEl) {{\n",
       "    x.observe(outputEl, {childList: true});\n",
       "}}\n",
       "\n",
       "                        })                };                });            </script>        </div>"
      ]
     },
     "metadata": {},
     "output_type": "display_data"
    }
   ],
   "source": [
    "fig = px.choropleth(df_eu,\n",
    "                    locations='Country Code',\n",
    "                    color='captured fishes (metric tons)',\n",
    "                    hover_name='Country Name',\n",
    "                    animation_frame='Date',\n",
    "                    title='Captured Fishes by Country',\n",
    "                    height=700,\n",
    "                    color_continuous_scale=px.colors.sequential.Plasma)\n",
    "\n",
    "fig.update_layout(title_text= \"Fish Catches In E.U Countries\",\n",
    "               geo_scope='europe')\n",
    "fig.show()\n"
   ]
  },
  {
   "cell_type": "code",
   "execution_count": 28,
   "id": "2e6f4f8a",
   "metadata": {},
   "outputs": [
    {
     "name": "stdout",
     "output_type": "stream",
     "text": [
      "      Country Name  captured fishes (metric tons)\n",
      "0          Austria                   1.137131e+03\n",
      "1          Belgium                   4.003700e+04\n",
      "2         Bulgaria                   4.517580e+04\n",
      "3          Croatia                   4.347286e+04\n",
      "4           Cyprus                   1.122507e+04\n",
      "5   Czech Republic                   2.785410e+03\n",
      "6          Denmark                   1.305229e+06\n",
      "7          Estonia                   1.298748e+05\n",
      "8          Finland                   1.363845e+05\n",
      "9           France                   6.549975e+05\n",
      "10         Germany                   4.562096e+05\n",
      "11          Greece                   1.009399e+05\n",
      "12         Hungary                   9.133974e+03\n",
      "13         Ireland                   2.069072e+05\n",
      "14           Italy                   3.303542e+05\n",
      "15          Latvia                   1.729840e+05\n",
      "16       Lithuania                   1.513018e+05\n",
      "17           Malta                   1.648400e+03\n",
      "18     Netherlands                   3.640539e+05\n",
      "19          Poland                   3.783486e+05\n",
      "20        Portugal                   3.182807e+05\n",
      "21         Romania                   5.872928e+04\n",
      "22        Slovenia                   1.299076e+03\n",
      "23           Spain                   1.127576e+06\n",
      "24          Sweden                   2.617838e+05\n"
     ]
    }
   ],
   "source": [
    "# Group the data by country\n",
    "df_grouped = df_eu.groupby(['Country Name'])\n",
    "\n",
    "# Calculate the average for each group\n",
    "df_averages = df_grouped['captured fishes (metric tons)'].mean()\n",
    "\n",
    "# Reset the index to make the country column a regular column\n",
    "df_averages = df_averages.reset_index()\n",
    "\n",
    "# Print the resulting dataframe\n",
    "print(df_averages)\n"
   ]
  },
  {
   "cell_type": "code",
   "execution_count": null,
   "id": "32aa1175",
   "metadata": {},
   "outputs": [],
   "source": []
  },
  {
   "cell_type": "code",
   "execution_count": null,
   "id": "aaa5e45a",
   "metadata": {},
   "outputs": [],
   "source": []
  },
  {
   "cell_type": "code",
   "execution_count": null,
   "id": "f4e8597d",
   "metadata": {},
   "outputs": [],
   "source": []
  }
 ],
 "metadata": {
  "kernelspec": {
   "display_name": "Python 3 (ipykernel)",
   "language": "python",
   "name": "python3"
  },
  "language_info": {
   "codemirror_mode": {
    "name": "ipython",
    "version": 3
   },
   "file_extension": ".py",
   "mimetype": "text/x-python",
   "name": "python",
   "nbconvert_exporter": "python",
   "pygments_lexer": "ipython3",
   "version": "3.9.12"
  },
  "varInspector": {
   "cols": {
    "lenName": 16,
    "lenType": 16,
    "lenVar": 40
   },
   "kernels_config": {
    "python": {
     "delete_cmd_postfix": "",
     "delete_cmd_prefix": "del ",
     "library": "var_list.py",
     "varRefreshCmd": "print(var_dic_list())"
    },
    "r": {
     "delete_cmd_postfix": ") ",
     "delete_cmd_prefix": "rm(",
     "library": "var_list.r",
     "varRefreshCmd": "cat(var_dic_list()) "
    }
   },
   "types_to_exclude": [
    "module",
    "function",
    "builtin_function_or_method",
    "instance",
    "_Feature"
   ],
   "window_display": false
  }
 },
 "nbformat": 4,
 "nbformat_minor": 5
}
